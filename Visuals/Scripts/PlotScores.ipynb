{
 "cells": [
  {
   "cell_type": "code",
   "execution_count": 8,
   "metadata": {},
   "outputs": [],
   "source": [
    "import pandas as pd\n",
    "import numpy as np\n",
    "from plotly.subplots import make_subplots\n",
    "import plotly.graph_objects as go\n",
    "import plotly.express as px\n",
    "import plotly.io as pio\n",
    "import nltk\n",
    "from sklearn.feature_extraction.text import CountVectorizer\n",
    "from sklearn.metrics import f1_score\n",
    "from sklearn.metrics import confusion_matrix\n",
    "from glob import glob\n",
    "\n"
   ]
  },
  {
   "cell_type": "code",
   "execution_count": 9,
   "metadata": {},
   "outputs": [],
   "source": [
    "def linear_scoring():\n",
    "    def adapt_fasttext(x):\n",
    "        if x == 'Fasttext_Wiki':\n",
    "            return 'Fasttext'\n",
    "        else:\n",
    "            return x\n",
    "    scores = pd.read_csv('/home/sami/FLAIR/Results/LINEAR/LinearScores.csv')\n",
    "    scores.Embedding = scores.Embedding.apply(lambda x : adapt_fasttext(x))\n",
    "    scores.to_csv('/home/sami/FLAIR/Results/LINEAR/LinearScores.csv', index = False)\n",
    "    return scores\n",
    "ls = linear_scoring() \n",
    "def transformer_scoring():\n",
    "    df_list = []\n",
    "    for idx in range(5):\n",
    "        for file in glob(f'/home/sami/FLAIR/Results/TRANSFORMER/E{idx}/*scores.csv'):\n",
    "            df_list.append(pd.read_csv(file))\n",
    "    transformer_scores = pd.concat(df_list)\n",
    "    transformer_scores.to_csv('/home/sami/FLAIR/Results/TRANSFORMER/TransformerScores.csv', index = False)\n",
    "    return transformer_scores\n",
    "ts = transformer_scoring()"
   ]
  },
  {
   "cell_type": "code",
   "execution_count": 10,
   "metadata": {},
   "outputs": [],
   "source": [
    "def get_experiment(experiment:str):\n",
    "    df = pd.read_csv('/home/sami/FLAIR/Data/Experiment_Frame.csv')\n",
    "    return df[df[experiment].notna()]\n",
    "def parse_doc_type(doc_type):\n",
    "    if doc_type=='SOCIAL_MEDIA':\n",
    "        return 'Twitter'\n",
    "    if doc_type=='PROTOKOLL':\n",
    "        return 'Protocol'\n",
    "    if doc_type=='NEWSPAPER':\n",
    "        return 'Newspaper'\n",
    "    if doc_type=='MANIFESTO':\n",
    "        return 'Manifesto'\n",
    "    if doc_type=='TALKSHOW':\n",
    "        return 'Talkshow'"
   ]
  },
  {
   "cell_type": "code",
   "execution_count": 11,
   "metadata": {},
   "outputs": [],
   "source": [
    "def add_trace_linear(df, fig, embedding, model, row, col):\n",
    "    if embedding == 'BoW':\n",
    "        show_legend = True\n",
    "    else:\n",
    "        show_legend = False\n",
    "    colors = [\"#E69F00\", \"#56B4E9\", \"#009E73\", \"#F0E442\", \"#0072B2\", \"#D55E00\", \"#E69F00\", \"#56B4E9\", \"#009E73\", \"#F0E442\"]\n",
    "    models = ['LogReg', 'SVM','XGBoost', 'AdaBoost', 'RandomForest', 'NaiveBayes',\n",
    "           'DistilBert', 'Bert-Base',  'Electra', 'GottBert']\n",
    "    color_dict = {model: color for model, color in zip(models, colors)}\n",
    "    emb_df = df[df.Embedding == embedding]\n",
    "    model_df = emb_df[emb_df.Model == model]\n",
    "    fig.add_trace(go.Scatter(x=model_df.Experiment, y=model_df.F1,\n",
    "                  marker=dict(color=color_dict[model]), showlegend=show_legend, name=model),row=row, col=col)\n",
    "    return fig\n",
    "def add_trace_transformer(df, fig, model, row, col):\n",
    "    colors = [\"#E69F00\", \"#56B4E9\", \"#009E73\", \"#F0E442\", \"#0072B2\", \"#D55E00\", \"#E69F00\", \"#56B4E9\", \"#009E73\", \"#F0E442\"]\n",
    "    models = ['LogReg', 'SVM','XGBoost', 'AdaBoost', 'RandomForest', 'NaiveBayes',\n",
    "           'DistilBert', 'Bert',   'Electra','GottBert',]\n",
    "    color_dict = {model: color for model, color in zip(models, colors)}\n",
    "    model_df = df[df.Model == model]\n",
    "    fig.add_trace(go.Scatter(x=model_df.Experiment, y=model_df.F1,\n",
    "                  marker=dict(color=color_dict[model], line=dict(width=1,color='black')), name=model),row=row, col=col)\n",
    "    return fig"
   ]
  },
  {
   "cell_type": "code",
   "execution_count": 12,
   "metadata": {},
   "outputs": [
    {
     "data": {
      "application/vnd.plotly.v1+json": {
       "config": {
        "plotlyServerURL": "https://plot.ly"
       },
       "data": [
        {
         "marker": {
          "color": "#E69F00"
         },
         "name": "LogReg",
         "showlegend": true,
         "type": "scatter",
         "x": [
          "E0",
          "E1",
          "E2",
          "E3",
          "E4"
         ],
         "xaxis": "x",
         "y": [
          0.6,
          0.55,
          0.59,
          0.61,
          0.62
         ],
         "yaxis": "y"
        },
        {
         "marker": {
          "color": "#56B4E9"
         },
         "name": "SVM",
         "showlegend": true,
         "type": "scatter",
         "x": [
          "E0",
          "E1",
          "E2",
          "E3",
          "E4"
         ],
         "xaxis": "x",
         "y": [
          0.57,
          0.53,
          0.57,
          0.59,
          0.6
         ],
         "yaxis": "y"
        },
        {
         "marker": {
          "color": "#009E73"
         },
         "name": "XGBoost",
         "showlegend": true,
         "type": "scatter",
         "x": [
          "E0",
          "E1",
          "E2",
          "E3",
          "E4"
         ],
         "xaxis": "x",
         "y": [
          0.58,
          0.48,
          0.52,
          0.55,
          0.57
         ],
         "yaxis": "y"
        },
        {
         "marker": {
          "color": "#F0E442"
         },
         "name": "AdaBoost",
         "showlegend": true,
         "type": "scatter",
         "x": [
          "E0",
          "E1",
          "E2",
          "E3",
          "E4"
         ],
         "xaxis": "x",
         "y": [
          0.48,
          0.43,
          0.47,
          0.48,
          0.5
         ],
         "yaxis": "y"
        },
        {
         "marker": {
          "color": "#0072B2"
         },
         "name": "RandomForest",
         "showlegend": true,
         "type": "scatter",
         "x": [
          "E0",
          "E1",
          "E2",
          "E3",
          "E4"
         ],
         "xaxis": "x",
         "y": [
          0.23,
          0.25,
          0.26,
          0.24,
          0.24
         ],
         "yaxis": "y"
        },
        {
         "marker": {
          "color": "#D55E00"
         },
         "name": "NaiveBayes",
         "showlegend": true,
         "type": "scatter",
         "x": [
          "E0",
          "E1",
          "E2",
          "E3",
          "E4"
         ],
         "xaxis": "x",
         "y": [
          0.51,
          0.44,
          0.47,
          0.49,
          0.5
         ],
         "yaxis": "y"
        },
        {
         "marker": {
          "color": "#E69F00"
         },
         "name": "LogReg",
         "showlegend": false,
         "type": "scatter",
         "x": [
          "E0",
          "E1",
          "E2",
          "E3",
          "E4"
         ],
         "xaxis": "x2",
         "y": [
          0.57,
          0.52,
          0.55,
          0.57,
          0.58
         ],
         "yaxis": "y2"
        },
        {
         "marker": {
          "color": "#56B4E9"
         },
         "name": "SVM",
         "showlegend": false,
         "type": "scatter",
         "x": [
          "E0",
          "E1",
          "E2",
          "E3",
          "E4"
         ],
         "xaxis": "x2",
         "y": [
          0.56,
          0.5,
          0.52,
          0.55,
          0.56
         ],
         "yaxis": "y2"
        },
        {
         "marker": {
          "color": "#009E73"
         },
         "name": "XGBoost",
         "showlegend": false,
         "type": "scatter",
         "x": [
          "E0",
          "E1",
          "E2",
          "E3",
          "E4"
         ],
         "xaxis": "x2",
         "y": [
          0.57,
          0.48,
          0.52,
          0.54,
          0.56
         ],
         "yaxis": "y2"
        },
        {
         "marker": {
          "color": "#F0E442"
         },
         "name": "AdaBoost",
         "showlegend": false,
         "type": "scatter",
         "x": [
          "E0",
          "E1",
          "E2",
          "E3",
          "E4"
         ],
         "xaxis": "x2",
         "y": [
          0.47,
          0.44,
          0.47,
          0.49,
          0.49
         ],
         "yaxis": "y2"
        },
        {
         "marker": {
          "color": "#0072B2"
         },
         "name": "RandomForest",
         "showlegend": false,
         "type": "scatter",
         "x": [
          "E0",
          "E1",
          "E2",
          "E3",
          "E4"
         ],
         "xaxis": "x2",
         "y": [
          0.23,
          0.25,
          0.26,
          0.24,
          0.24
         ],
         "yaxis": "y2"
        },
        {
         "marker": {
          "color": "#D55E00"
         },
         "name": "NaiveBayes",
         "showlegend": false,
         "type": "scatter",
         "x": [
          "E0",
          "E1",
          "E2",
          "E3",
          "E4"
         ],
         "xaxis": "x2",
         "y": [
          0.4,
          0.32,
          0.34,
          0.36,
          0.37
         ],
         "yaxis": "y2"
        },
        {
         "marker": {
          "color": "#E69F00"
         },
         "name": "LogReg",
         "showlegend": false,
         "type": "scatter",
         "x": [
          "E0",
          "E1",
          "E2",
          "E3",
          "E4"
         ],
         "xaxis": "x3",
         "y": [
          0.67,
          0.6,
          0.63,
          0.64,
          0.66
         ],
         "yaxis": "y3"
        },
        {
         "marker": {
          "color": "#56B4E9"
         },
         "name": "SVM",
         "showlegend": false,
         "type": "scatter",
         "x": [
          "E0",
          "E1",
          "E2",
          "E3",
          "E4"
         ],
         "xaxis": "x3",
         "y": [
          0.64,
          0.51,
          0.55,
          0.6,
          0.62
         ],
         "yaxis": "y3"
        },
        {
         "marker": {
          "color": "#009E73"
         },
         "name": "XGBoost",
         "showlegend": false,
         "type": "scatter",
         "x": [
          "E0",
          "E1",
          "E2",
          "E3",
          "E4"
         ],
         "xaxis": "x3",
         "y": [
          0.7,
          0.63,
          0.66,
          0.68,
          0.7
         ],
         "yaxis": "y3"
        },
        {
         "marker": {
          "color": "#F0E442"
         },
         "name": "AdaBoost",
         "showlegend": false,
         "type": "scatter",
         "x": [
          "E0",
          "E1",
          "E2",
          "E3",
          "E4"
         ],
         "xaxis": "x3",
         "y": [
          0.66,
          0.59,
          0.62,
          0.63,
          0.64
         ],
         "yaxis": "y3"
        },
        {
         "marker": {
          "color": "#0072B2"
         },
         "name": "RandomForest",
         "showlegend": false,
         "type": "scatter",
         "x": [
          "E0",
          "E1",
          "E2",
          "E3",
          "E4"
         ],
         "xaxis": "x3",
         "y": [
          0.54,
          0.49,
          0.52,
          0.52,
          0.53
         ],
         "yaxis": "y3"
        },
        {
         "marker": {
          "color": "#D55E00"
         },
         "name": "NaiveBayes",
         "showlegend": false,
         "type": "scatter",
         "x": [
          "E0",
          "E1",
          "E2",
          "E3",
          "E4"
         ],
         "xaxis": "x3",
         "y": [
          0.48,
          0.38,
          0.4,
          0.42,
          0.42
         ],
         "yaxis": "y3"
        },
        {
         "marker": {
          "color": "#E69F00"
         },
         "name": "LogReg",
         "showlegend": false,
         "type": "scatter",
         "x": [
          "E0",
          "E1",
          "E2",
          "E3",
          "E4"
         ],
         "xaxis": "x4",
         "y": [
          0.71,
          0.63,
          0.67,
          0.68,
          0.71
         ],
         "yaxis": "y4"
        },
        {
         "marker": {
          "color": "#56B4E9"
         },
         "name": "SVM",
         "showlegend": false,
         "type": "scatter",
         "x": [
          "E0",
          "E1",
          "E2",
          "E3",
          "E4"
         ],
         "xaxis": "x4",
         "y": [
          0.72,
          0.62,
          0.67,
          0.69,
          0.71
         ],
         "yaxis": "y4"
        },
        {
         "marker": {
          "color": "#009E73"
         },
         "name": "XGBoost",
         "showlegend": false,
         "type": "scatter",
         "x": [
          "E0",
          "E1",
          "E2",
          "E3",
          "E4"
         ],
         "xaxis": "x4",
         "y": [
          0.68,
          0.61,
          0.66,
          0.67,
          0.68
         ],
         "yaxis": "y4"
        },
        {
         "marker": {
          "color": "#F0E442"
         },
         "name": "AdaBoost",
         "showlegend": false,
         "type": "scatter",
         "x": [
          "E0",
          "E1",
          "E2",
          "E3",
          "E4"
         ],
         "xaxis": "x4",
         "y": [
          0.66,
          0.57,
          0.61,
          0.63,
          0.64
         ],
         "yaxis": "y4"
        },
        {
         "marker": {
          "color": "#0072B2"
         },
         "name": "RandomForest",
         "showlegend": false,
         "type": "scatter",
         "x": [
          "E0",
          "E1",
          "E2",
          "E3",
          "E4"
         ],
         "xaxis": "x4",
         "y": [
          0.52,
          0.46,
          0.49,
          0.5,
          0.51
         ],
         "yaxis": "y4"
        },
        {
         "marker": {
          "color": "#D55E00"
         },
         "name": "NaiveBayes",
         "showlegend": false,
         "type": "scatter",
         "x": [
          "E0",
          "E1",
          "E2",
          "E3",
          "E4"
         ],
         "xaxis": "x4",
         "y": [
          0.56,
          0.48,
          0.52,
          0.52,
          0.54
         ],
         "yaxis": "y4"
        },
        {
         "marker": {
          "color": "#E69F00"
         },
         "name": "LogReg",
         "showlegend": false,
         "type": "scatter",
         "x": [
          "E0",
          "E1",
          "E2",
          "E3",
          "E4"
         ],
         "xaxis": "x5",
         "y": [
          0.72,
          0.65,
          0.69,
          0.7,
          0.72
         ],
         "yaxis": "y5"
        },
        {
         "marker": {
          "color": "#56B4E9"
         },
         "name": "SVM",
         "showlegend": false,
         "type": "scatter",
         "x": [
          "E0",
          "E1",
          "E2",
          "E3",
          "E4"
         ],
         "xaxis": "x5",
         "y": [
          0.73,
          0.63,
          0.69,
          0.71,
          0.73
         ],
         "yaxis": "y5"
        },
        {
         "marker": {
          "color": "#009E73"
         },
         "name": "XGBoost",
         "showlegend": false,
         "type": "scatter",
         "x": [
          "E0",
          "E1",
          "E2",
          "E3",
          "E4"
         ],
         "xaxis": "x5",
         "y": [
          0.69,
          0.63,
          0.67,
          0.69,
          0.7
         ],
         "yaxis": "y5"
        },
        {
         "marker": {
          "color": "#F0E442"
         },
         "name": "AdaBoost",
         "showlegend": false,
         "type": "scatter",
         "x": [
          "E0",
          "E1",
          "E2",
          "E3",
          "E4"
         ],
         "xaxis": "x5",
         "y": [
          0.65,
          0.59,
          0.62,
          0.63,
          0.65
         ],
         "yaxis": "y5"
        },
        {
         "marker": {
          "color": "#0072B2"
         },
         "name": "RandomForest",
         "showlegend": false,
         "type": "scatter",
         "x": [
          "E0",
          "E1",
          "E2",
          "E3",
          "E4"
         ],
         "xaxis": "x5",
         "y": [
          0.53,
          0.49,
          0.52,
          0.52,
          0.53
         ],
         "yaxis": "y5"
        },
        {
         "marker": {
          "color": "#D55E00"
         },
         "name": "NaiveBayes",
         "showlegend": false,
         "type": "scatter",
         "x": [
          "E0",
          "E1",
          "E2",
          "E3",
          "E4"
         ],
         "xaxis": "x5",
         "y": [
          0.57,
          0.49,
          0.52,
          0.54,
          0.55
         ],
         "yaxis": "y5"
        },
        {
         "marker": {
          "color": "#E69F00"
         },
         "name": "LogReg",
         "showlegend": false,
         "type": "scatter",
         "x": [
          "E0",
          "E1",
          "E2",
          "E3",
          "E4"
         ],
         "xaxis": "x6",
         "y": [
          0.67,
          0.6,
          0.63,
          0.65,
          0.66
         ],
         "yaxis": "y6"
        },
        {
         "marker": {
          "color": "#56B4E9"
         },
         "name": "SVM",
         "showlegend": false,
         "type": "scatter",
         "x": [
          "E0",
          "E1",
          "E2",
          "E3",
          "E4"
         ],
         "xaxis": "x6",
         "y": [
          0.73,
          0.63,
          0.68,
          0.71,
          0.72
         ],
         "yaxis": "y6"
        },
        {
         "marker": {
          "color": "#009E73"
         },
         "name": "XGBoost",
         "showlegend": false,
         "type": "scatter",
         "x": [
          "E0",
          "E1",
          "E2",
          "E3",
          "E4"
         ],
         "xaxis": "x6",
         "y": [
          0.68,
          0.6,
          0.64,
          0.67,
          0.68
         ],
         "yaxis": "y6"
        },
        {
         "marker": {
          "color": "#F0E442"
         },
         "name": "AdaBoost",
         "showlegend": false,
         "type": "scatter",
         "x": [
          "E0",
          "E1",
          "E2",
          "E3",
          "E4"
         ],
         "xaxis": "x6",
         "y": [
          0.62,
          0.54,
          0.57,
          0.6,
          0.6
         ],
         "yaxis": "y6"
        },
        {
         "marker": {
          "color": "#0072B2"
         },
         "name": "RandomForest",
         "showlegend": false,
         "type": "scatter",
         "x": [
          "E0",
          "E1",
          "E2",
          "E3",
          "E4"
         ],
         "xaxis": "x6",
         "y": [
          0.44,
          0.32,
          0.35,
          0.38,
          0.39
         ],
         "yaxis": "y6"
        },
        {
         "marker": {
          "color": "#D55E00"
         },
         "name": "NaiveBayes",
         "showlegend": false,
         "type": "scatter",
         "x": [
          "E0",
          "E1",
          "E2",
          "E3",
          "E4"
         ],
         "xaxis": "x6",
         "y": [
          0.55,
          0.48,
          0.51,
          0.53,
          0.54
         ],
         "yaxis": "y6"
        },
        {
         "marker": {
          "color": "#E69F00",
          "line": {
           "color": "black",
           "width": 1
          }
         },
         "name": "DistilBert",
         "type": "scatter",
         "x": [
          "E0",
          "E1",
          "E2",
          "E3",
          "E4"
         ],
         "xaxis": "x7",
         "y": [
          0.9,
          0.81,
          0.89,
          0.9,
          0.94
         ],
         "yaxis": "y7"
        },
        {
         "marker": {
          "color": "#56B4E9",
          "line": {
           "color": "black",
           "width": 1
          }
         },
         "name": "Bert",
         "type": "scatter",
         "x": [
          "E0",
          "E1",
          "E2",
          "E3",
          "E4"
         ],
         "xaxis": "x7",
         "y": [
          0.91,
          0.81,
          0.9,
          0.91,
          0.94
         ],
         "yaxis": "y7"
        },
        {
         "marker": {
          "color": "#F0E442",
          "line": {
           "color": "black",
           "width": 1
          }
         },
         "name": "GottBert",
         "type": "scatter",
         "x": [
          "E0",
          "E1",
          "E2",
          "E3",
          "E4"
         ],
         "xaxis": "x7",
         "y": [
          0.88,
          0.8,
          0.88,
          0.89,
          0.92
         ],
         "yaxis": "y7"
        },
        {
         "marker": {
          "color": "#009E73",
          "line": {
           "color": "black",
           "width": 1
          }
         },
         "name": "Electra",
         "type": "scatter",
         "x": [
          "E0",
          "E1",
          "E2",
          "E3",
          "E4"
         ],
         "xaxis": "x7",
         "y": [
          0.91,
          0.78,
          0.9,
          0.91,
          0.94
         ],
         "yaxis": "y7"
        }
       ],
       "layout": {
        "annotations": [
         {
          "font": {
           "size": 16
          },
          "showarrow": false,
          "text": "BoW",
          "x": 0.15,
          "xanchor": "center",
          "xref": "paper",
          "y": 1,
          "yanchor": "bottom",
          "yref": "paper"
         },
         {
          "font": {
           "size": 16
          },
          "showarrow": false,
          "text": "Tf-idf",
          "x": 0.49999999999999994,
          "xanchor": "center",
          "xref": "paper",
          "y": 1,
          "yanchor": "bottom",
          "yref": "paper"
         },
         {
          "font": {
           "size": 16
          },
          "showarrow": false,
          "text": "Word2Vec",
          "x": 0.85,
          "xanchor": "center",
          "xref": "paper",
          "y": 1,
          "yanchor": "bottom",
          "yref": "paper"
         },
         {
          "font": {
           "size": 16
          },
          "showarrow": false,
          "text": "GloVe",
          "x": 0.15,
          "xanchor": "center",
          "xref": "paper",
          "y": 0.688,
          "yanchor": "bottom",
          "yref": "paper"
         },
         {
          "font": {
           "size": 16
          },
          "showarrow": false,
          "text": "Fasttext",
          "x": 0.49999999999999994,
          "xanchor": "center",
          "xref": "paper",
          "y": 0.688,
          "yanchor": "bottom",
          "yref": "paper"
         },
         {
          "font": {
           "size": 16
          },
          "showarrow": false,
          "text": "Sentence Transformer",
          "x": 0.85,
          "xanchor": "center",
          "xref": "paper",
          "y": 0.688,
          "yanchor": "bottom",
          "yref": "paper"
         },
         {
          "font": {
           "size": 16
          },
          "showarrow": false,
          "text": "Transformer Models",
          "x": 0.5,
          "xanchor": "center",
          "xref": "paper",
          "y": 0.376,
          "yanchor": "bottom",
          "yref": "paper"
         }
        ],
        "template": {
         "data": {
          "bar": [
           {
            "error_x": {
             "color": "#2a3f5f"
            },
            "error_y": {
             "color": "#2a3f5f"
            },
            "marker": {
             "line": {
              "color": "white",
              "width": 0.5
             },
             "pattern": {
              "fillmode": "overlay",
              "size": 10,
              "solidity": 0.2
             }
            },
            "type": "bar"
           }
          ],
          "barpolar": [
           {
            "marker": {
             "line": {
              "color": "white",
              "width": 0.5
             },
             "pattern": {
              "fillmode": "overlay",
              "size": 10,
              "solidity": 0.2
             }
            },
            "type": "barpolar"
           }
          ],
          "carpet": [
           {
            "aaxis": {
             "endlinecolor": "#2a3f5f",
             "gridcolor": "#C8D4E3",
             "linecolor": "#C8D4E3",
             "minorgridcolor": "#C8D4E3",
             "startlinecolor": "#2a3f5f"
            },
            "baxis": {
             "endlinecolor": "#2a3f5f",
             "gridcolor": "#C8D4E3",
             "linecolor": "#C8D4E3",
             "minorgridcolor": "#C8D4E3",
             "startlinecolor": "#2a3f5f"
            },
            "type": "carpet"
           }
          ],
          "choropleth": [
           {
            "colorbar": {
             "outlinewidth": 0,
             "ticks": ""
            },
            "type": "choropleth"
           }
          ],
          "contour": [
           {
            "colorbar": {
             "outlinewidth": 0,
             "ticks": ""
            },
            "colorscale": [
             [
              0,
              "#0d0887"
             ],
             [
              0.1111111111111111,
              "#46039f"
             ],
             [
              0.2222222222222222,
              "#7201a8"
             ],
             [
              0.3333333333333333,
              "#9c179e"
             ],
             [
              0.4444444444444444,
              "#bd3786"
             ],
             [
              0.5555555555555556,
              "#d8576b"
             ],
             [
              0.6666666666666666,
              "#ed7953"
             ],
             [
              0.7777777777777778,
              "#fb9f3a"
             ],
             [
              0.8888888888888888,
              "#fdca26"
             ],
             [
              1,
              "#f0f921"
             ]
            ],
            "type": "contour"
           }
          ],
          "contourcarpet": [
           {
            "colorbar": {
             "outlinewidth": 0,
             "ticks": ""
            },
            "type": "contourcarpet"
           }
          ],
          "heatmap": [
           {
            "colorbar": {
             "outlinewidth": 0,
             "ticks": ""
            },
            "colorscale": [
             [
              0,
              "#0d0887"
             ],
             [
              0.1111111111111111,
              "#46039f"
             ],
             [
              0.2222222222222222,
              "#7201a8"
             ],
             [
              0.3333333333333333,
              "#9c179e"
             ],
             [
              0.4444444444444444,
              "#bd3786"
             ],
             [
              0.5555555555555556,
              "#d8576b"
             ],
             [
              0.6666666666666666,
              "#ed7953"
             ],
             [
              0.7777777777777778,
              "#fb9f3a"
             ],
             [
              0.8888888888888888,
              "#fdca26"
             ],
             [
              1,
              "#f0f921"
             ]
            ],
            "type": "heatmap"
           }
          ],
          "heatmapgl": [
           {
            "colorbar": {
             "outlinewidth": 0,
             "ticks": ""
            },
            "colorscale": [
             [
              0,
              "#0d0887"
             ],
             [
              0.1111111111111111,
              "#46039f"
             ],
             [
              0.2222222222222222,
              "#7201a8"
             ],
             [
              0.3333333333333333,
              "#9c179e"
             ],
             [
              0.4444444444444444,
              "#bd3786"
             ],
             [
              0.5555555555555556,
              "#d8576b"
             ],
             [
              0.6666666666666666,
              "#ed7953"
             ],
             [
              0.7777777777777778,
              "#fb9f3a"
             ],
             [
              0.8888888888888888,
              "#fdca26"
             ],
             [
              1,
              "#f0f921"
             ]
            ],
            "type": "heatmapgl"
           }
          ],
          "histogram": [
           {
            "marker": {
             "pattern": {
              "fillmode": "overlay",
              "size": 10,
              "solidity": 0.2
             }
            },
            "type": "histogram"
           }
          ],
          "histogram2d": [
           {
            "colorbar": {
             "outlinewidth": 0,
             "ticks": ""
            },
            "colorscale": [
             [
              0,
              "#0d0887"
             ],
             [
              0.1111111111111111,
              "#46039f"
             ],
             [
              0.2222222222222222,
              "#7201a8"
             ],
             [
              0.3333333333333333,
              "#9c179e"
             ],
             [
              0.4444444444444444,
              "#bd3786"
             ],
             [
              0.5555555555555556,
              "#d8576b"
             ],
             [
              0.6666666666666666,
              "#ed7953"
             ],
             [
              0.7777777777777778,
              "#fb9f3a"
             ],
             [
              0.8888888888888888,
              "#fdca26"
             ],
             [
              1,
              "#f0f921"
             ]
            ],
            "type": "histogram2d"
           }
          ],
          "histogram2dcontour": [
           {
            "colorbar": {
             "outlinewidth": 0,
             "ticks": ""
            },
            "colorscale": [
             [
              0,
              "#0d0887"
             ],
             [
              0.1111111111111111,
              "#46039f"
             ],
             [
              0.2222222222222222,
              "#7201a8"
             ],
             [
              0.3333333333333333,
              "#9c179e"
             ],
             [
              0.4444444444444444,
              "#bd3786"
             ],
             [
              0.5555555555555556,
              "#d8576b"
             ],
             [
              0.6666666666666666,
              "#ed7953"
             ],
             [
              0.7777777777777778,
              "#fb9f3a"
             ],
             [
              0.8888888888888888,
              "#fdca26"
             ],
             [
              1,
              "#f0f921"
             ]
            ],
            "type": "histogram2dcontour"
           }
          ],
          "mesh3d": [
           {
            "colorbar": {
             "outlinewidth": 0,
             "ticks": ""
            },
            "type": "mesh3d"
           }
          ],
          "parcoords": [
           {
            "line": {
             "colorbar": {
              "outlinewidth": 0,
              "ticks": ""
             }
            },
            "type": "parcoords"
           }
          ],
          "pie": [
           {
            "automargin": true,
            "type": "pie"
           }
          ],
          "scatter": [
           {
            "fillpattern": {
             "fillmode": "overlay",
             "size": 10,
             "solidity": 0.2
            },
            "type": "scatter"
           }
          ],
          "scatter3d": [
           {
            "line": {
             "colorbar": {
              "outlinewidth": 0,
              "ticks": ""
             }
            },
            "marker": {
             "colorbar": {
              "outlinewidth": 0,
              "ticks": ""
             }
            },
            "type": "scatter3d"
           }
          ],
          "scattercarpet": [
           {
            "marker": {
             "colorbar": {
              "outlinewidth": 0,
              "ticks": ""
             }
            },
            "type": "scattercarpet"
           }
          ],
          "scattergeo": [
           {
            "marker": {
             "colorbar": {
              "outlinewidth": 0,
              "ticks": ""
             }
            },
            "type": "scattergeo"
           }
          ],
          "scattergl": [
           {
            "marker": {
             "colorbar": {
              "outlinewidth": 0,
              "ticks": ""
             }
            },
            "type": "scattergl"
           }
          ],
          "scattermapbox": [
           {
            "marker": {
             "colorbar": {
              "outlinewidth": 0,
              "ticks": ""
             }
            },
            "type": "scattermapbox"
           }
          ],
          "scatterpolar": [
           {
            "marker": {
             "colorbar": {
              "outlinewidth": 0,
              "ticks": ""
             }
            },
            "type": "scatterpolar"
           }
          ],
          "scatterpolargl": [
           {
            "marker": {
             "colorbar": {
              "outlinewidth": 0,
              "ticks": ""
             }
            },
            "type": "scatterpolargl"
           }
          ],
          "scatterternary": [
           {
            "marker": {
             "colorbar": {
              "outlinewidth": 0,
              "ticks": ""
             }
            },
            "type": "scatterternary"
           }
          ],
          "surface": [
           {
            "colorbar": {
             "outlinewidth": 0,
             "ticks": ""
            },
            "colorscale": [
             [
              0,
              "#0d0887"
             ],
             [
              0.1111111111111111,
              "#46039f"
             ],
             [
              0.2222222222222222,
              "#7201a8"
             ],
             [
              0.3333333333333333,
              "#9c179e"
             ],
             [
              0.4444444444444444,
              "#bd3786"
             ],
             [
              0.5555555555555556,
              "#d8576b"
             ],
             [
              0.6666666666666666,
              "#ed7953"
             ],
             [
              0.7777777777777778,
              "#fb9f3a"
             ],
             [
              0.8888888888888888,
              "#fdca26"
             ],
             [
              1,
              "#f0f921"
             ]
            ],
            "type": "surface"
           }
          ],
          "table": [
           {
            "cells": {
             "fill": {
              "color": "#EBF0F8"
             },
             "line": {
              "color": "white"
             }
            },
            "header": {
             "fill": {
              "color": "#C8D4E3"
             },
             "line": {
              "color": "white"
             }
            },
            "type": "table"
           }
          ]
         },
         "layout": {
          "annotationdefaults": {
           "arrowcolor": "#2a3f5f",
           "arrowhead": 0,
           "arrowwidth": 1
          },
          "autotypenumbers": "strict",
          "coloraxis": {
           "colorbar": {
            "outlinewidth": 0,
            "ticks": ""
           }
          },
          "colorscale": {
           "diverging": [
            [
             0,
             "#8e0152"
            ],
            [
             0.1,
             "#c51b7d"
            ],
            [
             0.2,
             "#de77ae"
            ],
            [
             0.3,
             "#f1b6da"
            ],
            [
             0.4,
             "#fde0ef"
            ],
            [
             0.5,
             "#f7f7f7"
            ],
            [
             0.6,
             "#e6f5d0"
            ],
            [
             0.7,
             "#b8e186"
            ],
            [
             0.8,
             "#7fbc41"
            ],
            [
             0.9,
             "#4d9221"
            ],
            [
             1,
             "#276419"
            ]
           ],
           "sequential": [
            [
             0,
             "#0d0887"
            ],
            [
             0.1111111111111111,
             "#46039f"
            ],
            [
             0.2222222222222222,
             "#7201a8"
            ],
            [
             0.3333333333333333,
             "#9c179e"
            ],
            [
             0.4444444444444444,
             "#bd3786"
            ],
            [
             0.5555555555555556,
             "#d8576b"
            ],
            [
             0.6666666666666666,
             "#ed7953"
            ],
            [
             0.7777777777777778,
             "#fb9f3a"
            ],
            [
             0.8888888888888888,
             "#fdca26"
            ],
            [
             1,
             "#f0f921"
            ]
           ],
           "sequentialminus": [
            [
             0,
             "#0d0887"
            ],
            [
             0.1111111111111111,
             "#46039f"
            ],
            [
             0.2222222222222222,
             "#7201a8"
            ],
            [
             0.3333333333333333,
             "#9c179e"
            ],
            [
             0.4444444444444444,
             "#bd3786"
            ],
            [
             0.5555555555555556,
             "#d8576b"
            ],
            [
             0.6666666666666666,
             "#ed7953"
            ],
            [
             0.7777777777777778,
             "#fb9f3a"
            ],
            [
             0.8888888888888888,
             "#fdca26"
            ],
            [
             1,
             "#f0f921"
            ]
           ]
          },
          "colorway": [
           "#636efa",
           "#EF553B",
           "#00cc96",
           "#ab63fa",
           "#FFA15A",
           "#19d3f3",
           "#FF6692",
           "#B6E880",
           "#FF97FF",
           "#FECB52"
          ],
          "font": {
           "color": "#2a3f5f"
          },
          "geo": {
           "bgcolor": "white",
           "lakecolor": "white",
           "landcolor": "white",
           "showlakes": true,
           "showland": true,
           "subunitcolor": "#C8D4E3"
          },
          "hoverlabel": {
           "align": "left"
          },
          "hovermode": "closest",
          "mapbox": {
           "style": "light"
          },
          "paper_bgcolor": "white",
          "plot_bgcolor": "white",
          "polar": {
           "angularaxis": {
            "gridcolor": "#EBF0F8",
            "linecolor": "#EBF0F8",
            "ticks": ""
           },
           "bgcolor": "white",
           "radialaxis": {
            "gridcolor": "#EBF0F8",
            "linecolor": "#EBF0F8",
            "ticks": ""
           }
          },
          "scene": {
           "xaxis": {
            "backgroundcolor": "white",
            "gridcolor": "#DFE8F3",
            "gridwidth": 2,
            "linecolor": "#EBF0F8",
            "showbackground": true,
            "ticks": "",
            "zerolinecolor": "#EBF0F8"
           },
           "yaxis": {
            "backgroundcolor": "white",
            "gridcolor": "#DFE8F3",
            "gridwidth": 2,
            "linecolor": "#EBF0F8",
            "showbackground": true,
            "ticks": "",
            "zerolinecolor": "#EBF0F8"
           },
           "zaxis": {
            "backgroundcolor": "white",
            "gridcolor": "#DFE8F3",
            "gridwidth": 2,
            "linecolor": "#EBF0F8",
            "showbackground": true,
            "ticks": "",
            "zerolinecolor": "#EBF0F8"
           }
          },
          "shapedefaults": {
           "line": {
            "color": "#2a3f5f"
           }
          },
          "ternary": {
           "aaxis": {
            "gridcolor": "#DFE8F3",
            "linecolor": "#A2B1C6",
            "ticks": ""
           },
           "baxis": {
            "gridcolor": "#DFE8F3",
            "linecolor": "#A2B1C6",
            "ticks": ""
           },
           "bgcolor": "white",
           "caxis": {
            "gridcolor": "#DFE8F3",
            "linecolor": "#A2B1C6",
            "ticks": ""
           }
          },
          "title": {
           "x": 0.05
          },
          "xaxis": {
           "automargin": true,
           "gridcolor": "#EBF0F8",
           "linecolor": "#EBF0F8",
           "ticks": "",
           "title": {
            "standoff": 15
           },
           "zerolinecolor": "#EBF0F8",
           "zerolinewidth": 2
          },
          "yaxis": {
           "automargin": true,
           "gridcolor": "#EBF0F8",
           "linecolor": "#EBF0F8",
           "ticks": "",
           "title": {
            "standoff": 15
           },
           "zerolinecolor": "#EBF0F8",
           "zerolinewidth": 2
          }
         }
        },
        "xaxis": {
         "anchor": "y",
         "domain": [
          0,
          0.3
         ],
         "showticklabels": false
        },
        "xaxis2": {
         "anchor": "y2",
         "domain": [
          0.35,
          0.6499999999999999
         ],
         "showticklabels": false
        },
        "xaxis3": {
         "anchor": "y3",
         "domain": [
          0.7,
          1
         ],
         "showticklabels": false
        },
        "xaxis4": {
         "anchor": "y4",
         "domain": [
          0,
          0.3
         ],
         "showticklabels": false
        },
        "xaxis5": {
         "anchor": "y5",
         "domain": [
          0.35,
          0.6499999999999999
         ],
         "showticklabels": false
        },
        "xaxis6": {
         "anchor": "y6",
         "domain": [
          0.7,
          1
         ],
         "showticklabels": false
        },
        "xaxis7": {
         "anchor": "y7",
         "domain": [
          0,
          1
         ],
         "showticklabels": true
        },
        "yaxis": {
         "anchor": "x",
         "domain": [
          0.718,
          1
         ],
         "title": {
          "text": "F1"
         }
        },
        "yaxis2": {
         "anchor": "x2",
         "domain": [
          0.718,
          1
         ]
        },
        "yaxis3": {
         "anchor": "x3",
         "domain": [
          0.718,
          1
         ]
        },
        "yaxis4": {
         "anchor": "x4",
         "domain": [
          0.406,
          0.688
         ],
         "title": {
          "text": "F1"
         }
        },
        "yaxis5": {
         "anchor": "x5",
         "domain": [
          0.406,
          0.688
         ]
        },
        "yaxis6": {
         "anchor": "x6",
         "domain": [
          0.406,
          0.688
         ]
        },
        "yaxis7": {
         "anchor": "x7",
         "domain": [
          0,
          0.376
         ],
         "nticks": 12,
         "title": {
          "text": "F1"
         }
        }
       }
      },
      "text/html": [
       "<div>                            <div id=\"3ac866ed-558c-45f8-8f60-1e5d55e08a5d\" class=\"plotly-graph-div\" style=\"height:525px; width:100%;\"></div>            <script type=\"text/javascript\">                require([\"plotly\"], function(Plotly) {                    window.PLOTLYENV=window.PLOTLYENV || {};                                    if (document.getElementById(\"3ac866ed-558c-45f8-8f60-1e5d55e08a5d\")) {                    Plotly.newPlot(                        \"3ac866ed-558c-45f8-8f60-1e5d55e08a5d\",                        [{\"marker\":{\"color\":\"#E69F00\"},\"name\":\"LogReg\",\"showlegend\":true,\"x\":[\"E0\",\"E1\",\"E2\",\"E3\",\"E4\"],\"y\":[0.6,0.55,0.59,0.61,0.62],\"type\":\"scatter\",\"xaxis\":\"x\",\"yaxis\":\"y\"},{\"marker\":{\"color\":\"#56B4E9\"},\"name\":\"SVM\",\"showlegend\":true,\"x\":[\"E0\",\"E1\",\"E2\",\"E3\",\"E4\"],\"y\":[0.57,0.53,0.57,0.59,0.6],\"type\":\"scatter\",\"xaxis\":\"x\",\"yaxis\":\"y\"},{\"marker\":{\"color\":\"#009E73\"},\"name\":\"XGBoost\",\"showlegend\":true,\"x\":[\"E0\",\"E1\",\"E2\",\"E3\",\"E4\"],\"y\":[0.58,0.48,0.52,0.55,0.57],\"type\":\"scatter\",\"xaxis\":\"x\",\"yaxis\":\"y\"},{\"marker\":{\"color\":\"#F0E442\"},\"name\":\"AdaBoost\",\"showlegend\":true,\"x\":[\"E0\",\"E1\",\"E2\",\"E3\",\"E4\"],\"y\":[0.48,0.43,0.47,0.48,0.5],\"type\":\"scatter\",\"xaxis\":\"x\",\"yaxis\":\"y\"},{\"marker\":{\"color\":\"#0072B2\"},\"name\":\"RandomForest\",\"showlegend\":true,\"x\":[\"E0\",\"E1\",\"E2\",\"E3\",\"E4\"],\"y\":[0.23,0.25,0.26,0.24,0.24],\"type\":\"scatter\",\"xaxis\":\"x\",\"yaxis\":\"y\"},{\"marker\":{\"color\":\"#D55E00\"},\"name\":\"NaiveBayes\",\"showlegend\":true,\"x\":[\"E0\",\"E1\",\"E2\",\"E3\",\"E4\"],\"y\":[0.51,0.44,0.47,0.49,0.5],\"type\":\"scatter\",\"xaxis\":\"x\",\"yaxis\":\"y\"},{\"marker\":{\"color\":\"#E69F00\"},\"name\":\"LogReg\",\"showlegend\":false,\"x\":[\"E0\",\"E1\",\"E2\",\"E3\",\"E4\"],\"y\":[0.57,0.52,0.55,0.57,0.58],\"type\":\"scatter\",\"xaxis\":\"x2\",\"yaxis\":\"y2\"},{\"marker\":{\"color\":\"#56B4E9\"},\"name\":\"SVM\",\"showlegend\":false,\"x\":[\"E0\",\"E1\",\"E2\",\"E3\",\"E4\"],\"y\":[0.56,0.5,0.52,0.55,0.56],\"type\":\"scatter\",\"xaxis\":\"x2\",\"yaxis\":\"y2\"},{\"marker\":{\"color\":\"#009E73\"},\"name\":\"XGBoost\",\"showlegend\":false,\"x\":[\"E0\",\"E1\",\"E2\",\"E3\",\"E4\"],\"y\":[0.57,0.48,0.52,0.54,0.56],\"type\":\"scatter\",\"xaxis\":\"x2\",\"yaxis\":\"y2\"},{\"marker\":{\"color\":\"#F0E442\"},\"name\":\"AdaBoost\",\"showlegend\":false,\"x\":[\"E0\",\"E1\",\"E2\",\"E3\",\"E4\"],\"y\":[0.47,0.44,0.47,0.49,0.49],\"type\":\"scatter\",\"xaxis\":\"x2\",\"yaxis\":\"y2\"},{\"marker\":{\"color\":\"#0072B2\"},\"name\":\"RandomForest\",\"showlegend\":false,\"x\":[\"E0\",\"E1\",\"E2\",\"E3\",\"E4\"],\"y\":[0.23,0.25,0.26,0.24,0.24],\"type\":\"scatter\",\"xaxis\":\"x2\",\"yaxis\":\"y2\"},{\"marker\":{\"color\":\"#D55E00\"},\"name\":\"NaiveBayes\",\"showlegend\":false,\"x\":[\"E0\",\"E1\",\"E2\",\"E3\",\"E4\"],\"y\":[0.4,0.32,0.34,0.36,0.37],\"type\":\"scatter\",\"xaxis\":\"x2\",\"yaxis\":\"y2\"},{\"marker\":{\"color\":\"#E69F00\"},\"name\":\"LogReg\",\"showlegend\":false,\"x\":[\"E0\",\"E1\",\"E2\",\"E3\",\"E4\"],\"y\":[0.67,0.6,0.63,0.64,0.66],\"type\":\"scatter\",\"xaxis\":\"x3\",\"yaxis\":\"y3\"},{\"marker\":{\"color\":\"#56B4E9\"},\"name\":\"SVM\",\"showlegend\":false,\"x\":[\"E0\",\"E1\",\"E2\",\"E3\",\"E4\"],\"y\":[0.64,0.51,0.55,0.6,0.62],\"type\":\"scatter\",\"xaxis\":\"x3\",\"yaxis\":\"y3\"},{\"marker\":{\"color\":\"#009E73\"},\"name\":\"XGBoost\",\"showlegend\":false,\"x\":[\"E0\",\"E1\",\"E2\",\"E3\",\"E4\"],\"y\":[0.7,0.63,0.66,0.68,0.7],\"type\":\"scatter\",\"xaxis\":\"x3\",\"yaxis\":\"y3\"},{\"marker\":{\"color\":\"#F0E442\"},\"name\":\"AdaBoost\",\"showlegend\":false,\"x\":[\"E0\",\"E1\",\"E2\",\"E3\",\"E4\"],\"y\":[0.66,0.59,0.62,0.63,0.64],\"type\":\"scatter\",\"xaxis\":\"x3\",\"yaxis\":\"y3\"},{\"marker\":{\"color\":\"#0072B2\"},\"name\":\"RandomForest\",\"showlegend\":false,\"x\":[\"E0\",\"E1\",\"E2\",\"E3\",\"E4\"],\"y\":[0.54,0.49,0.52,0.52,0.53],\"type\":\"scatter\",\"xaxis\":\"x3\",\"yaxis\":\"y3\"},{\"marker\":{\"color\":\"#D55E00\"},\"name\":\"NaiveBayes\",\"showlegend\":false,\"x\":[\"E0\",\"E1\",\"E2\",\"E3\",\"E4\"],\"y\":[0.48,0.38,0.4,0.42,0.42],\"type\":\"scatter\",\"xaxis\":\"x3\",\"yaxis\":\"y3\"},{\"marker\":{\"color\":\"#E69F00\"},\"name\":\"LogReg\",\"showlegend\":false,\"x\":[\"E0\",\"E1\",\"E2\",\"E3\",\"E4\"],\"y\":[0.71,0.63,0.67,0.68,0.71],\"type\":\"scatter\",\"xaxis\":\"x4\",\"yaxis\":\"y4\"},{\"marker\":{\"color\":\"#56B4E9\"},\"name\":\"SVM\",\"showlegend\":false,\"x\":[\"E0\",\"E1\",\"E2\",\"E3\",\"E4\"],\"y\":[0.72,0.62,0.67,0.69,0.71],\"type\":\"scatter\",\"xaxis\":\"x4\",\"yaxis\":\"y4\"},{\"marker\":{\"color\":\"#009E73\"},\"name\":\"XGBoost\",\"showlegend\":false,\"x\":[\"E0\",\"E1\",\"E2\",\"E3\",\"E4\"],\"y\":[0.68,0.61,0.66,0.67,0.68],\"type\":\"scatter\",\"xaxis\":\"x4\",\"yaxis\":\"y4\"},{\"marker\":{\"color\":\"#F0E442\"},\"name\":\"AdaBoost\",\"showlegend\":false,\"x\":[\"E0\",\"E1\",\"E2\",\"E3\",\"E4\"],\"y\":[0.66,0.57,0.61,0.63,0.64],\"type\":\"scatter\",\"xaxis\":\"x4\",\"yaxis\":\"y4\"},{\"marker\":{\"color\":\"#0072B2\"},\"name\":\"RandomForest\",\"showlegend\":false,\"x\":[\"E0\",\"E1\",\"E2\",\"E3\",\"E4\"],\"y\":[0.52,0.46,0.49,0.5,0.51],\"type\":\"scatter\",\"xaxis\":\"x4\",\"yaxis\":\"y4\"},{\"marker\":{\"color\":\"#D55E00\"},\"name\":\"NaiveBayes\",\"showlegend\":false,\"x\":[\"E0\",\"E1\",\"E2\",\"E3\",\"E4\"],\"y\":[0.56,0.48,0.52,0.52,0.54],\"type\":\"scatter\",\"xaxis\":\"x4\",\"yaxis\":\"y4\"},{\"marker\":{\"color\":\"#E69F00\"},\"name\":\"LogReg\",\"showlegend\":false,\"x\":[\"E0\",\"E1\",\"E2\",\"E3\",\"E4\"],\"y\":[0.72,0.65,0.69,0.7,0.72],\"type\":\"scatter\",\"xaxis\":\"x5\",\"yaxis\":\"y5\"},{\"marker\":{\"color\":\"#56B4E9\"},\"name\":\"SVM\",\"showlegend\":false,\"x\":[\"E0\",\"E1\",\"E2\",\"E3\",\"E4\"],\"y\":[0.73,0.63,0.69,0.71,0.73],\"type\":\"scatter\",\"xaxis\":\"x5\",\"yaxis\":\"y5\"},{\"marker\":{\"color\":\"#009E73\"},\"name\":\"XGBoost\",\"showlegend\":false,\"x\":[\"E0\",\"E1\",\"E2\",\"E3\",\"E4\"],\"y\":[0.69,0.63,0.67,0.69,0.7],\"type\":\"scatter\",\"xaxis\":\"x5\",\"yaxis\":\"y5\"},{\"marker\":{\"color\":\"#F0E442\"},\"name\":\"AdaBoost\",\"showlegend\":false,\"x\":[\"E0\",\"E1\",\"E2\",\"E3\",\"E4\"],\"y\":[0.65,0.59,0.62,0.63,0.65],\"type\":\"scatter\",\"xaxis\":\"x5\",\"yaxis\":\"y5\"},{\"marker\":{\"color\":\"#0072B2\"},\"name\":\"RandomForest\",\"showlegend\":false,\"x\":[\"E0\",\"E1\",\"E2\",\"E3\",\"E4\"],\"y\":[0.53,0.49,0.52,0.52,0.53],\"type\":\"scatter\",\"xaxis\":\"x5\",\"yaxis\":\"y5\"},{\"marker\":{\"color\":\"#D55E00\"},\"name\":\"NaiveBayes\",\"showlegend\":false,\"x\":[\"E0\",\"E1\",\"E2\",\"E3\",\"E4\"],\"y\":[0.57,0.49,0.52,0.54,0.55],\"type\":\"scatter\",\"xaxis\":\"x5\",\"yaxis\":\"y5\"},{\"marker\":{\"color\":\"#E69F00\"},\"name\":\"LogReg\",\"showlegend\":false,\"x\":[\"E0\",\"E1\",\"E2\",\"E3\",\"E4\"],\"y\":[0.67,0.6,0.63,0.65,0.66],\"type\":\"scatter\",\"xaxis\":\"x6\",\"yaxis\":\"y6\"},{\"marker\":{\"color\":\"#56B4E9\"},\"name\":\"SVM\",\"showlegend\":false,\"x\":[\"E0\",\"E1\",\"E2\",\"E3\",\"E4\"],\"y\":[0.73,0.63,0.68,0.71,0.72],\"type\":\"scatter\",\"xaxis\":\"x6\",\"yaxis\":\"y6\"},{\"marker\":{\"color\":\"#009E73\"},\"name\":\"XGBoost\",\"showlegend\":false,\"x\":[\"E0\",\"E1\",\"E2\",\"E3\",\"E4\"],\"y\":[0.68,0.6,0.64,0.67,0.68],\"type\":\"scatter\",\"xaxis\":\"x6\",\"yaxis\":\"y6\"},{\"marker\":{\"color\":\"#F0E442\"},\"name\":\"AdaBoost\",\"showlegend\":false,\"x\":[\"E0\",\"E1\",\"E2\",\"E3\",\"E4\"],\"y\":[0.62,0.54,0.57,0.6,0.6],\"type\":\"scatter\",\"xaxis\":\"x6\",\"yaxis\":\"y6\"},{\"marker\":{\"color\":\"#0072B2\"},\"name\":\"RandomForest\",\"showlegend\":false,\"x\":[\"E0\",\"E1\",\"E2\",\"E3\",\"E4\"],\"y\":[0.44,0.32,0.35,0.38,0.39],\"type\":\"scatter\",\"xaxis\":\"x6\",\"yaxis\":\"y6\"},{\"marker\":{\"color\":\"#D55E00\"},\"name\":\"NaiveBayes\",\"showlegend\":false,\"x\":[\"E0\",\"E1\",\"E2\",\"E3\",\"E4\"],\"y\":[0.55,0.48,0.51,0.53,0.54],\"type\":\"scatter\",\"xaxis\":\"x6\",\"yaxis\":\"y6\"},{\"marker\":{\"color\":\"#E69F00\",\"line\":{\"color\":\"black\",\"width\":1}},\"name\":\"DistilBert\",\"x\":[\"E0\",\"E1\",\"E2\",\"E3\",\"E4\"],\"y\":[0.9,0.81,0.89,0.9,0.94],\"type\":\"scatter\",\"xaxis\":\"x7\",\"yaxis\":\"y7\"},{\"marker\":{\"color\":\"#56B4E9\",\"line\":{\"color\":\"black\",\"width\":1}},\"name\":\"Bert\",\"x\":[\"E0\",\"E1\",\"E2\",\"E3\",\"E4\"],\"y\":[0.91,0.81,0.9,0.91,0.94],\"type\":\"scatter\",\"xaxis\":\"x7\",\"yaxis\":\"y7\"},{\"marker\":{\"color\":\"#F0E442\",\"line\":{\"color\":\"black\",\"width\":1}},\"name\":\"GottBert\",\"x\":[\"E0\",\"E1\",\"E2\",\"E3\",\"E4\"],\"y\":[0.88,0.8,0.88,0.89,0.92],\"type\":\"scatter\",\"xaxis\":\"x7\",\"yaxis\":\"y7\"},{\"marker\":{\"color\":\"#009E73\",\"line\":{\"color\":\"black\",\"width\":1}},\"name\":\"Electra\",\"x\":[\"E0\",\"E1\",\"E2\",\"E3\",\"E4\"],\"y\":[0.91,0.78,0.9,0.91,0.94],\"type\":\"scatter\",\"xaxis\":\"x7\",\"yaxis\":\"y7\"}],                        {\"template\":{\"data\":{\"barpolar\":[{\"marker\":{\"line\":{\"color\":\"white\",\"width\":0.5},\"pattern\":{\"fillmode\":\"overlay\",\"size\":10,\"solidity\":0.2}},\"type\":\"barpolar\"}],\"bar\":[{\"error_x\":{\"color\":\"#2a3f5f\"},\"error_y\":{\"color\":\"#2a3f5f\"},\"marker\":{\"line\":{\"color\":\"white\",\"width\":0.5},\"pattern\":{\"fillmode\":\"overlay\",\"size\":10,\"solidity\":0.2}},\"type\":\"bar\"}],\"carpet\":[{\"aaxis\":{\"endlinecolor\":\"#2a3f5f\",\"gridcolor\":\"#C8D4E3\",\"linecolor\":\"#C8D4E3\",\"minorgridcolor\":\"#C8D4E3\",\"startlinecolor\":\"#2a3f5f\"},\"baxis\":{\"endlinecolor\":\"#2a3f5f\",\"gridcolor\":\"#C8D4E3\",\"linecolor\":\"#C8D4E3\",\"minorgridcolor\":\"#C8D4E3\",\"startlinecolor\":\"#2a3f5f\"},\"type\":\"carpet\"}],\"choropleth\":[{\"colorbar\":{\"outlinewidth\":0,\"ticks\":\"\"},\"type\":\"choropleth\"}],\"contourcarpet\":[{\"colorbar\":{\"outlinewidth\":0,\"ticks\":\"\"},\"type\":\"contourcarpet\"}],\"contour\":[{\"colorbar\":{\"outlinewidth\":0,\"ticks\":\"\"},\"colorscale\":[[0.0,\"#0d0887\"],[0.1111111111111111,\"#46039f\"],[0.2222222222222222,\"#7201a8\"],[0.3333333333333333,\"#9c179e\"],[0.4444444444444444,\"#bd3786\"],[0.5555555555555556,\"#d8576b\"],[0.6666666666666666,\"#ed7953\"],[0.7777777777777778,\"#fb9f3a\"],[0.8888888888888888,\"#fdca26\"],[1.0,\"#f0f921\"]],\"type\":\"contour\"}],\"heatmapgl\":[{\"colorbar\":{\"outlinewidth\":0,\"ticks\":\"\"},\"colorscale\":[[0.0,\"#0d0887\"],[0.1111111111111111,\"#46039f\"],[0.2222222222222222,\"#7201a8\"],[0.3333333333333333,\"#9c179e\"],[0.4444444444444444,\"#bd3786\"],[0.5555555555555556,\"#d8576b\"],[0.6666666666666666,\"#ed7953\"],[0.7777777777777778,\"#fb9f3a\"],[0.8888888888888888,\"#fdca26\"],[1.0,\"#f0f921\"]],\"type\":\"heatmapgl\"}],\"heatmap\":[{\"colorbar\":{\"outlinewidth\":0,\"ticks\":\"\"},\"colorscale\":[[0.0,\"#0d0887\"],[0.1111111111111111,\"#46039f\"],[0.2222222222222222,\"#7201a8\"],[0.3333333333333333,\"#9c179e\"],[0.4444444444444444,\"#bd3786\"],[0.5555555555555556,\"#d8576b\"],[0.6666666666666666,\"#ed7953\"],[0.7777777777777778,\"#fb9f3a\"],[0.8888888888888888,\"#fdca26\"],[1.0,\"#f0f921\"]],\"type\":\"heatmap\"}],\"histogram2dcontour\":[{\"colorbar\":{\"outlinewidth\":0,\"ticks\":\"\"},\"colorscale\":[[0.0,\"#0d0887\"],[0.1111111111111111,\"#46039f\"],[0.2222222222222222,\"#7201a8\"],[0.3333333333333333,\"#9c179e\"],[0.4444444444444444,\"#bd3786\"],[0.5555555555555556,\"#d8576b\"],[0.6666666666666666,\"#ed7953\"],[0.7777777777777778,\"#fb9f3a\"],[0.8888888888888888,\"#fdca26\"],[1.0,\"#f0f921\"]],\"type\":\"histogram2dcontour\"}],\"histogram2d\":[{\"colorbar\":{\"outlinewidth\":0,\"ticks\":\"\"},\"colorscale\":[[0.0,\"#0d0887\"],[0.1111111111111111,\"#46039f\"],[0.2222222222222222,\"#7201a8\"],[0.3333333333333333,\"#9c179e\"],[0.4444444444444444,\"#bd3786\"],[0.5555555555555556,\"#d8576b\"],[0.6666666666666666,\"#ed7953\"],[0.7777777777777778,\"#fb9f3a\"],[0.8888888888888888,\"#fdca26\"],[1.0,\"#f0f921\"]],\"type\":\"histogram2d\"}],\"histogram\":[{\"marker\":{\"pattern\":{\"fillmode\":\"overlay\",\"size\":10,\"solidity\":0.2}},\"type\":\"histogram\"}],\"mesh3d\":[{\"colorbar\":{\"outlinewidth\":0,\"ticks\":\"\"},\"type\":\"mesh3d\"}],\"parcoords\":[{\"line\":{\"colorbar\":{\"outlinewidth\":0,\"ticks\":\"\"}},\"type\":\"parcoords\"}],\"pie\":[{\"automargin\":true,\"type\":\"pie\"}],\"scatter3d\":[{\"line\":{\"colorbar\":{\"outlinewidth\":0,\"ticks\":\"\"}},\"marker\":{\"colorbar\":{\"outlinewidth\":0,\"ticks\":\"\"}},\"type\":\"scatter3d\"}],\"scattercarpet\":[{\"marker\":{\"colorbar\":{\"outlinewidth\":0,\"ticks\":\"\"}},\"type\":\"scattercarpet\"}],\"scattergeo\":[{\"marker\":{\"colorbar\":{\"outlinewidth\":0,\"ticks\":\"\"}},\"type\":\"scattergeo\"}],\"scattergl\":[{\"marker\":{\"colorbar\":{\"outlinewidth\":0,\"ticks\":\"\"}},\"type\":\"scattergl\"}],\"scattermapbox\":[{\"marker\":{\"colorbar\":{\"outlinewidth\":0,\"ticks\":\"\"}},\"type\":\"scattermapbox\"}],\"scatterpolargl\":[{\"marker\":{\"colorbar\":{\"outlinewidth\":0,\"ticks\":\"\"}},\"type\":\"scatterpolargl\"}],\"scatterpolar\":[{\"marker\":{\"colorbar\":{\"outlinewidth\":0,\"ticks\":\"\"}},\"type\":\"scatterpolar\"}],\"scatter\":[{\"fillpattern\":{\"fillmode\":\"overlay\",\"size\":10,\"solidity\":0.2},\"type\":\"scatter\"}],\"scatterternary\":[{\"marker\":{\"colorbar\":{\"outlinewidth\":0,\"ticks\":\"\"}},\"type\":\"scatterternary\"}],\"surface\":[{\"colorbar\":{\"outlinewidth\":0,\"ticks\":\"\"},\"colorscale\":[[0.0,\"#0d0887\"],[0.1111111111111111,\"#46039f\"],[0.2222222222222222,\"#7201a8\"],[0.3333333333333333,\"#9c179e\"],[0.4444444444444444,\"#bd3786\"],[0.5555555555555556,\"#d8576b\"],[0.6666666666666666,\"#ed7953\"],[0.7777777777777778,\"#fb9f3a\"],[0.8888888888888888,\"#fdca26\"],[1.0,\"#f0f921\"]],\"type\":\"surface\"}],\"table\":[{\"cells\":{\"fill\":{\"color\":\"#EBF0F8\"},\"line\":{\"color\":\"white\"}},\"header\":{\"fill\":{\"color\":\"#C8D4E3\"},\"line\":{\"color\":\"white\"}},\"type\":\"table\"}]},\"layout\":{\"annotationdefaults\":{\"arrowcolor\":\"#2a3f5f\",\"arrowhead\":0,\"arrowwidth\":1},\"autotypenumbers\":\"strict\",\"coloraxis\":{\"colorbar\":{\"outlinewidth\":0,\"ticks\":\"\"}},\"colorscale\":{\"diverging\":[[0,\"#8e0152\"],[0.1,\"#c51b7d\"],[0.2,\"#de77ae\"],[0.3,\"#f1b6da\"],[0.4,\"#fde0ef\"],[0.5,\"#f7f7f7\"],[0.6,\"#e6f5d0\"],[0.7,\"#b8e186\"],[0.8,\"#7fbc41\"],[0.9,\"#4d9221\"],[1,\"#276419\"]],\"sequential\":[[0.0,\"#0d0887\"],[0.1111111111111111,\"#46039f\"],[0.2222222222222222,\"#7201a8\"],[0.3333333333333333,\"#9c179e\"],[0.4444444444444444,\"#bd3786\"],[0.5555555555555556,\"#d8576b\"],[0.6666666666666666,\"#ed7953\"],[0.7777777777777778,\"#fb9f3a\"],[0.8888888888888888,\"#fdca26\"],[1.0,\"#f0f921\"]],\"sequentialminus\":[[0.0,\"#0d0887\"],[0.1111111111111111,\"#46039f\"],[0.2222222222222222,\"#7201a8\"],[0.3333333333333333,\"#9c179e\"],[0.4444444444444444,\"#bd3786\"],[0.5555555555555556,\"#d8576b\"],[0.6666666666666666,\"#ed7953\"],[0.7777777777777778,\"#fb9f3a\"],[0.8888888888888888,\"#fdca26\"],[1.0,\"#f0f921\"]]},\"colorway\":[\"#636efa\",\"#EF553B\",\"#00cc96\",\"#ab63fa\",\"#FFA15A\",\"#19d3f3\",\"#FF6692\",\"#B6E880\",\"#FF97FF\",\"#FECB52\"],\"font\":{\"color\":\"#2a3f5f\"},\"geo\":{\"bgcolor\":\"white\",\"lakecolor\":\"white\",\"landcolor\":\"white\",\"showlakes\":true,\"showland\":true,\"subunitcolor\":\"#C8D4E3\"},\"hoverlabel\":{\"align\":\"left\"},\"hovermode\":\"closest\",\"mapbox\":{\"style\":\"light\"},\"paper_bgcolor\":\"white\",\"plot_bgcolor\":\"white\",\"polar\":{\"angularaxis\":{\"gridcolor\":\"#EBF0F8\",\"linecolor\":\"#EBF0F8\",\"ticks\":\"\"},\"bgcolor\":\"white\",\"radialaxis\":{\"gridcolor\":\"#EBF0F8\",\"linecolor\":\"#EBF0F8\",\"ticks\":\"\"}},\"scene\":{\"xaxis\":{\"backgroundcolor\":\"white\",\"gridcolor\":\"#DFE8F3\",\"gridwidth\":2,\"linecolor\":\"#EBF0F8\",\"showbackground\":true,\"ticks\":\"\",\"zerolinecolor\":\"#EBF0F8\"},\"yaxis\":{\"backgroundcolor\":\"white\",\"gridcolor\":\"#DFE8F3\",\"gridwidth\":2,\"linecolor\":\"#EBF0F8\",\"showbackground\":true,\"ticks\":\"\",\"zerolinecolor\":\"#EBF0F8\"},\"zaxis\":{\"backgroundcolor\":\"white\",\"gridcolor\":\"#DFE8F3\",\"gridwidth\":2,\"linecolor\":\"#EBF0F8\",\"showbackground\":true,\"ticks\":\"\",\"zerolinecolor\":\"#EBF0F8\"}},\"shapedefaults\":{\"line\":{\"color\":\"#2a3f5f\"}},\"ternary\":{\"aaxis\":{\"gridcolor\":\"#DFE8F3\",\"linecolor\":\"#A2B1C6\",\"ticks\":\"\"},\"baxis\":{\"gridcolor\":\"#DFE8F3\",\"linecolor\":\"#A2B1C6\",\"ticks\":\"\"},\"bgcolor\":\"white\",\"caxis\":{\"gridcolor\":\"#DFE8F3\",\"linecolor\":\"#A2B1C6\",\"ticks\":\"\"}},\"title\":{\"x\":0.05},\"xaxis\":{\"automargin\":true,\"gridcolor\":\"#EBF0F8\",\"linecolor\":\"#EBF0F8\",\"ticks\":\"\",\"title\":{\"standoff\":15},\"zerolinecolor\":\"#EBF0F8\",\"zerolinewidth\":2},\"yaxis\":{\"automargin\":true,\"gridcolor\":\"#EBF0F8\",\"linecolor\":\"#EBF0F8\",\"ticks\":\"\",\"title\":{\"standoff\":15},\"zerolinecolor\":\"#EBF0F8\",\"zerolinewidth\":2}}},\"xaxis\":{\"anchor\":\"y\",\"domain\":[0.0,0.3],\"showticklabels\":false},\"yaxis\":{\"anchor\":\"x\",\"domain\":[0.718,1.0],\"title\":{\"text\":\"F1\"}},\"xaxis2\":{\"anchor\":\"y2\",\"domain\":[0.35,0.6499999999999999],\"showticklabels\":false},\"yaxis2\":{\"anchor\":\"x2\",\"domain\":[0.718,1.0]},\"xaxis3\":{\"anchor\":\"y3\",\"domain\":[0.7,1.0],\"showticklabels\":false},\"yaxis3\":{\"anchor\":\"x3\",\"domain\":[0.718,1.0]},\"xaxis4\":{\"anchor\":\"y4\",\"domain\":[0.0,0.3],\"showticklabels\":false},\"yaxis4\":{\"anchor\":\"x4\",\"domain\":[0.406,0.688],\"title\":{\"text\":\"F1\"}},\"xaxis5\":{\"anchor\":\"y5\",\"domain\":[0.35,0.6499999999999999],\"showticklabels\":false},\"yaxis5\":{\"anchor\":\"x5\",\"domain\":[0.406,0.688]},\"xaxis6\":{\"anchor\":\"y6\",\"domain\":[0.7,1.0],\"showticklabels\":false},\"yaxis6\":{\"anchor\":\"x6\",\"domain\":[0.406,0.688]},\"xaxis7\":{\"anchor\":\"y7\",\"domain\":[0.0,1.0],\"showticklabels\":true},\"yaxis7\":{\"anchor\":\"x7\",\"domain\":[0.0,0.376],\"title\":{\"text\":\"F1\"},\"nticks\":12},\"annotations\":[{\"font\":{\"size\":16},\"showarrow\":false,\"text\":\"BoW\",\"x\":0.15,\"xanchor\":\"center\",\"xref\":\"paper\",\"y\":1.0,\"yanchor\":\"bottom\",\"yref\":\"paper\"},{\"font\":{\"size\":16},\"showarrow\":false,\"text\":\"Tf-idf\",\"x\":0.49999999999999994,\"xanchor\":\"center\",\"xref\":\"paper\",\"y\":1.0,\"yanchor\":\"bottom\",\"yref\":\"paper\"},{\"font\":{\"size\":16},\"showarrow\":false,\"text\":\"Word2Vec\",\"x\":0.85,\"xanchor\":\"center\",\"xref\":\"paper\",\"y\":1.0,\"yanchor\":\"bottom\",\"yref\":\"paper\"},{\"font\":{\"size\":16},\"showarrow\":false,\"text\":\"GloVe\",\"x\":0.15,\"xanchor\":\"center\",\"xref\":\"paper\",\"y\":0.688,\"yanchor\":\"bottom\",\"yref\":\"paper\"},{\"font\":{\"size\":16},\"showarrow\":false,\"text\":\"Fasttext\",\"x\":0.49999999999999994,\"xanchor\":\"center\",\"xref\":\"paper\",\"y\":0.688,\"yanchor\":\"bottom\",\"yref\":\"paper\"},{\"font\":{\"size\":16},\"showarrow\":false,\"text\":\"Sentence Transformer\",\"x\":0.85,\"xanchor\":\"center\",\"xref\":\"paper\",\"y\":0.688,\"yanchor\":\"bottom\",\"yref\":\"paper\"},{\"font\":{\"size\":16},\"showarrow\":false,\"text\":\"Transformer Models\",\"x\":0.5,\"xanchor\":\"center\",\"xref\":\"paper\",\"y\":0.376,\"yanchor\":\"bottom\",\"yref\":\"paper\"}]},                        {\"responsive\": true}                    ).then(function(){\n",
       "                            \n",
       "var gd = document.getElementById('3ac866ed-558c-45f8-8f60-1e5d55e08a5d');\n",
       "var x = new MutationObserver(function (mutations, observer) {{\n",
       "        var display = window.getComputedStyle(gd).display;\n",
       "        if (!display || display === 'none') {{\n",
       "            console.log([gd, 'removed!']);\n",
       "            Plotly.purge(gd);\n",
       "            observer.disconnect();\n",
       "        }}\n",
       "}});\n",
       "\n",
       "// Listen for the removal of the full notebook cells\n",
       "var notebookContainer = gd.closest('#notebook-container');\n",
       "if (notebookContainer) {{\n",
       "    x.observe(notebookContainer, {childList: true});\n",
       "}}\n",
       "\n",
       "// Listen for the clearing of the current output cell\n",
       "var outputEl = gd.closest('.output');\n",
       "if (outputEl) {{\n",
       "    x.observe(outputEl, {childList: true});\n",
       "}}\n",
       "\n",
       "                        })                };                });            </script>        </div>"
      ]
     },
     "metadata": {},
     "output_type": "display_data"
    }
   ],
   "source": [
    "fig = make_subplots(rows=3, \n",
    "                    cols=3, \n",
    "                    specs=[[{},{},{}], [{},{},{}], [{\"colspan\": 3}, None, None]],\n",
    "                    horizontal_spacing=.05,\n",
    "                    vertical_spacing=.03,\n",
    "                    row_heights=[.3, .3, .4],\n",
    "                    subplot_titles=(\"BoW\", \"Tf-idf\", \"Word2Vec\", \"GloVe\", \"Fasttext\", \"Sentence Transformer\", \"Transformer Models\"),\n",
    "                   )\n",
    "fig.update_layout(template='plotly_white')\n",
    "df = pd.read_csv('/home/sami/FLAIR/Results/LINEAR/LinearScores.csv').sort_values('Experiment')\n",
    "embedding = 'BoW'\n",
    "row = 1\n",
    "col = 1\n",
    "model = 'LogReg'\n",
    "fig = add_trace_linear(df, fig, embedding, model, row=1, col=1)\n",
    "model = 'SVM'\n",
    "fig = add_trace_linear(df, fig, embedding, model, row=1, col=1)\n",
    "model = 'XGBoost'\n",
    "fig = add_trace_linear(df, fig, embedding, model, row=1, col=1)\n",
    "model = 'AdaBoost'\n",
    "fig = add_trace_linear(df, fig, embedding, model, row=1, col=1)\n",
    "model = 'RandomForest'\n",
    "fig = add_trace_linear(df, fig, embedding, model, row=1, col=1)\n",
    "model = 'NaiveBayes'\n",
    "fig = add_trace_linear(df, fig, embedding, model, row=1, col=1)\n",
    "\n",
    "embedding = 'Tf-idf'\n",
    "row = 1\n",
    "col = 2\n",
    "model = 'LogReg'\n",
    "fig = add_trace_linear(df, fig, embedding, model, row=row, col=col)\n",
    "model = 'SVM'\n",
    "fig = add_trace_linear(df, fig, embedding, model, row=row, col=col)\n",
    "model = 'XGBoost'\n",
    "fig = add_trace_linear(df, fig, embedding, model, row=row, col=col)\n",
    "model = 'AdaBoost'\n",
    "fig = add_trace_linear(df, fig, embedding, model, row=row, col=col)\n",
    "model = 'RandomForest'\n",
    "fig = add_trace_linear(df, fig, embedding, model, row=row, col=col)\n",
    "model = 'NaiveBayes'\n",
    "fig = add_trace_linear(df, fig, embedding, model, row=row, col=col)\n",
    "\n",
    "embedding = 'Word2Vec'\n",
    "row = 1\n",
    "col = 3\n",
    "model = 'LogReg'\n",
    "fig = add_trace_linear(df, fig, embedding, model, row=row, col=col)\n",
    "model = 'SVM'\n",
    "fig = add_trace_linear(df, fig, embedding, model, row=row, col=col)\n",
    "model = 'XGBoost'\n",
    "fig = add_trace_linear(df, fig, embedding, model, row=row, col=col)\n",
    "model = 'AdaBoost'\n",
    "fig = add_trace_linear(df, fig, embedding, model, row=row, col=col)\n",
    "model = 'RandomForest'\n",
    "fig = add_trace_linear(df, fig, embedding, model, row=row, col=col)\n",
    "model = 'NaiveBayes'\n",
    "fig = add_trace_linear(df, fig, embedding, model, row=row, col=col)\n",
    "\n",
    "embedding = 'GloVe'\n",
    "row = 2\n",
    "col = 1\n",
    "model = 'LogReg'\n",
    "fig = add_trace_linear(df, fig, embedding, model, row=row, col=col)\n",
    "model = 'SVM'\n",
    "fig = add_trace_linear(df, fig, embedding, model, row=row, col=col)\n",
    "model = 'XGBoost'\n",
    "fig = add_trace_linear(df, fig, embedding, model, row=row, col=col)\n",
    "model = 'AdaBoost'\n",
    "fig = add_trace_linear(df, fig, embedding, model, row=row, col=col)\n",
    "model = 'RandomForest'\n",
    "fig = add_trace_linear(df, fig, embedding, model, row=row, col=col)\n",
    "model = 'NaiveBayes'\n",
    "fig = add_trace_linear(df, fig, embedding, model, row=row, col=col)\n",
    "\n",
    "embedding = 'Fasttext'\n",
    "row = 2\n",
    "col = 2\n",
    "model = 'LogReg'\n",
    "fig = add_trace_linear(df, fig, embedding, model, row=row, col=col)\n",
    "model = 'SVM'\n",
    "fig = add_trace_linear(df, fig, embedding, model, row=row, col=col)\n",
    "model = 'XGBoost'\n",
    "fig = add_trace_linear(df, fig, embedding, model, row=row, col=col)\n",
    "model = 'AdaBoost'\n",
    "fig = add_trace_linear(df, fig, embedding, model, row=row, col=col)\n",
    "model = 'RandomForest'\n",
    "fig = add_trace_linear(df, fig, embedding, model, row=row, col=col)\n",
    "model = 'NaiveBayes'\n",
    "fig = add_trace_linear(df, fig, embedding, model, row=row, col=col)\n",
    "\n",
    "embedding = 'SentEmbeddings'\n",
    "row = 2\n",
    "col = 3\n",
    "model = 'LogReg'\n",
    "fig = add_trace_linear(df, fig, embedding, model, row=row, col=col)\n",
    "model = 'SVM'\n",
    "fig = add_trace_linear(df, fig, embedding, model, row=row, col=col)\n",
    "model = 'XGBoost'\n",
    "fig = add_trace_linear(df, fig, embedding, model, row=row, col=col)\n",
    "model = 'AdaBoost'\n",
    "fig = add_trace_linear(df, fig, embedding, model, row=row, col=col)\n",
    "model = 'RandomForest'\n",
    "fig = add_trace_linear(df, fig, embedding, model, row=row, col=col)\n",
    "model = 'NaiveBayes'\n",
    "fig = add_trace_linear(df, fig, embedding, model, row=row, col=col)\n",
    "\n",
    "row = 3\n",
    "col = 1\n",
    "model = 'DistilBert'\n",
    "df = pd.read_csv('/home/sami/FLAIR/Results/TRANSFORMER/TransformerScores.csv')\n",
    "fig = add_trace_transformer(df, fig, model, row=row, col=col)\n",
    "model = 'Bert'\n",
    "fig = add_trace_transformer(df, fig, model, row=row, col=col)\n",
    "model = 'GottBert'\n",
    "fig = add_trace_transformer(df, fig, model, row=row, col=col)\n",
    "model = 'Electra'\n",
    "fig = add_trace_transformer(df, fig, model, row=row, col=col)\n",
    "fig.update_xaxes(showticklabels=False)\n",
    "fig.update_yaxes(title_text='F1', row=1, col=1)\n",
    "fig.update_yaxes(title_text='F1', row=2, col=1)\n",
    "fig.update_yaxes(title_text='F1', row=3, col=1)\n",
    "fig.update_yaxes(nticks=12, row=row, col=col)\n",
    "fig.update_xaxes(showticklabels=True, row=row, col=col)\n",
    "pio.write_image(fig, '/home/sami/FLAIR/Visuals/PNG/Scores.png',scale=10, width=1080, height=800)\n",
    "pio.write_image(fig, '/home/sami/FLAIR/Visuals/SVG/Scores.svg',scale=10, width=1080, height=800)\n",
    "pio.write_image(fig, '/home/sami/FLAIR/Visuals/JPG/Scores.jpg',scale=10, width=1080, height=800)\n",
    "pio.write_image(fig, '/home/sami/FLAIR/Visuals/PDF/Scores.pdf',scale=10, width=1080, height=800)\n",
    "fig.write_html(\"/home/sami/FLAIR/Visuals/HTML/Scores.html\")\n",
    "fig.show()"
   ]
  },
  {
   "cell_type": "code",
   "execution_count": null,
   "metadata": {},
   "outputs": [],
   "source": []
  }
 ],
 "metadata": {
  "kernelspec": {
   "display_name": "venv",
   "language": "python",
   "name": "python3"
  },
  "language_info": {
   "codemirror_mode": {
    "name": "ipython",
    "version": 3
   },
   "file_extension": ".py",
   "mimetype": "text/x-python",
   "name": "python",
   "nbconvert_exporter": "python",
   "pygments_lexer": "ipython3",
   "version": "3.10.6"
  },
  "orig_nbformat": 4,
  "vscode": {
   "interpreter": {
    "hash": "2d013279ec9a42929aa5a6aee48384d90259723a5e75b817778f7a355b4aca79"
   }
  }
 },
 "nbformat": 4,
 "nbformat_minor": 2
}
