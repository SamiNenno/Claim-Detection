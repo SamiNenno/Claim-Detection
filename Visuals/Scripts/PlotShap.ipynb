{
 "cells": [
  {
   "cell_type": "code",
   "execution_count": 1,
   "metadata": {},
   "outputs": [],
   "source": [
    "from tqdm import tqdm\n",
    "import numpy as np\n",
    "import pandas as pd\n",
    "import plotly.graph_objects as go\n",
    "from plotly.subplots import make_subplots\n",
    "import plotly.io as pio"
   ]
  },
  {
   "cell_type": "code",
   "execution_count": 7,
   "metadata": {},
   "outputs": [],
   "source": [
    "def plot_shap(shap_values:pd.DataFrame, file_name:str, n:int = 5):\n",
    "    def customize_n(temp, fixed_vocab, n):\n",
    "        custom_n = n\n",
    "        for idx, row in temp.head(n).iterrows():\n",
    "            if row.Word in fixed_vocab:\n",
    "                custom_n +=1\n",
    "        return custom_n\n",
    "    class_names = [\"Aussage\", \"Meinung\", \"Prognose\", \"Sonstiges\"]\n",
    "    fig = make_subplots(rows=1, cols=4,\n",
    "                        horizontal_spacing=.12,\n",
    "                        vertical_spacing=.07,\n",
    "                        subplot_titles = class_names)\n",
    "    fig.update_layout(template='plotly_white')\n",
    "        \n",
    "    quotes = shap_values[(shap_values.Word == ':') | \n",
    "                               (shap_values.Word == '\"') | \n",
    "                               (shap_values.Word == 'sagt') | \n",
    "                               (shap_values.Word == 'sagte') | \n",
    "                               (shap_values.Word == 'sagtet') |\n",
    "                               (shap_values.Word == 'sagten') |\n",
    "                                (shap_values.Word == 'gesagt') \n",
    "                             ].sort_values('Word', ascending=False)\n",
    "    punctuation = shap_values[(shap_values.Word == '.') | \n",
    "                              (shap_values.Word == '!') | \n",
    "                              (shap_values.Word == '?')\n",
    "                             ].sort_values('Word', ascending=False)\n",
    "    modal_verbs = shap_values[\n",
    "                               (shap_values.Word == 'muss') |\n",
    "                               (shap_values.Word == 'müssen') |\n",
    "                               (shap_values.Word == 'kann') |\n",
    "                               (shap_values.Word == 'können') |\n",
    "                               (shap_values.Word == 'darf') |\n",
    "                               (shap_values.Word == 'dürfen') |\n",
    "                               (shap_values.Word == 'soll') |\n",
    "                               (shap_values.Word == 'sollen') |\n",
    "                               (shap_values.Word == 'will') |\n",
    "                               (shap_values.Word == 'wollen') |\n",
    "                               (shap_values.Word == 'mag') |\n",
    "                               (shap_values.Word == 'mögen') \n",
    "                              ].sort_values('Word', ascending=False)\n",
    "    future_tense = shap_values[(shap_values.Word == 'werde') | \n",
    "                               (shap_values.Word == 'wirst') | \n",
    "                               (shap_values.Word == 'wird') | \n",
    "                               (shap_values.Word == 'werden') |\n",
    "                               (shap_values.Word == 'werdet') \n",
    "                             ].sort_values('Word', ascending=False)\n",
    "    fixed_vocab = punctuation.Word.to_list() + modal_verbs.Word.to_list() + future_tense.Word.to_list() \n",
    "    \n",
    "\n",
    "    label = class_names[0]\n",
    "    col = 1\n",
    "    row = 1\n",
    "    temp = shap_values.iloc[shap_values[label].abs().sort_values(ascending=False).index]\n",
    "    custom_n = customize_n(temp, fixed_vocab, n)\n",
    "    temp = temp.head(custom_n).iloc[::-1]\n",
    "    temp = pd.concat([quotes, temp]).drop_duplicates(keep='first').reset_index(drop=True)\n",
    "    temp = pd.concat([modal_verbs, temp]).drop_duplicates(keep='first').reset_index(drop=True)\n",
    "    temp = pd.concat([future_tense, temp]).drop_duplicates(keep='first').reset_index(drop=True)\n",
    "    temp = pd.concat([punctuation, temp]).drop_duplicates(keep='first').reset_index(drop=True)\n",
    "    color = np.where(temp[label]<0, \"#E69F00\", \"#0072B2\")\n",
    "    fig.add_trace(go.Bar(y=temp['Word'], x=temp[label],\n",
    "                    showlegend=False,\n",
    "                    marker_color=color,\n",
    "                    name=label,\n",
    "                    orientation='h'), row=row, col=col)\n",
    "    fig.update_yaxes(nticks=temp.shape[0], col=col, row=row)\n",
    "\n",
    "    label = class_names[1]\n",
    "    col = 2\n",
    "    row = 1\n",
    "    temp = shap_values.iloc[shap_values[label].abs().sort_values(ascending=False).index]\n",
    "    custom_n = customize_n(temp, fixed_vocab, n)\n",
    "    temp = temp.head(custom_n).iloc[::-1]\n",
    "    temp = pd.concat([quotes, temp]).drop_duplicates(keep='first').reset_index(drop=True)\n",
    "    temp = pd.concat([modal_verbs, temp]).drop_duplicates(keep='first').reset_index(drop=True)\n",
    "    temp = pd.concat([future_tense, temp]).drop_duplicates(keep='first').reset_index(drop=True)\n",
    "    temp = pd.concat([punctuation, temp]).drop_duplicates(keep='first').reset_index(drop=True)\n",
    "    color = np.where(temp[label]<0, \"#E69F00\", \"#0072B2\")\n",
    "    fig.add_trace(go.Bar(y=temp['Word'], x=temp[label],\n",
    "                    showlegend=False,\n",
    "                    marker_color=color,\n",
    "                    name=label,\n",
    "                    orientation='h'), row=row, col=col)\n",
    "    fig.update_yaxes(nticks=temp.shape[0], col=col, row=row)\n",
    "\n",
    "    label = class_names[2]\n",
    "    col = 3\n",
    "    row = 1\n",
    "    temp = shap_values.iloc[shap_values[label].abs().sort_values(ascending=False).index]\n",
    "    custom_n = customize_n(temp, fixed_vocab, n)\n",
    "    temp = temp.head(custom_n).iloc[::-1]\n",
    "    temp = pd.concat([quotes, temp]).drop_duplicates(keep='first').reset_index(drop=True)\n",
    "    temp = pd.concat([modal_verbs, temp]).drop_duplicates(keep='first').reset_index(drop=True)\n",
    "    temp = pd.concat([future_tense, temp]).drop_duplicates(keep='first').reset_index(drop=True)\n",
    "    temp = pd.concat([punctuation, temp]).drop_duplicates(keep='first').reset_index(drop=True)\n",
    "    color = np.where(temp[label]<0, \"#E69F00\", \"#0072B2\")\n",
    "    fig.add_trace(go.Bar(y=temp['Word'], x=temp[label],\n",
    "                    showlegend=False,\n",
    "                    marker_color=color,\n",
    "                    name=label,\n",
    "                    orientation='h'), row=row, col=col)\n",
    "    \n",
    "    fig.update_yaxes(nticks=temp.shape[0], col=col, row=row)\n",
    "\n",
    "    label = class_names[3]\n",
    "    col = 4\n",
    "    row = 1\n",
    "    temp = shap_values.iloc[shap_values[label].abs().sort_values(ascending=False).index]\n",
    "    custom_n = customize_n(temp, fixed_vocab, n)\n",
    "    temp = temp.head(custom_n).iloc[::-1]\n",
    "    temp = pd.concat([quotes, temp]).drop_duplicates(keep='first').reset_index(drop=True)\n",
    "    temp = pd.concat([modal_verbs, temp]).drop_duplicates(keep='first').reset_index(drop=True)\n",
    "    temp = pd.concat([future_tense, temp]).drop_duplicates(keep='first').reset_index(drop=True)\n",
    "    temp = pd.concat([punctuation, temp]).drop_duplicates(keep='first').reset_index(drop=True)\n",
    "    color = np.where(temp[label]<0, \"#E69F00\", \"#0072B2\") # \"#D55E00\" --> \"#E69F00\"\n",
    "    fig.add_trace(go.Bar(y=temp['Word'], x=temp[label],\n",
    "                    showlegend=False,\n",
    "                    marker_color=color,\n",
    "                    name=label,\n",
    "                    orientation='h'), row=row, col=col)\n",
    "\n",
    "    fig.update_yaxes(nticks=temp.shape[0]*2, col=col, row=row)\n",
    "    fig.add_shape( # add a horizontal \"target\" line\n",
    "    type=\"line\", line_color=\"gray\", line_width=1, opacity=.6, line_dash=\"dash\",\n",
    "    x0=0, x1=1, xref=\"paper\", y0=2.5, y1=2.5, yref=\"y\"\n",
    "    )\n",
    "    fig.add_shape( # add a horizontal \"target\" line\n",
    "    type=\"line\", line_color=\"gray\", line_width=1, opacity=.6, line_dash=\"dash\",\n",
    "    x0=0, x1=1, xref=\"paper\", y0=7.5, y1=7.5, yref=\"y\"\n",
    "    )\n",
    "    fig.add_shape( # add a horizontal \"target\" line\n",
    "    type=\"line\", line_color=\"gray\", line_width=1, opacity=.6, line_dash=\"dash\",\n",
    "    x0=0, x1=1, xref=\"paper\", y0=19.5, y1=19.5, yref=\"y\"\n",
    "    )\n",
    "    fig.add_shape( # add a horizontal \"target\" line\n",
    "    type=\"line\", line_color=\"gray\", line_width=1, opacity=.6, line_dash=\"dash\",\n",
    "    x0=0, x1=1, xref=\"paper\", y0=25.5, y1=25.5, yref=\"y\"\n",
    "    )\n",
    "    \n",
    "    max_ = temp[label].max() * 1.5\n",
    "    \n",
    "    fig.add_annotation(\n",
    "    x=max_\n",
    "    , y=-.1\n",
    "    , text=f'<b>Punctuation</b>'\n",
    "    , yanchor='bottom'\n",
    "    , showarrow=False\n",
    "    , ax=-20\n",
    "    , ay=-30\n",
    "    ,yref=\"y4\"\n",
    "    ,xref=\"x4\"\n",
    "    , align=\"right\"\n",
    "    , font=dict(size=11, color=\"black\")\n",
    "    ,textangle=90)\n",
    "    \n",
    "    fig.add_annotation(\n",
    "    x=max_\n",
    "    , y=3.5\n",
    "    , text=f'<b>Future Tense</b>'\n",
    "    , yanchor='bottom'\n",
    "    , showarrow=False\n",
    "    , ax=-20\n",
    "    , ay=-30\n",
    "    ,yref=\"y4\"\n",
    "    ,xref=\"x4\"\n",
    "    , align=\"right\"\n",
    "    , font=dict(size=11, color=\"black\")\n",
    "    ,textangle=90)\n",
    "    \n",
    "    fig.add_annotation(\n",
    "    x=max_\n",
    "    , y=13.5\n",
    "    , text=f'<b>Modal Verbs</b>'\n",
    "    , yanchor='middle'\n",
    "    , showarrow=False\n",
    "    , ax=-20\n",
    "    , ay=-30\n",
    "    ,yref=\"y4\"\n",
    "    ,xref=\"x4\"\n",
    "    , align=\"right\"\n",
    "    , font=dict(size=11, color=\"black\")\n",
    "    ,textangle=90)\n",
    "    \n",
    "    fig.add_annotation(\n",
    "    x=max_\n",
    "    , y=22.5\n",
    "    , text=f'<b>Quotes</b>'\n",
    "    , yanchor='middle'\n",
    "    , showarrow=False\n",
    "    , ax=-20\n",
    "    , ay=-30\n",
    "    ,yref=\"y4\"\n",
    "    ,xref=\"x4\"\n",
    "    , align=\"right\"\n",
    "    , font=dict(size=11, color=\"black\")\n",
    "    ,textangle=90)\n",
    "    \n",
    "    fig.add_annotation(\n",
    "    x=max_\n",
    "    , y=28\n",
    "    , text=f'<b>Top {n}</b>'\n",
    "    , yanchor='middle'\n",
    "    , showarrow=False\n",
    "    , ax=-20\n",
    "    , ay=-30\n",
    "    ,yref=\"y4\"\n",
    "    ,xref=\"x4\"\n",
    "    , align=\"right\"\n",
    "    , font=dict(size=11, color=\"black\")\n",
    "    ,textangle=90)\n",
    "    \n",
    "    pio.write_image(fig, f'/home/sami/FLAIR/Visuals/PNG/{file_name}_ShapPlot.png',scale=10, width=1080, height=800)\n",
    "    pio.write_image(fig, f'/home/sami/FLAIR/Visuals/JPG/{file_name}_ShapPlot.jpg',scale=10, width=1080, height=800)\n",
    "    pio.write_image(fig, f'/home/sami/FLAIR/Visuals/SVG/{file_name}_ShapPlot.svg',scale=10, width=1080, height=800)\n",
    "    pio.write_image(fig, f'/home/sami/FLAIR/Visuals/PDF/{file_name}_ShapPlot.pdf',scale=10, width=1080, height=800)\n",
    "    fig.write_html(f\"/home/sami/FLAIR/Visuals/HTML/{file_name}_ShapPlot.html\")\n",
    "    fig.show()\n"
   ]
  },
  {
   "cell_type": "code",
   "execution_count": 8,
   "metadata": {},
   "outputs": [
    {
     "data": {
      "application/vnd.plotly.v1+json": {
       "config": {
        "plotlyServerURL": "https://plot.ly"
       },
       "data": [
        {
         "marker": {
          "color": [
           "#E69F00",
           "#0072B2",
           "#E69F00",
           "#0072B2",
           "#E69F00",
           "#E69F00",
           "#E69F00",
           "#E69F00",
           "#E69F00",
           "#0072B2",
           "#E69F00",
           "#0072B2",
           "#E69F00",
           "#E69F00",
           "#E69F00",
           "#E69F00",
           "#0072B2",
           "#0072B2",
           "#E69F00",
           "#E69F00",
           "#0072B2",
           "#0072B2",
           "#0072B2",
           "#0072B2",
           "#0072B2",
           "#0072B2",
           "#0072B2",
           "#0072B2",
           "#0072B2",
           "#0072B2",
           "#0072B2"
          ]
         },
         "name": "Aussage",
         "orientation": "h",
         "showlegend": false,
         "type": "bar",
         "x": [
          -0.0463442356754389,
          0.1289309082961034,
          -0.0995006503760414,
          0.0429130183242705,
          -0.0771301402355007,
          -0.0796545943556765,
          -0.0599045517094956,
          -0.0378063120907449,
          -0.0229313264730738,
          0.0397847734569348,
          -0.0028476961285457,
          0.0275565113317016,
          -0.1194314992763729,
          -0.0292805292757799,
          -0.1138171792005824,
          -0.0518048511196336,
          0.0112834794299157,
          0.0321238025119315,
          -0.1018445546822715,
          -0.0910372052871583,
          0.1358990712047882,
          0.1283381927540461,
          0.0984576783452678,
          0.078872393699586,
          0.0128221683542644,
          0.0466939990763058,
          0.5132841354388802,
          0.5341629142531019,
          0.5445865011597562,
          0.6430486019453383,
          0.6757473406214558
         ],
         "xaxis": "x",
         "y": [
          "?",
          ".",
          "!",
          "wirst",
          "wird",
          "werdet",
          "werden",
          "werde",
          "wollen",
          "will",
          "sollen",
          "soll",
          "müssen",
          "mögen",
          "muss",
          "mag",
          "können",
          "kann",
          "dürfen",
          "darf",
          "sagten",
          "sagte",
          "sagt",
          "gesagt",
          ":",
          "\"",
          "sammeln",
          "fasst",
          "umfaßt",
          "unbekannt",
          "unterschieden"
         ],
         "yaxis": "y"
        },
        {
         "marker": {
          "color": [
           "#E69F00",
           "#0072B2",
           "#E69F00",
           "#0072B2",
           "#E69F00",
           "#0072B2",
           "#E69F00",
           "#E69F00",
           "#0072B2",
           "#0072B2",
           "#0072B2",
           "#0072B2",
           "#0072B2",
           "#0072B2",
           "#0072B2",
           "#0072B2",
           "#0072B2",
           "#0072B2",
           "#0072B2",
           "#0072B2",
           "#E69F00",
           "#E69F00",
           "#E69F00",
           "#E69F00",
           "#E69F00",
           "#E69F00",
           "#0072B2",
           "#0072B2",
           "#0072B2",
           "#0072B2",
           "#0072B2"
          ]
         },
         "name": "Meinung",
         "orientation": "h",
         "showlegend": false,
         "type": "bar",
         "x": [
          -0.0244504146943473,
          0.0401748602387696,
          -0.0621841153256688,
          0.0005069833396191,
          -0.0442368653119717,
          0.0247862341866721,
          -0.0183405492642064,
          -0.0930375885562441,
          0.0942730061457516,
          0.0268504163509581,
          0.048219577317625,
          0.0212687706699014,
          0.2423033084373531,
          0.0385323126376408,
          0.237180215656717,
          0.0967013117832864,
          0.0257650777793071,
          0.0185566158555412,
          0.175075814129616,
          0.1807936979317466,
          -0.0648970459927524,
          -0.0100179962908181,
          -0.0391968818560777,
          -0.0108128198564067,
          -0.008653911729053,
          -0.0082911998071007,
          0.3691506471150205,
          0.3693225179320304,
          0.4199702533951495,
          0.5475771338101367,
          0.615673765198153
         ],
         "xaxis": "x2",
         "y": [
          "?",
          ".",
          "!",
          "wirst",
          "wird",
          "werdet",
          "werden",
          "werde",
          "wollen",
          "will",
          "sollen",
          "soll",
          "müssen",
          "mögen",
          "muss",
          "mag",
          "können",
          "kann",
          "dürfen",
          "darf",
          "sagten",
          "sagte",
          "sagt",
          "gesagt",
          ":",
          "\"",
          "interessante",
          "wunderbar",
          "scheinen",
          "nerv",
          "sympath"
         ],
         "yaxis": "y2"
        },
        {
         "marker": {
          "color": [
           "#E69F00",
           "#0072B2",
           "#E69F00",
           "#0072B2",
           "#0072B2",
           "#0072B2",
           "#0072B2",
           "#0072B2",
           "#E69F00",
           "#E69F00",
           "#E69F00",
           "#E69F00",
           "#E69F00",
           "#E69F00",
           "#E69F00",
           "#E69F00",
           "#0072B2",
           "#E69F00",
           "#E69F00",
           "#E69F00",
           "#E69F00",
           "#E69F00",
           "#E69F00",
           "#E69F00",
           "#E69F00",
           "#E69F00",
           "#E69F00",
           "#E69F00",
           "#E69F00",
           "#0072B2",
           "#0072B2"
          ]
         },
         "name": "Prognose",
         "orientation": "h",
         "showlegend": false,
         "type": "bar",
         "x": [
          -0.0057117155937101,
          0.0119751373506323,
          -0.0082678963209558,
          0.0091202572037047,
          0.2328675865788518,
          0.0722513765855467,
          0.1628101774977451,
          0.2545953368325148,
          -0.0102174803621287,
          -0.0065104223241624,
          -0.007636376054445,
          -0.0003004501849735,
          -0.0018700699277461,
          -0.0002247922013615,
          -0.0090557486803311,
          -0.0002134325437415,
          0.0132310854833603,
          -0.0012239677626301,
          -0.0003306255882336,
          -0.0023807183340614,
          -0.0008769699728182,
          -0.0001225441536403,
          -0.0065451911722057,
          -0.0152590840203125,
          -0.0016306539187004,
          -0.0057653353696371,
          -0.3089241800735181,
          -0.3138266285277495,
          -0.4755863408254299,
          0.4877990697714267,
          0.4999766242472105
         ],
         "xaxis": "x3",
         "y": [
          "?",
          ".",
          "!",
          "wirst",
          "wird",
          "werdet",
          "werden",
          "werde",
          "wollen",
          "will",
          "sollen",
          "soll",
          "müssen",
          "mögen",
          "muss",
          "mag",
          "können",
          "kann",
          "dürfen",
          "darf",
          "sagten",
          "sagte",
          "sagt",
          "gesagt",
          ":",
          "\"",
          "unterworfen",
          "erlassen",
          "unterschieden",
          "verhandeln",
          "verschwinden"
         ],
         "yaxis": "y3"
        },
        {
         "marker": {
          "color": [
           "#0072B2",
           "#E69F00",
           "#0072B2",
           "#E69F00",
           "#E69F00",
           "#E69F00",
           "#E69F00",
           "#E69F00",
           "#E69F00",
           "#E69F00",
           "#E69F00",
           "#E69F00",
           "#E69F00",
           "#E69F00",
           "#E69F00",
           "#E69F00",
           "#E69F00",
           "#E69F00",
           "#E69F00",
           "#E69F00",
           "#E69F00",
           "#E69F00",
           "#E69F00",
           "#E69F00",
           "#E69F00",
           "#E69F00",
           "#E69F00",
           "#E69F00",
           "#E69F00",
           "#E69F00",
           "#E69F00"
          ]
         },
         "name": "Sonstiges",
         "orientation": "h",
         "showlegend": false,
         "type": "bar",
         "x": [
          0.0765063646601726,
          -0.1810809057421744,
          0.1699526603706012,
          -0.0525402415996723,
          -0.1115005815896716,
          -0.0173830142658275,
          -0.0845650767528119,
          -0.1237514364823601,
          -0.0611241989911892,
          -0.0601247669331987,
          -0.037735505343238,
          -0.0485248302084824,
          -0.1210017387558282,
          -0.0090269863031116,
          -0.1143072872085723,
          -0.0446830287974776,
          -0.0502796430638113,
          -0.0494564515894587,
          -0.0729006330997467,
          -0.0873757754234597,
          -0.0701250542054906,
          -0.1181976545039261,
          -0.0527156059192859,
          -0.0528004908978999,
          -0.0025376028412738,
          -0.0326374653292368,
          -0.4755935085158853,
          -0.4991484588013009,
          -0.5109862242011332,
          -0.5359813711595507,
          -0.5473196477964848
         ],
         "xaxis": "x4",
         "y": [
          "?",
          ".",
          "!",
          "wirst",
          "wird",
          "werdet",
          "werden",
          "werde",
          "wollen",
          "will",
          "sollen",
          "soll",
          "müssen",
          "mögen",
          "muss",
          "mag",
          "können",
          "kann",
          "dürfen",
          "darf",
          "sagten",
          "sagte",
          "sagt",
          "gesagt",
          ":",
          "\"",
          "eingeschaltet",
          "verschärft",
          "nerv",
          "fasst",
          "umfaßt"
         ],
         "yaxis": "y4"
        }
       ],
       "layout": {
        "annotations": [
         {
          "font": {
           "size": 16
          },
          "showarrow": false,
          "text": "Aussage",
          "x": 0.08,
          "xanchor": "center",
          "xref": "paper",
          "y": 1,
          "yanchor": "bottom",
          "yref": "paper"
         },
         {
          "font": {
           "size": 16
          },
          "showarrow": false,
          "text": "Meinung",
          "x": 0.36000000000000004,
          "xanchor": "center",
          "xref": "paper",
          "y": 1,
          "yanchor": "bottom",
          "yref": "paper"
         },
         {
          "font": {
           "size": 16
          },
          "showarrow": false,
          "text": "Prognose",
          "x": 0.6400000000000001,
          "xanchor": "center",
          "xref": "paper",
          "y": 1,
          "yanchor": "bottom",
          "yref": "paper"
         },
         {
          "font": {
           "size": 16
          },
          "showarrow": false,
          "text": "Sonstiges",
          "x": 0.9199999999999999,
          "xanchor": "center",
          "xref": "paper",
          "y": 1,
          "yanchor": "bottom",
          "yref": "paper"
         },
         {
          "align": "right",
          "ax": -20,
          "ay": -30,
          "font": {
           "color": "black",
           "size": 11
          },
          "showarrow": false,
          "text": "<b>Punctuation</b>",
          "textangle": 90,
          "x": 0.2549289905559018,
          "xref": "x4",
          "y": -0.1,
          "yanchor": "bottom",
          "yref": "y4"
         },
         {
          "align": "right",
          "ax": -20,
          "ay": -30,
          "font": {
           "color": "black",
           "size": 11
          },
          "showarrow": false,
          "text": "<b>Future Tense</b>",
          "textangle": 90,
          "x": 0.2549289905559018,
          "xref": "x4",
          "y": 3.5,
          "yanchor": "bottom",
          "yref": "y4"
         },
         {
          "align": "right",
          "ax": -20,
          "ay": -30,
          "font": {
           "color": "black",
           "size": 11
          },
          "showarrow": false,
          "text": "<b>Modal Verbs</b>",
          "textangle": 90,
          "x": 0.2549289905559018,
          "xref": "x4",
          "y": 13.5,
          "yanchor": "middle",
          "yref": "y4"
         },
         {
          "align": "right",
          "ax": -20,
          "ay": -30,
          "font": {
           "color": "black",
           "size": 11
          },
          "showarrow": false,
          "text": "<b>Quotes</b>",
          "textangle": 90,
          "x": 0.2549289905559018,
          "xref": "x4",
          "y": 22.5,
          "yanchor": "middle",
          "yref": "y4"
         },
         {
          "align": "right",
          "ax": -20,
          "ay": -30,
          "font": {
           "color": "black",
           "size": 11
          },
          "showarrow": false,
          "text": "<b>Top 5</b>",
          "textangle": 90,
          "x": 0.2549289905559018,
          "xref": "x4",
          "y": 28,
          "yanchor": "middle",
          "yref": "y4"
         }
        ],
        "shapes": [
         {
          "line": {
           "color": "gray",
           "dash": "dash",
           "width": 1
          },
          "opacity": 0.6,
          "type": "line",
          "x0": 0,
          "x1": 1,
          "xref": "paper",
          "y0": 2.5,
          "y1": 2.5,
          "yref": "y"
         },
         {
          "line": {
           "color": "gray",
           "dash": "dash",
           "width": 1
          },
          "opacity": 0.6,
          "type": "line",
          "x0": 0,
          "x1": 1,
          "xref": "paper",
          "y0": 7.5,
          "y1": 7.5,
          "yref": "y"
         },
         {
          "line": {
           "color": "gray",
           "dash": "dash",
           "width": 1
          },
          "opacity": 0.6,
          "type": "line",
          "x0": 0,
          "x1": 1,
          "xref": "paper",
          "y0": 19.5,
          "y1": 19.5,
          "yref": "y"
         },
         {
          "line": {
           "color": "gray",
           "dash": "dash",
           "width": 1
          },
          "opacity": 0.6,
          "type": "line",
          "x0": 0,
          "x1": 1,
          "xref": "paper",
          "y0": 25.5,
          "y1": 25.5,
          "yref": "y"
         }
        ],
        "template": {
         "data": {
          "bar": [
           {
            "error_x": {
             "color": "#2a3f5f"
            },
            "error_y": {
             "color": "#2a3f5f"
            },
            "marker": {
             "line": {
              "color": "white",
              "width": 0.5
             },
             "pattern": {
              "fillmode": "overlay",
              "size": 10,
              "solidity": 0.2
             }
            },
            "type": "bar"
           }
          ],
          "barpolar": [
           {
            "marker": {
             "line": {
              "color": "white",
              "width": 0.5
             },
             "pattern": {
              "fillmode": "overlay",
              "size": 10,
              "solidity": 0.2
             }
            },
            "type": "barpolar"
           }
          ],
          "carpet": [
           {
            "aaxis": {
             "endlinecolor": "#2a3f5f",
             "gridcolor": "#C8D4E3",
             "linecolor": "#C8D4E3",
             "minorgridcolor": "#C8D4E3",
             "startlinecolor": "#2a3f5f"
            },
            "baxis": {
             "endlinecolor": "#2a3f5f",
             "gridcolor": "#C8D4E3",
             "linecolor": "#C8D4E3",
             "minorgridcolor": "#C8D4E3",
             "startlinecolor": "#2a3f5f"
            },
            "type": "carpet"
           }
          ],
          "choropleth": [
           {
            "colorbar": {
             "outlinewidth": 0,
             "ticks": ""
            },
            "type": "choropleth"
           }
          ],
          "contour": [
           {
            "colorbar": {
             "outlinewidth": 0,
             "ticks": ""
            },
            "colorscale": [
             [
              0,
              "#0d0887"
             ],
             [
              0.1111111111111111,
              "#46039f"
             ],
             [
              0.2222222222222222,
              "#7201a8"
             ],
             [
              0.3333333333333333,
              "#9c179e"
             ],
             [
              0.4444444444444444,
              "#bd3786"
             ],
             [
              0.5555555555555556,
              "#d8576b"
             ],
             [
              0.6666666666666666,
              "#ed7953"
             ],
             [
              0.7777777777777778,
              "#fb9f3a"
             ],
             [
              0.8888888888888888,
              "#fdca26"
             ],
             [
              1,
              "#f0f921"
             ]
            ],
            "type": "contour"
           }
          ],
          "contourcarpet": [
           {
            "colorbar": {
             "outlinewidth": 0,
             "ticks": ""
            },
            "type": "contourcarpet"
           }
          ],
          "heatmap": [
           {
            "colorbar": {
             "outlinewidth": 0,
             "ticks": ""
            },
            "colorscale": [
             [
              0,
              "#0d0887"
             ],
             [
              0.1111111111111111,
              "#46039f"
             ],
             [
              0.2222222222222222,
              "#7201a8"
             ],
             [
              0.3333333333333333,
              "#9c179e"
             ],
             [
              0.4444444444444444,
              "#bd3786"
             ],
             [
              0.5555555555555556,
              "#d8576b"
             ],
             [
              0.6666666666666666,
              "#ed7953"
             ],
             [
              0.7777777777777778,
              "#fb9f3a"
             ],
             [
              0.8888888888888888,
              "#fdca26"
             ],
             [
              1,
              "#f0f921"
             ]
            ],
            "type": "heatmap"
           }
          ],
          "heatmapgl": [
           {
            "colorbar": {
             "outlinewidth": 0,
             "ticks": ""
            },
            "colorscale": [
             [
              0,
              "#0d0887"
             ],
             [
              0.1111111111111111,
              "#46039f"
             ],
             [
              0.2222222222222222,
              "#7201a8"
             ],
             [
              0.3333333333333333,
              "#9c179e"
             ],
             [
              0.4444444444444444,
              "#bd3786"
             ],
             [
              0.5555555555555556,
              "#d8576b"
             ],
             [
              0.6666666666666666,
              "#ed7953"
             ],
             [
              0.7777777777777778,
              "#fb9f3a"
             ],
             [
              0.8888888888888888,
              "#fdca26"
             ],
             [
              1,
              "#f0f921"
             ]
            ],
            "type": "heatmapgl"
           }
          ],
          "histogram": [
           {
            "marker": {
             "pattern": {
              "fillmode": "overlay",
              "size": 10,
              "solidity": 0.2
             }
            },
            "type": "histogram"
           }
          ],
          "histogram2d": [
           {
            "colorbar": {
             "outlinewidth": 0,
             "ticks": ""
            },
            "colorscale": [
             [
              0,
              "#0d0887"
             ],
             [
              0.1111111111111111,
              "#46039f"
             ],
             [
              0.2222222222222222,
              "#7201a8"
             ],
             [
              0.3333333333333333,
              "#9c179e"
             ],
             [
              0.4444444444444444,
              "#bd3786"
             ],
             [
              0.5555555555555556,
              "#d8576b"
             ],
             [
              0.6666666666666666,
              "#ed7953"
             ],
             [
              0.7777777777777778,
              "#fb9f3a"
             ],
             [
              0.8888888888888888,
              "#fdca26"
             ],
             [
              1,
              "#f0f921"
             ]
            ],
            "type": "histogram2d"
           }
          ],
          "histogram2dcontour": [
           {
            "colorbar": {
             "outlinewidth": 0,
             "ticks": ""
            },
            "colorscale": [
             [
              0,
              "#0d0887"
             ],
             [
              0.1111111111111111,
              "#46039f"
             ],
             [
              0.2222222222222222,
              "#7201a8"
             ],
             [
              0.3333333333333333,
              "#9c179e"
             ],
             [
              0.4444444444444444,
              "#bd3786"
             ],
             [
              0.5555555555555556,
              "#d8576b"
             ],
             [
              0.6666666666666666,
              "#ed7953"
             ],
             [
              0.7777777777777778,
              "#fb9f3a"
             ],
             [
              0.8888888888888888,
              "#fdca26"
             ],
             [
              1,
              "#f0f921"
             ]
            ],
            "type": "histogram2dcontour"
           }
          ],
          "mesh3d": [
           {
            "colorbar": {
             "outlinewidth": 0,
             "ticks": ""
            },
            "type": "mesh3d"
           }
          ],
          "parcoords": [
           {
            "line": {
             "colorbar": {
              "outlinewidth": 0,
              "ticks": ""
             }
            },
            "type": "parcoords"
           }
          ],
          "pie": [
           {
            "automargin": true,
            "type": "pie"
           }
          ],
          "scatter": [
           {
            "fillpattern": {
             "fillmode": "overlay",
             "size": 10,
             "solidity": 0.2
            },
            "type": "scatter"
           }
          ],
          "scatter3d": [
           {
            "line": {
             "colorbar": {
              "outlinewidth": 0,
              "ticks": ""
             }
            },
            "marker": {
             "colorbar": {
              "outlinewidth": 0,
              "ticks": ""
             }
            },
            "type": "scatter3d"
           }
          ],
          "scattercarpet": [
           {
            "marker": {
             "colorbar": {
              "outlinewidth": 0,
              "ticks": ""
             }
            },
            "type": "scattercarpet"
           }
          ],
          "scattergeo": [
           {
            "marker": {
             "colorbar": {
              "outlinewidth": 0,
              "ticks": ""
             }
            },
            "type": "scattergeo"
           }
          ],
          "scattergl": [
           {
            "marker": {
             "colorbar": {
              "outlinewidth": 0,
              "ticks": ""
             }
            },
            "type": "scattergl"
           }
          ],
          "scattermapbox": [
           {
            "marker": {
             "colorbar": {
              "outlinewidth": 0,
              "ticks": ""
             }
            },
            "type": "scattermapbox"
           }
          ],
          "scatterpolar": [
           {
            "marker": {
             "colorbar": {
              "outlinewidth": 0,
              "ticks": ""
             }
            },
            "type": "scatterpolar"
           }
          ],
          "scatterpolargl": [
           {
            "marker": {
             "colorbar": {
              "outlinewidth": 0,
              "ticks": ""
             }
            },
            "type": "scatterpolargl"
           }
          ],
          "scatterternary": [
           {
            "marker": {
             "colorbar": {
              "outlinewidth": 0,
              "ticks": ""
             }
            },
            "type": "scatterternary"
           }
          ],
          "surface": [
           {
            "colorbar": {
             "outlinewidth": 0,
             "ticks": ""
            },
            "colorscale": [
             [
              0,
              "#0d0887"
             ],
             [
              0.1111111111111111,
              "#46039f"
             ],
             [
              0.2222222222222222,
              "#7201a8"
             ],
             [
              0.3333333333333333,
              "#9c179e"
             ],
             [
              0.4444444444444444,
              "#bd3786"
             ],
             [
              0.5555555555555556,
              "#d8576b"
             ],
             [
              0.6666666666666666,
              "#ed7953"
             ],
             [
              0.7777777777777778,
              "#fb9f3a"
             ],
             [
              0.8888888888888888,
              "#fdca26"
             ],
             [
              1,
              "#f0f921"
             ]
            ],
            "type": "surface"
           }
          ],
          "table": [
           {
            "cells": {
             "fill": {
              "color": "#EBF0F8"
             },
             "line": {
              "color": "white"
             }
            },
            "header": {
             "fill": {
              "color": "#C8D4E3"
             },
             "line": {
              "color": "white"
             }
            },
            "type": "table"
           }
          ]
         },
         "layout": {
          "annotationdefaults": {
           "arrowcolor": "#2a3f5f",
           "arrowhead": 0,
           "arrowwidth": 1
          },
          "autotypenumbers": "strict",
          "coloraxis": {
           "colorbar": {
            "outlinewidth": 0,
            "ticks": ""
           }
          },
          "colorscale": {
           "diverging": [
            [
             0,
             "#8e0152"
            ],
            [
             0.1,
             "#c51b7d"
            ],
            [
             0.2,
             "#de77ae"
            ],
            [
             0.3,
             "#f1b6da"
            ],
            [
             0.4,
             "#fde0ef"
            ],
            [
             0.5,
             "#f7f7f7"
            ],
            [
             0.6,
             "#e6f5d0"
            ],
            [
             0.7,
             "#b8e186"
            ],
            [
             0.8,
             "#7fbc41"
            ],
            [
             0.9,
             "#4d9221"
            ],
            [
             1,
             "#276419"
            ]
           ],
           "sequential": [
            [
             0,
             "#0d0887"
            ],
            [
             0.1111111111111111,
             "#46039f"
            ],
            [
             0.2222222222222222,
             "#7201a8"
            ],
            [
             0.3333333333333333,
             "#9c179e"
            ],
            [
             0.4444444444444444,
             "#bd3786"
            ],
            [
             0.5555555555555556,
             "#d8576b"
            ],
            [
             0.6666666666666666,
             "#ed7953"
            ],
            [
             0.7777777777777778,
             "#fb9f3a"
            ],
            [
             0.8888888888888888,
             "#fdca26"
            ],
            [
             1,
             "#f0f921"
            ]
           ],
           "sequentialminus": [
            [
             0,
             "#0d0887"
            ],
            [
             0.1111111111111111,
             "#46039f"
            ],
            [
             0.2222222222222222,
             "#7201a8"
            ],
            [
             0.3333333333333333,
             "#9c179e"
            ],
            [
             0.4444444444444444,
             "#bd3786"
            ],
            [
             0.5555555555555556,
             "#d8576b"
            ],
            [
             0.6666666666666666,
             "#ed7953"
            ],
            [
             0.7777777777777778,
             "#fb9f3a"
            ],
            [
             0.8888888888888888,
             "#fdca26"
            ],
            [
             1,
             "#f0f921"
            ]
           ]
          },
          "colorway": [
           "#636efa",
           "#EF553B",
           "#00cc96",
           "#ab63fa",
           "#FFA15A",
           "#19d3f3",
           "#FF6692",
           "#B6E880",
           "#FF97FF",
           "#FECB52"
          ],
          "font": {
           "color": "#2a3f5f"
          },
          "geo": {
           "bgcolor": "white",
           "lakecolor": "white",
           "landcolor": "white",
           "showlakes": true,
           "showland": true,
           "subunitcolor": "#C8D4E3"
          },
          "hoverlabel": {
           "align": "left"
          },
          "hovermode": "closest",
          "mapbox": {
           "style": "light"
          },
          "paper_bgcolor": "white",
          "plot_bgcolor": "white",
          "polar": {
           "angularaxis": {
            "gridcolor": "#EBF0F8",
            "linecolor": "#EBF0F8",
            "ticks": ""
           },
           "bgcolor": "white",
           "radialaxis": {
            "gridcolor": "#EBF0F8",
            "linecolor": "#EBF0F8",
            "ticks": ""
           }
          },
          "scene": {
           "xaxis": {
            "backgroundcolor": "white",
            "gridcolor": "#DFE8F3",
            "gridwidth": 2,
            "linecolor": "#EBF0F8",
            "showbackground": true,
            "ticks": "",
            "zerolinecolor": "#EBF0F8"
           },
           "yaxis": {
            "backgroundcolor": "white",
            "gridcolor": "#DFE8F3",
            "gridwidth": 2,
            "linecolor": "#EBF0F8",
            "showbackground": true,
            "ticks": "",
            "zerolinecolor": "#EBF0F8"
           },
           "zaxis": {
            "backgroundcolor": "white",
            "gridcolor": "#DFE8F3",
            "gridwidth": 2,
            "linecolor": "#EBF0F8",
            "showbackground": true,
            "ticks": "",
            "zerolinecolor": "#EBF0F8"
           }
          },
          "shapedefaults": {
           "line": {
            "color": "#2a3f5f"
           }
          },
          "ternary": {
           "aaxis": {
            "gridcolor": "#DFE8F3",
            "linecolor": "#A2B1C6",
            "ticks": ""
           },
           "baxis": {
            "gridcolor": "#DFE8F3",
            "linecolor": "#A2B1C6",
            "ticks": ""
           },
           "bgcolor": "white",
           "caxis": {
            "gridcolor": "#DFE8F3",
            "linecolor": "#A2B1C6",
            "ticks": ""
           }
          },
          "title": {
           "x": 0.05
          },
          "xaxis": {
           "automargin": true,
           "gridcolor": "#EBF0F8",
           "linecolor": "#EBF0F8",
           "ticks": "",
           "title": {
            "standoff": 15
           },
           "zerolinecolor": "#EBF0F8",
           "zerolinewidth": 2
          },
          "yaxis": {
           "automargin": true,
           "gridcolor": "#EBF0F8",
           "linecolor": "#EBF0F8",
           "ticks": "",
           "title": {
            "standoff": 15
           },
           "zerolinecolor": "#EBF0F8",
           "zerolinewidth": 2
          }
         }
        },
        "xaxis": {
         "anchor": "y",
         "domain": [
          0,
          0.16
         ]
        },
        "xaxis2": {
         "anchor": "y2",
         "domain": [
          0.28,
          0.44000000000000006
         ]
        },
        "xaxis3": {
         "anchor": "y3",
         "domain": [
          0.56,
          0.7200000000000001
         ]
        },
        "xaxis4": {
         "anchor": "y4",
         "domain": [
          0.84,
          1
         ]
        },
        "yaxis": {
         "anchor": "x",
         "domain": [
          0,
          1
         ],
         "nticks": 31
        },
        "yaxis2": {
         "anchor": "x2",
         "domain": [
          0,
          1
         ],
         "nticks": 31
        },
        "yaxis3": {
         "anchor": "x3",
         "domain": [
          0,
          1
         ],
         "nticks": 31
        },
        "yaxis4": {
         "anchor": "x4",
         "domain": [
          0,
          1
         ],
         "nticks": 62
        }
       }
      },
      "text/html": [
       "<div>                            <div id=\"7faf440e-aace-49c1-9d98-195b3efdc93b\" class=\"plotly-graph-div\" style=\"height:525px; width:100%;\"></div>            <script type=\"text/javascript\">                require([\"plotly\"], function(Plotly) {                    window.PLOTLYENV=window.PLOTLYENV || {};                                    if (document.getElementById(\"7faf440e-aace-49c1-9d98-195b3efdc93b\")) {                    Plotly.newPlot(                        \"7faf440e-aace-49c1-9d98-195b3efdc93b\",                        [{\"marker\":{\"color\":[\"#E69F00\",\"#0072B2\",\"#E69F00\",\"#0072B2\",\"#E69F00\",\"#E69F00\",\"#E69F00\",\"#E69F00\",\"#E69F00\",\"#0072B2\",\"#E69F00\",\"#0072B2\",\"#E69F00\",\"#E69F00\",\"#E69F00\",\"#E69F00\",\"#0072B2\",\"#0072B2\",\"#E69F00\",\"#E69F00\",\"#0072B2\",\"#0072B2\",\"#0072B2\",\"#0072B2\",\"#0072B2\",\"#0072B2\",\"#0072B2\",\"#0072B2\",\"#0072B2\",\"#0072B2\",\"#0072B2\"]},\"name\":\"Aussage\",\"orientation\":\"h\",\"showlegend\":false,\"x\":[-0.0463442356754389,0.1289309082961034,-0.0995006503760414,0.0429130183242705,-0.0771301402355007,-0.0796545943556765,-0.0599045517094956,-0.0378063120907449,-0.0229313264730738,0.0397847734569348,-0.0028476961285457,0.0275565113317016,-0.1194314992763729,-0.0292805292757799,-0.1138171792005824,-0.0518048511196336,0.0112834794299157,0.0321238025119315,-0.1018445546822715,-0.0910372052871583,0.1358990712047882,0.1283381927540461,0.0984576783452678,0.078872393699586,0.0128221683542644,0.0466939990763058,0.5132841354388802,0.5341629142531019,0.5445865011597562,0.6430486019453383,0.6757473406214558],\"y\":[\"?\",\".\",\"!\",\"wirst\",\"wird\",\"werdet\",\"werden\",\"werde\",\"wollen\",\"will\",\"sollen\",\"soll\",\"m\\u00fcssen\",\"m\\u00f6gen\",\"muss\",\"mag\",\"k\\u00f6nnen\",\"kann\",\"d\\u00fcrfen\",\"darf\",\"sagten\",\"sagte\",\"sagt\",\"gesagt\",\":\",\"\\\"\",\"sammeln\",\"fasst\",\"umfa\\u00dft\",\"unbekannt\",\"unterschieden\"],\"type\":\"bar\",\"xaxis\":\"x\",\"yaxis\":\"y\"},{\"marker\":{\"color\":[\"#E69F00\",\"#0072B2\",\"#E69F00\",\"#0072B2\",\"#E69F00\",\"#0072B2\",\"#E69F00\",\"#E69F00\",\"#0072B2\",\"#0072B2\",\"#0072B2\",\"#0072B2\",\"#0072B2\",\"#0072B2\",\"#0072B2\",\"#0072B2\",\"#0072B2\",\"#0072B2\",\"#0072B2\",\"#0072B2\",\"#E69F00\",\"#E69F00\",\"#E69F00\",\"#E69F00\",\"#E69F00\",\"#E69F00\",\"#0072B2\",\"#0072B2\",\"#0072B2\",\"#0072B2\",\"#0072B2\"]},\"name\":\"Meinung\",\"orientation\":\"h\",\"showlegend\":false,\"x\":[-0.0244504146943473,0.0401748602387696,-0.0621841153256688,0.0005069833396191,-0.0442368653119717,0.0247862341866721,-0.0183405492642064,-0.0930375885562441,0.0942730061457516,0.0268504163509581,0.048219577317625,0.0212687706699014,0.2423033084373531,0.0385323126376408,0.237180215656717,0.0967013117832864,0.0257650777793071,0.0185566158555412,0.175075814129616,0.1807936979317466,-0.0648970459927524,-0.0100179962908181,-0.0391968818560777,-0.0108128198564067,-0.008653911729053,-0.0082911998071007,0.3691506471150205,0.3693225179320304,0.4199702533951495,0.5475771338101367,0.615673765198153],\"y\":[\"?\",\".\",\"!\",\"wirst\",\"wird\",\"werdet\",\"werden\",\"werde\",\"wollen\",\"will\",\"sollen\",\"soll\",\"m\\u00fcssen\",\"m\\u00f6gen\",\"muss\",\"mag\",\"k\\u00f6nnen\",\"kann\",\"d\\u00fcrfen\",\"darf\",\"sagten\",\"sagte\",\"sagt\",\"gesagt\",\":\",\"\\\"\",\"interessante\",\"wunderbar\",\"scheinen\",\"nerv\",\"sympath\"],\"type\":\"bar\",\"xaxis\":\"x2\",\"yaxis\":\"y2\"},{\"marker\":{\"color\":[\"#E69F00\",\"#0072B2\",\"#E69F00\",\"#0072B2\",\"#0072B2\",\"#0072B2\",\"#0072B2\",\"#0072B2\",\"#E69F00\",\"#E69F00\",\"#E69F00\",\"#E69F00\",\"#E69F00\",\"#E69F00\",\"#E69F00\",\"#E69F00\",\"#0072B2\",\"#E69F00\",\"#E69F00\",\"#E69F00\",\"#E69F00\",\"#E69F00\",\"#E69F00\",\"#E69F00\",\"#E69F00\",\"#E69F00\",\"#E69F00\",\"#E69F00\",\"#E69F00\",\"#0072B2\",\"#0072B2\"]},\"name\":\"Prognose\",\"orientation\":\"h\",\"showlegend\":false,\"x\":[-0.0057117155937101,0.0119751373506323,-0.0082678963209558,0.0091202572037047,0.2328675865788518,0.0722513765855467,0.1628101774977451,0.2545953368325148,-0.0102174803621287,-0.0065104223241624,-0.007636376054445,-0.0003004501849735,-0.0018700699277461,-0.0002247922013615,-0.0090557486803311,-0.0002134325437415,0.0132310854833603,-0.0012239677626301,-0.0003306255882336,-0.0023807183340614,-0.0008769699728182,-0.0001225441536403,-0.0065451911722057,-0.0152590840203125,-0.0016306539187004,-0.0057653353696371,-0.3089241800735181,-0.3138266285277495,-0.4755863408254299,0.4877990697714267,0.4999766242472105],\"y\":[\"?\",\".\",\"!\",\"wirst\",\"wird\",\"werdet\",\"werden\",\"werde\",\"wollen\",\"will\",\"sollen\",\"soll\",\"m\\u00fcssen\",\"m\\u00f6gen\",\"muss\",\"mag\",\"k\\u00f6nnen\",\"kann\",\"d\\u00fcrfen\",\"darf\",\"sagten\",\"sagte\",\"sagt\",\"gesagt\",\":\",\"\\\"\",\"unterworfen\",\"erlassen\",\"unterschieden\",\"verhandeln\",\"verschwinden\"],\"type\":\"bar\",\"xaxis\":\"x3\",\"yaxis\":\"y3\"},{\"marker\":{\"color\":[\"#0072B2\",\"#E69F00\",\"#0072B2\",\"#E69F00\",\"#E69F00\",\"#E69F00\",\"#E69F00\",\"#E69F00\",\"#E69F00\",\"#E69F00\",\"#E69F00\",\"#E69F00\",\"#E69F00\",\"#E69F00\",\"#E69F00\",\"#E69F00\",\"#E69F00\",\"#E69F00\",\"#E69F00\",\"#E69F00\",\"#E69F00\",\"#E69F00\",\"#E69F00\",\"#E69F00\",\"#E69F00\",\"#E69F00\",\"#E69F00\",\"#E69F00\",\"#E69F00\",\"#E69F00\",\"#E69F00\"]},\"name\":\"Sonstiges\",\"orientation\":\"h\",\"showlegend\":false,\"x\":[0.0765063646601726,-0.1810809057421744,0.1699526603706012,-0.0525402415996723,-0.1115005815896716,-0.0173830142658275,-0.0845650767528119,-0.1237514364823601,-0.0611241989911892,-0.0601247669331987,-0.037735505343238,-0.0485248302084824,-0.1210017387558282,-0.0090269863031116,-0.1143072872085723,-0.0446830287974776,-0.0502796430638113,-0.0494564515894587,-0.0729006330997467,-0.0873757754234597,-0.0701250542054906,-0.1181976545039261,-0.0527156059192859,-0.0528004908978999,-0.0025376028412738,-0.0326374653292368,-0.4755935085158853,-0.4991484588013009,-0.5109862242011332,-0.5359813711595507,-0.5473196477964848],\"y\":[\"?\",\".\",\"!\",\"wirst\",\"wird\",\"werdet\",\"werden\",\"werde\",\"wollen\",\"will\",\"sollen\",\"soll\",\"m\\u00fcssen\",\"m\\u00f6gen\",\"muss\",\"mag\",\"k\\u00f6nnen\",\"kann\",\"d\\u00fcrfen\",\"darf\",\"sagten\",\"sagte\",\"sagt\",\"gesagt\",\":\",\"\\\"\",\"eingeschaltet\",\"versch\\u00e4rft\",\"nerv\",\"fasst\",\"umfa\\u00dft\"],\"type\":\"bar\",\"xaxis\":\"x4\",\"yaxis\":\"y4\"}],                        {\"template\":{\"data\":{\"barpolar\":[{\"marker\":{\"line\":{\"color\":\"white\",\"width\":0.5},\"pattern\":{\"fillmode\":\"overlay\",\"size\":10,\"solidity\":0.2}},\"type\":\"barpolar\"}],\"bar\":[{\"error_x\":{\"color\":\"#2a3f5f\"},\"error_y\":{\"color\":\"#2a3f5f\"},\"marker\":{\"line\":{\"color\":\"white\",\"width\":0.5},\"pattern\":{\"fillmode\":\"overlay\",\"size\":10,\"solidity\":0.2}},\"type\":\"bar\"}],\"carpet\":[{\"aaxis\":{\"endlinecolor\":\"#2a3f5f\",\"gridcolor\":\"#C8D4E3\",\"linecolor\":\"#C8D4E3\",\"minorgridcolor\":\"#C8D4E3\",\"startlinecolor\":\"#2a3f5f\"},\"baxis\":{\"endlinecolor\":\"#2a3f5f\",\"gridcolor\":\"#C8D4E3\",\"linecolor\":\"#C8D4E3\",\"minorgridcolor\":\"#C8D4E3\",\"startlinecolor\":\"#2a3f5f\"},\"type\":\"carpet\"}],\"choropleth\":[{\"colorbar\":{\"outlinewidth\":0,\"ticks\":\"\"},\"type\":\"choropleth\"}],\"contourcarpet\":[{\"colorbar\":{\"outlinewidth\":0,\"ticks\":\"\"},\"type\":\"contourcarpet\"}],\"contour\":[{\"colorbar\":{\"outlinewidth\":0,\"ticks\":\"\"},\"colorscale\":[[0.0,\"#0d0887\"],[0.1111111111111111,\"#46039f\"],[0.2222222222222222,\"#7201a8\"],[0.3333333333333333,\"#9c179e\"],[0.4444444444444444,\"#bd3786\"],[0.5555555555555556,\"#d8576b\"],[0.6666666666666666,\"#ed7953\"],[0.7777777777777778,\"#fb9f3a\"],[0.8888888888888888,\"#fdca26\"],[1.0,\"#f0f921\"]],\"type\":\"contour\"}],\"heatmapgl\":[{\"colorbar\":{\"outlinewidth\":0,\"ticks\":\"\"},\"colorscale\":[[0.0,\"#0d0887\"],[0.1111111111111111,\"#46039f\"],[0.2222222222222222,\"#7201a8\"],[0.3333333333333333,\"#9c179e\"],[0.4444444444444444,\"#bd3786\"],[0.5555555555555556,\"#d8576b\"],[0.6666666666666666,\"#ed7953\"],[0.7777777777777778,\"#fb9f3a\"],[0.8888888888888888,\"#fdca26\"],[1.0,\"#f0f921\"]],\"type\":\"heatmapgl\"}],\"heatmap\":[{\"colorbar\":{\"outlinewidth\":0,\"ticks\":\"\"},\"colorscale\":[[0.0,\"#0d0887\"],[0.1111111111111111,\"#46039f\"],[0.2222222222222222,\"#7201a8\"],[0.3333333333333333,\"#9c179e\"],[0.4444444444444444,\"#bd3786\"],[0.5555555555555556,\"#d8576b\"],[0.6666666666666666,\"#ed7953\"],[0.7777777777777778,\"#fb9f3a\"],[0.8888888888888888,\"#fdca26\"],[1.0,\"#f0f921\"]],\"type\":\"heatmap\"}],\"histogram2dcontour\":[{\"colorbar\":{\"outlinewidth\":0,\"ticks\":\"\"},\"colorscale\":[[0.0,\"#0d0887\"],[0.1111111111111111,\"#46039f\"],[0.2222222222222222,\"#7201a8\"],[0.3333333333333333,\"#9c179e\"],[0.4444444444444444,\"#bd3786\"],[0.5555555555555556,\"#d8576b\"],[0.6666666666666666,\"#ed7953\"],[0.7777777777777778,\"#fb9f3a\"],[0.8888888888888888,\"#fdca26\"],[1.0,\"#f0f921\"]],\"type\":\"histogram2dcontour\"}],\"histogram2d\":[{\"colorbar\":{\"outlinewidth\":0,\"ticks\":\"\"},\"colorscale\":[[0.0,\"#0d0887\"],[0.1111111111111111,\"#46039f\"],[0.2222222222222222,\"#7201a8\"],[0.3333333333333333,\"#9c179e\"],[0.4444444444444444,\"#bd3786\"],[0.5555555555555556,\"#d8576b\"],[0.6666666666666666,\"#ed7953\"],[0.7777777777777778,\"#fb9f3a\"],[0.8888888888888888,\"#fdca26\"],[1.0,\"#f0f921\"]],\"type\":\"histogram2d\"}],\"histogram\":[{\"marker\":{\"pattern\":{\"fillmode\":\"overlay\",\"size\":10,\"solidity\":0.2}},\"type\":\"histogram\"}],\"mesh3d\":[{\"colorbar\":{\"outlinewidth\":0,\"ticks\":\"\"},\"type\":\"mesh3d\"}],\"parcoords\":[{\"line\":{\"colorbar\":{\"outlinewidth\":0,\"ticks\":\"\"}},\"type\":\"parcoords\"}],\"pie\":[{\"automargin\":true,\"type\":\"pie\"}],\"scatter3d\":[{\"line\":{\"colorbar\":{\"outlinewidth\":0,\"ticks\":\"\"}},\"marker\":{\"colorbar\":{\"outlinewidth\":0,\"ticks\":\"\"}},\"type\":\"scatter3d\"}],\"scattercarpet\":[{\"marker\":{\"colorbar\":{\"outlinewidth\":0,\"ticks\":\"\"}},\"type\":\"scattercarpet\"}],\"scattergeo\":[{\"marker\":{\"colorbar\":{\"outlinewidth\":0,\"ticks\":\"\"}},\"type\":\"scattergeo\"}],\"scattergl\":[{\"marker\":{\"colorbar\":{\"outlinewidth\":0,\"ticks\":\"\"}},\"type\":\"scattergl\"}],\"scattermapbox\":[{\"marker\":{\"colorbar\":{\"outlinewidth\":0,\"ticks\":\"\"}},\"type\":\"scattermapbox\"}],\"scatterpolargl\":[{\"marker\":{\"colorbar\":{\"outlinewidth\":0,\"ticks\":\"\"}},\"type\":\"scatterpolargl\"}],\"scatterpolar\":[{\"marker\":{\"colorbar\":{\"outlinewidth\":0,\"ticks\":\"\"}},\"type\":\"scatterpolar\"}],\"scatter\":[{\"fillpattern\":{\"fillmode\":\"overlay\",\"size\":10,\"solidity\":0.2},\"type\":\"scatter\"}],\"scatterternary\":[{\"marker\":{\"colorbar\":{\"outlinewidth\":0,\"ticks\":\"\"}},\"type\":\"scatterternary\"}],\"surface\":[{\"colorbar\":{\"outlinewidth\":0,\"ticks\":\"\"},\"colorscale\":[[0.0,\"#0d0887\"],[0.1111111111111111,\"#46039f\"],[0.2222222222222222,\"#7201a8\"],[0.3333333333333333,\"#9c179e\"],[0.4444444444444444,\"#bd3786\"],[0.5555555555555556,\"#d8576b\"],[0.6666666666666666,\"#ed7953\"],[0.7777777777777778,\"#fb9f3a\"],[0.8888888888888888,\"#fdca26\"],[1.0,\"#f0f921\"]],\"type\":\"surface\"}],\"table\":[{\"cells\":{\"fill\":{\"color\":\"#EBF0F8\"},\"line\":{\"color\":\"white\"}},\"header\":{\"fill\":{\"color\":\"#C8D4E3\"},\"line\":{\"color\":\"white\"}},\"type\":\"table\"}]},\"layout\":{\"annotationdefaults\":{\"arrowcolor\":\"#2a3f5f\",\"arrowhead\":0,\"arrowwidth\":1},\"autotypenumbers\":\"strict\",\"coloraxis\":{\"colorbar\":{\"outlinewidth\":0,\"ticks\":\"\"}},\"colorscale\":{\"diverging\":[[0,\"#8e0152\"],[0.1,\"#c51b7d\"],[0.2,\"#de77ae\"],[0.3,\"#f1b6da\"],[0.4,\"#fde0ef\"],[0.5,\"#f7f7f7\"],[0.6,\"#e6f5d0\"],[0.7,\"#b8e186\"],[0.8,\"#7fbc41\"],[0.9,\"#4d9221\"],[1,\"#276419\"]],\"sequential\":[[0.0,\"#0d0887\"],[0.1111111111111111,\"#46039f\"],[0.2222222222222222,\"#7201a8\"],[0.3333333333333333,\"#9c179e\"],[0.4444444444444444,\"#bd3786\"],[0.5555555555555556,\"#d8576b\"],[0.6666666666666666,\"#ed7953\"],[0.7777777777777778,\"#fb9f3a\"],[0.8888888888888888,\"#fdca26\"],[1.0,\"#f0f921\"]],\"sequentialminus\":[[0.0,\"#0d0887\"],[0.1111111111111111,\"#46039f\"],[0.2222222222222222,\"#7201a8\"],[0.3333333333333333,\"#9c179e\"],[0.4444444444444444,\"#bd3786\"],[0.5555555555555556,\"#d8576b\"],[0.6666666666666666,\"#ed7953\"],[0.7777777777777778,\"#fb9f3a\"],[0.8888888888888888,\"#fdca26\"],[1.0,\"#f0f921\"]]},\"colorway\":[\"#636efa\",\"#EF553B\",\"#00cc96\",\"#ab63fa\",\"#FFA15A\",\"#19d3f3\",\"#FF6692\",\"#B6E880\",\"#FF97FF\",\"#FECB52\"],\"font\":{\"color\":\"#2a3f5f\"},\"geo\":{\"bgcolor\":\"white\",\"lakecolor\":\"white\",\"landcolor\":\"white\",\"showlakes\":true,\"showland\":true,\"subunitcolor\":\"#C8D4E3\"},\"hoverlabel\":{\"align\":\"left\"},\"hovermode\":\"closest\",\"mapbox\":{\"style\":\"light\"},\"paper_bgcolor\":\"white\",\"plot_bgcolor\":\"white\",\"polar\":{\"angularaxis\":{\"gridcolor\":\"#EBF0F8\",\"linecolor\":\"#EBF0F8\",\"ticks\":\"\"},\"bgcolor\":\"white\",\"radialaxis\":{\"gridcolor\":\"#EBF0F8\",\"linecolor\":\"#EBF0F8\",\"ticks\":\"\"}},\"scene\":{\"xaxis\":{\"backgroundcolor\":\"white\",\"gridcolor\":\"#DFE8F3\",\"gridwidth\":2,\"linecolor\":\"#EBF0F8\",\"showbackground\":true,\"ticks\":\"\",\"zerolinecolor\":\"#EBF0F8\"},\"yaxis\":{\"backgroundcolor\":\"white\",\"gridcolor\":\"#DFE8F3\",\"gridwidth\":2,\"linecolor\":\"#EBF0F8\",\"showbackground\":true,\"ticks\":\"\",\"zerolinecolor\":\"#EBF0F8\"},\"zaxis\":{\"backgroundcolor\":\"white\",\"gridcolor\":\"#DFE8F3\",\"gridwidth\":2,\"linecolor\":\"#EBF0F8\",\"showbackground\":true,\"ticks\":\"\",\"zerolinecolor\":\"#EBF0F8\"}},\"shapedefaults\":{\"line\":{\"color\":\"#2a3f5f\"}},\"ternary\":{\"aaxis\":{\"gridcolor\":\"#DFE8F3\",\"linecolor\":\"#A2B1C6\",\"ticks\":\"\"},\"baxis\":{\"gridcolor\":\"#DFE8F3\",\"linecolor\":\"#A2B1C6\",\"ticks\":\"\"},\"bgcolor\":\"white\",\"caxis\":{\"gridcolor\":\"#DFE8F3\",\"linecolor\":\"#A2B1C6\",\"ticks\":\"\"}},\"title\":{\"x\":0.05},\"xaxis\":{\"automargin\":true,\"gridcolor\":\"#EBF0F8\",\"linecolor\":\"#EBF0F8\",\"ticks\":\"\",\"title\":{\"standoff\":15},\"zerolinecolor\":\"#EBF0F8\",\"zerolinewidth\":2},\"yaxis\":{\"automargin\":true,\"gridcolor\":\"#EBF0F8\",\"linecolor\":\"#EBF0F8\",\"ticks\":\"\",\"title\":{\"standoff\":15},\"zerolinecolor\":\"#EBF0F8\",\"zerolinewidth\":2}}},\"xaxis\":{\"anchor\":\"y\",\"domain\":[0.0,0.16]},\"yaxis\":{\"anchor\":\"x\",\"domain\":[0.0,1.0],\"nticks\":31},\"xaxis2\":{\"anchor\":\"y2\",\"domain\":[0.28,0.44000000000000006]},\"yaxis2\":{\"anchor\":\"x2\",\"domain\":[0.0,1.0],\"nticks\":31},\"xaxis3\":{\"anchor\":\"y3\",\"domain\":[0.56,0.7200000000000001]},\"yaxis3\":{\"anchor\":\"x3\",\"domain\":[0.0,1.0],\"nticks\":31},\"xaxis4\":{\"anchor\":\"y4\",\"domain\":[0.84,1.0]},\"yaxis4\":{\"anchor\":\"x4\",\"domain\":[0.0,1.0],\"nticks\":62},\"annotations\":[{\"font\":{\"size\":16},\"showarrow\":false,\"text\":\"Aussage\",\"x\":0.08,\"xanchor\":\"center\",\"xref\":\"paper\",\"y\":1.0,\"yanchor\":\"bottom\",\"yref\":\"paper\"},{\"font\":{\"size\":16},\"showarrow\":false,\"text\":\"Meinung\",\"x\":0.36000000000000004,\"xanchor\":\"center\",\"xref\":\"paper\",\"y\":1.0,\"yanchor\":\"bottom\",\"yref\":\"paper\"},{\"font\":{\"size\":16},\"showarrow\":false,\"text\":\"Prognose\",\"x\":0.6400000000000001,\"xanchor\":\"center\",\"xref\":\"paper\",\"y\":1.0,\"yanchor\":\"bottom\",\"yref\":\"paper\"},{\"font\":{\"size\":16},\"showarrow\":false,\"text\":\"Sonstiges\",\"x\":0.9199999999999999,\"xanchor\":\"center\",\"xref\":\"paper\",\"y\":1.0,\"yanchor\":\"bottom\",\"yref\":\"paper\"},{\"align\":\"right\",\"ax\":-20,\"ay\":-30,\"font\":{\"color\":\"black\",\"size\":11},\"showarrow\":false,\"text\":\"<b>Punctuation</b>\",\"textangle\":90,\"x\":0.2549289905559018,\"xref\":\"x4\",\"y\":-0.1,\"yanchor\":\"bottom\",\"yref\":\"y4\"},{\"align\":\"right\",\"ax\":-20,\"ay\":-30,\"font\":{\"color\":\"black\",\"size\":11},\"showarrow\":false,\"text\":\"<b>Future Tense</b>\",\"textangle\":90,\"x\":0.2549289905559018,\"xref\":\"x4\",\"y\":3.5,\"yanchor\":\"bottom\",\"yref\":\"y4\"},{\"align\":\"right\",\"ax\":-20,\"ay\":-30,\"font\":{\"color\":\"black\",\"size\":11},\"showarrow\":false,\"text\":\"<b>Modal Verbs</b>\",\"textangle\":90,\"x\":0.2549289905559018,\"xref\":\"x4\",\"y\":13.5,\"yanchor\":\"middle\",\"yref\":\"y4\"},{\"align\":\"right\",\"ax\":-20,\"ay\":-30,\"font\":{\"color\":\"black\",\"size\":11},\"showarrow\":false,\"text\":\"<b>Quotes</b>\",\"textangle\":90,\"x\":0.2549289905559018,\"xref\":\"x4\",\"y\":22.5,\"yanchor\":\"middle\",\"yref\":\"y4\"},{\"align\":\"right\",\"ax\":-20,\"ay\":-30,\"font\":{\"color\":\"black\",\"size\":11},\"showarrow\":false,\"text\":\"<b>Top 5</b>\",\"textangle\":90,\"x\":0.2549289905559018,\"xref\":\"x4\",\"y\":28,\"yanchor\":\"middle\",\"yref\":\"y4\"}],\"shapes\":[{\"line\":{\"color\":\"gray\",\"dash\":\"dash\",\"width\":1},\"opacity\":0.6,\"type\":\"line\",\"x0\":0,\"x1\":1,\"xref\":\"paper\",\"y0\":2.5,\"y1\":2.5,\"yref\":\"y\"},{\"line\":{\"color\":\"gray\",\"dash\":\"dash\",\"width\":1},\"opacity\":0.6,\"type\":\"line\",\"x0\":0,\"x1\":1,\"xref\":\"paper\",\"y0\":7.5,\"y1\":7.5,\"yref\":\"y\"},{\"line\":{\"color\":\"gray\",\"dash\":\"dash\",\"width\":1},\"opacity\":0.6,\"type\":\"line\",\"x0\":0,\"x1\":1,\"xref\":\"paper\",\"y0\":19.5,\"y1\":19.5,\"yref\":\"y\"},{\"line\":{\"color\":\"gray\",\"dash\":\"dash\",\"width\":1},\"opacity\":0.6,\"type\":\"line\",\"x0\":0,\"x1\":1,\"xref\":\"paper\",\"y0\":25.5,\"y1\":25.5,\"yref\":\"y\"}]},                        {\"responsive\": true}                    ).then(function(){\n",
       "                            \n",
       "var gd = document.getElementById('7faf440e-aace-49c1-9d98-195b3efdc93b');\n",
       "var x = new MutationObserver(function (mutations, observer) {{\n",
       "        var display = window.getComputedStyle(gd).display;\n",
       "        if (!display || display === 'none') {{\n",
       "            console.log([gd, 'removed!']);\n",
       "            Plotly.purge(gd);\n",
       "            observer.disconnect();\n",
       "        }}\n",
       "}});\n",
       "\n",
       "// Listen for the removal of the full notebook cells\n",
       "var notebookContainer = gd.closest('#notebook-container');\n",
       "if (notebookContainer) {{\n",
       "    x.observe(notebookContainer, {childList: true});\n",
       "}}\n",
       "\n",
       "// Listen for the clearing of the current output cell\n",
       "var outputEl = gd.closest('.output');\n",
       "if (outputEl) {{\n",
       "    x.observe(outputEl, {childList: true});\n",
       "}}\n",
       "\n",
       "                        })                };                });            </script>        </div>"
      ]
     },
     "metadata": {},
     "output_type": "display_data"
    }
   ],
   "source": [
    "shap_values = pd.read_csv('/home/sami/FLAIR/Results/SHAP/E4_ShapValues.csv')\n",
    "plot_shap(shap_values, 'EXP4')"
   ]
  },
  {
   "cell_type": "code",
   "execution_count": null,
   "metadata": {},
   "outputs": [],
   "source": []
  }
 ],
 "metadata": {
  "kernelspec": {
   "display_name": "venv",
   "language": "python",
   "name": "python3"
  },
  "language_info": {
   "codemirror_mode": {
    "name": "ipython",
    "version": 3
   },
   "file_extension": ".py",
   "mimetype": "text/x-python",
   "name": "python",
   "nbconvert_exporter": "python",
   "pygments_lexer": "ipython3",
   "version": "3.10.6"
  },
  "vscode": {
   "interpreter": {
    "hash": "2d013279ec9a42929aa5a6aee48384d90259723a5e75b817778f7a355b4aca79"
   }
  }
 },
 "nbformat": 4,
 "nbformat_minor": 2
}
