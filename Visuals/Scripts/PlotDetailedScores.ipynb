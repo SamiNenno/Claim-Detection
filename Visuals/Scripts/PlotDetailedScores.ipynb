{
 "cells": [
  {
   "cell_type": "code",
   "execution_count": 1,
   "metadata": {},
   "outputs": [],
   "source": [
    "import pandas as pd\n",
    "import numpy as np\n",
    "from plotly.subplots import make_subplots\n",
    "import plotly.graph_objects as go\n",
    "import plotly.express as px\n",
    "import plotly.io as pio\n",
    "import nltk\n",
    "from sklearn.feature_extraction.text import CountVectorizer\n",
    "from sklearn.metrics import f1_score\n",
    "from sklearn.metrics import confusion_matrix\n"
   ]
  },
  {
   "cell_type": "code",
   "execution_count": 2,
   "metadata": {},
   "outputs": [],
   "source": [
    "def get_experiment(experiment:str):\n",
    "    df = pd.read_csv('/home/sami/FLAIR/Data/Experiment_Frame.csv')\n",
    "    return df[df[experiment].notna()]\n",
    "def parse_doc_type(doc_type):\n",
    "    if doc_type=='SOCIAL_MEDIA':\n",
    "        return 'Twitter'\n",
    "    if doc_type=='PROTOKOLL':\n",
    "        return 'Protocol'\n",
    "    if doc_type=='NEWSPAPER':\n",
    "        return 'Newspaper'\n",
    "    if doc_type=='MANIFESTO':\n",
    "        return 'Manifesto'\n",
    "    if doc_type=='TALKSHOW':\n",
    "        return 'Talkshow'"
   ]
  },
  {
   "cell_type": "code",
   "execution_count": 8,
   "metadata": {},
   "outputs": [
    {
     "data": {
      "application/vnd.plotly.v1+json": {
       "config": {
        "plotlyServerURL": "https://plot.ly"
       },
       "data": [
        {
         "marker": {
          "color": "#E69F00"
         },
         "name": "Twitter",
         "type": "scatter",
         "x": [
          "E0",
          "E1",
          "E2",
          "E3",
          "E4"
         ],
         "xaxis": "x6",
         "y": [
          0.87,
          0.79,
          0.86,
          0.87,
          0.91
         ],
         "yaxis": "y6"
        },
        {
         "marker": {
          "color": "#009E73"
         },
         "name": "Newspaper",
         "type": "scatter",
         "x": [
          "E0",
          "E1",
          "E2",
          "E3",
          "E4"
         ],
         "xaxis": "x6",
         "y": [
          0.9,
          0.82,
          0.9,
          0.91,
          0.94
         ],
         "yaxis": "y6"
        },
        {
         "marker": {
          "color": "#56B4E9"
         },
         "name": "Manifesto",
         "type": "scatter",
         "x": [
          "E0",
          "E1",
          "E2",
          "E3",
          "E4"
         ],
         "xaxis": "x6",
         "y": [
          0.88,
          0.8,
          0.89,
          0.92,
          0.95
         ],
         "yaxis": "y6"
        },
        {
         "marker": {
          "color": "#0072B2"
         },
         "name": "Talkshow",
         "type": "scatter",
         "x": [
          "E0",
          "E1",
          "E2",
          "E3",
          "E4"
         ],
         "xaxis": "x6",
         "y": [
          0.93,
          0.88,
          0.94,
          0.92,
          0.96
         ],
         "yaxis": "y6"
        },
        {
         "marker": {
          "color": "#F0E442"
         },
         "name": "Protocol",
         "type": "scatter",
         "x": [
          "E0",
          "E1",
          "E2",
          "E3",
          "E4"
         ],
         "xaxis": "x6",
         "y": [
          0.91,
          0.8,
          0.89,
          0.91,
          0.94
         ],
         "yaxis": "y6"
        },
        {
         "colorscale": [
          [
           0,
           "#440154"
          ],
          [
           0.1111111111111111,
           "#482878"
          ],
          [
           0.2222222222222222,
           "#3e4989"
          ],
          [
           0.3333333333333333,
           "#31688e"
          ],
          [
           0.4444444444444444,
           "#26828e"
          ],
          [
           0.5555555555555556,
           "#1f9e89"
          ],
          [
           0.6666666666666666,
           "#35b779"
          ],
          [
           0.7777777777777778,
           "#6ece58"
          ],
          [
           0.8888888888888888,
           "#b5de2b"
          ],
          [
           1,
           "#fde725"
          ]
         ],
         "showlegend": false,
         "showscale": false,
         "text": [
          [
           1626,
           142,
           41,
           32
          ],
          [
           150,
           666,
           22,
           26
          ],
          [
           29,
           8,
           653,
           3
          ],
          [
           50,
           35,
           12,
           1878
          ]
         ],
         "texttemplate": "%{text}",
         "type": "heatmap",
         "x": [
          "Aussage",
          "Meinung",
          "Prognose",
          "Sonstiges"
         ],
         "xaxis": "x",
         "y": [
          "Aussage",
          "Meinung",
          "Prognose",
          "Sonstiges"
         ],
         "yaxis": "y",
         "z": [
          [
           1626,
           142,
           41,
           32
          ],
          [
           150,
           666,
           22,
           26
          ],
          [
           29,
           8,
           653,
           3
          ],
          [
           50,
           35,
           12,
           1878
          ]
         ]
        },
        {
         "colorscale": [
          [
           0,
           "#440154"
          ],
          [
           0.1111111111111111,
           "#482878"
          ],
          [
           0.2222222222222222,
           "#3e4989"
          ],
          [
           0.3333333333333333,
           "#31688e"
          ],
          [
           0.4444444444444444,
           "#26828e"
          ],
          [
           0.5555555555555556,
           "#1f9e89"
          ],
          [
           0.6666666666666666,
           "#35b779"
          ],
          [
           0.7777777777777778,
           "#6ece58"
          ],
          [
           0.8888888888888888,
           "#b5de2b"
          ],
          [
           1,
           "#fde725"
          ]
         ],
         "showlegend": false,
         "showscale": false,
         "text": [
          [
           3004,
           377,
           92,
           81
          ],
          [
           497,
           1004,
           62,
           96
          ],
          [
           81,
           40,
           796,
           8
          ],
          [
           133,
           96,
           23,
           2035
          ]
         ],
         "texttemplate": "%{text}",
         "type": "heatmap",
         "x": [
          "Aussage",
          "Meinung",
          "Prognose",
          "Sonstiges"
         ],
         "xaxis": "x2",
         "y": [
          "Aussage",
          "Meinung",
          "Prognose",
          "Sonstiges"
         ],
         "yaxis": "y2",
         "z": [
          [
           3004,
           377,
           92,
           81
          ],
          [
           497,
           1004,
           62,
           96
          ],
          [
           81,
           40,
           796,
           8
          ],
          [
           133,
           96,
           23,
           2035
          ]
         ]
        },
        {
         "colorscale": [
          [
           0,
           "#440154"
          ],
          [
           0.1111111111111111,
           "#482878"
          ],
          [
           0.2222222222222222,
           "#3e4989"
          ],
          [
           0.3333333333333333,
           "#31688e"
          ],
          [
           0.4444444444444444,
           "#26828e"
          ],
          [
           0.5555555555555556,
           "#1f9e89"
          ],
          [
           0.6666666666666666,
           "#35b779"
          ],
          [
           0.7777777777777778,
           "#6ece58"
          ],
          [
           0.8888888888888888,
           "#b5de2b"
          ],
          [
           1,
           "#fde725"
          ]
         ],
         "showlegend": false,
         "showscale": false,
         "text": [
          [
           2982,
           177,
           59,
           56
          ],
          [
           250,
           1015,
           42,
           60
          ],
          [
           48,
           20,
           789,
           7
          ],
          [
           75,
           46,
           19,
           2023
          ]
         ],
         "texttemplate": "%{text}",
         "type": "heatmap",
         "x": [
          "Aussage",
          "Meinung",
          "Prognose",
          "Sonstiges"
         ],
         "xaxis": "x3",
         "y": [
          "Aussage",
          "Meinung",
          "Prognose",
          "Sonstiges"
         ],
         "yaxis": "y3",
         "z": [
          [
           2982,
           177,
           59,
           56
          ],
          [
           250,
           1015,
           42,
           60
          ],
          [
           48,
           20,
           789,
           7
          ],
          [
           75,
           46,
           19,
           2023
          ]
         ]
        },
        {
         "colorscale": [
          [
           0,
           "#440154"
          ],
          [
           0.1111111111111111,
           "#482878"
          ],
          [
           0.2222222222222222,
           "#3e4989"
          ],
          [
           0.3333333333333333,
           "#31688e"
          ],
          [
           0.4444444444444444,
           "#26828e"
          ],
          [
           0.5555555555555556,
           "#1f9e89"
          ],
          [
           0.6666666666666666,
           "#35b779"
          ],
          [
           0.7777777777777778,
           "#6ece58"
          ],
          [
           0.8888888888888888,
           "#b5de2b"
          ],
          [
           1,
           "#fde725"
          ]
         ],
         "showlegend": false,
         "showscale": false,
         "text": [
          [
           2746,
           186,
           44,
           38
          ],
          [
           207,
           985,
           29,
           41
          ],
          [
           37,
           11,
           826,
           3
          ],
          [
           63,
           43,
           14,
           2041
          ]
         ],
         "texttemplate": "%{text}",
         "type": "heatmap",
         "x": [
          "Aussage",
          "Meinung",
          "Prognose",
          "Sonstiges"
         ],
         "xaxis": "x4",
         "y": [
          "Aussage",
          "Meinung",
          "Prognose",
          "Sonstiges"
         ],
         "yaxis": "y4",
         "z": [
          [
           2746,
           186,
           44,
           38
          ],
          [
           207,
           985,
           29,
           41
          ],
          [
           37,
           11,
           826,
           3
          ],
          [
           63,
           43,
           14,
           2041
          ]
         ]
        },
        {
         "colorscale": [
          [
           0,
           "#440154"
          ],
          [
           0.1111111111111111,
           "#482878"
          ],
          [
           0.2222222222222222,
           "#3e4989"
          ],
          [
           0.3333333333333333,
           "#31688e"
          ],
          [
           0.4444444444444444,
           "#26828e"
          ],
          [
           0.5555555555555556,
           "#1f9e89"
          ],
          [
           0.6666666666666666,
           "#35b779"
          ],
          [
           0.7777777777777778,
           "#6ece58"
          ],
          [
           0.8888888888888888,
           "#b5de2b"
          ],
          [
           1,
           "#fde725"
          ]
         ],
         "showlegend": false,
         "showscale": false,
         "text": [
          [
           2743,
           101,
           35,
           34
          ],
          [
           122,
           993,
           16,
           33
          ],
          [
           28,
           8,
           821,
           1
          ],
          [
           49,
           23,
           6,
           2051
          ]
         ],
         "texttemplate": "%{text}",
         "type": "heatmap",
         "x": [
          "Aussage",
          "Meinung",
          "Prognose",
          "Sonstiges"
         ],
         "xaxis": "x5",
         "y": [
          "Aussage",
          "Meinung",
          "Prognose",
          "Sonstiges"
         ],
         "yaxis": "y5",
         "z": [
          [
           2743,
           101,
           35,
           34
          ],
          [
           122,
           993,
           16,
           33
          ],
          [
           28,
           8,
           821,
           1
          ],
          [
           49,
           23,
           6,
           2051
          ]
         ]
        }
       ],
       "layout": {
        "annotations": [
         {
          "font": {
           "size": 16
          },
          "showarrow": false,
          "text": "Experiment 0",
          "x": 0.15333333333333335,
          "xanchor": "center",
          "xref": "paper",
          "y": 1,
          "yanchor": "bottom",
          "yref": "paper"
         },
         {
          "font": {
           "size": 16
          },
          "showarrow": false,
          "text": "Experiment 1",
          "x": 0.5,
          "xanchor": "center",
          "xref": "paper",
          "y": 1,
          "yanchor": "bottom",
          "yref": "paper"
         },
         {
          "font": {
           "size": 16
          },
          "showarrow": false,
          "text": "Experiment 2",
          "x": 0.8466666666666667,
          "xanchor": "center",
          "xref": "paper",
          "y": 1,
          "yanchor": "bottom",
          "yref": "paper"
         },
         {
          "font": {
           "size": 16
          },
          "showarrow": false,
          "text": "Experiment 3",
          "x": 0.15333333333333335,
          "xanchor": "center",
          "xref": "paper",
          "y": 0.455,
          "yanchor": "bottom",
          "yref": "paper"
         },
         {
          "font": {
           "size": 16
          },
          "showarrow": false,
          "text": "Experiment 4",
          "x": 0.5,
          "xanchor": "center",
          "xref": "paper",
          "y": 0.455,
          "yanchor": "bottom",
          "yref": "paper"
         }
        ],
        "template": {
         "data": {
          "bar": [
           {
            "error_x": {
             "color": "#2a3f5f"
            },
            "error_y": {
             "color": "#2a3f5f"
            },
            "marker": {
             "line": {
              "color": "white",
              "width": 0.5
             },
             "pattern": {
              "fillmode": "overlay",
              "size": 10,
              "solidity": 0.2
             }
            },
            "type": "bar"
           }
          ],
          "barpolar": [
           {
            "marker": {
             "line": {
              "color": "white",
              "width": 0.5
             },
             "pattern": {
              "fillmode": "overlay",
              "size": 10,
              "solidity": 0.2
             }
            },
            "type": "barpolar"
           }
          ],
          "carpet": [
           {
            "aaxis": {
             "endlinecolor": "#2a3f5f",
             "gridcolor": "#C8D4E3",
             "linecolor": "#C8D4E3",
             "minorgridcolor": "#C8D4E3",
             "startlinecolor": "#2a3f5f"
            },
            "baxis": {
             "endlinecolor": "#2a3f5f",
             "gridcolor": "#C8D4E3",
             "linecolor": "#C8D4E3",
             "minorgridcolor": "#C8D4E3",
             "startlinecolor": "#2a3f5f"
            },
            "type": "carpet"
           }
          ],
          "choropleth": [
           {
            "colorbar": {
             "outlinewidth": 0,
             "ticks": ""
            },
            "type": "choropleth"
           }
          ],
          "contour": [
           {
            "colorbar": {
             "outlinewidth": 0,
             "ticks": ""
            },
            "colorscale": [
             [
              0,
              "#0d0887"
             ],
             [
              0.1111111111111111,
              "#46039f"
             ],
             [
              0.2222222222222222,
              "#7201a8"
             ],
             [
              0.3333333333333333,
              "#9c179e"
             ],
             [
              0.4444444444444444,
              "#bd3786"
             ],
             [
              0.5555555555555556,
              "#d8576b"
             ],
             [
              0.6666666666666666,
              "#ed7953"
             ],
             [
              0.7777777777777778,
              "#fb9f3a"
             ],
             [
              0.8888888888888888,
              "#fdca26"
             ],
             [
              1,
              "#f0f921"
             ]
            ],
            "type": "contour"
           }
          ],
          "contourcarpet": [
           {
            "colorbar": {
             "outlinewidth": 0,
             "ticks": ""
            },
            "type": "contourcarpet"
           }
          ],
          "heatmap": [
           {
            "colorbar": {
             "outlinewidth": 0,
             "ticks": ""
            },
            "colorscale": [
             [
              0,
              "#0d0887"
             ],
             [
              0.1111111111111111,
              "#46039f"
             ],
             [
              0.2222222222222222,
              "#7201a8"
             ],
             [
              0.3333333333333333,
              "#9c179e"
             ],
             [
              0.4444444444444444,
              "#bd3786"
             ],
             [
              0.5555555555555556,
              "#d8576b"
             ],
             [
              0.6666666666666666,
              "#ed7953"
             ],
             [
              0.7777777777777778,
              "#fb9f3a"
             ],
             [
              0.8888888888888888,
              "#fdca26"
             ],
             [
              1,
              "#f0f921"
             ]
            ],
            "type": "heatmap"
           }
          ],
          "heatmapgl": [
           {
            "colorbar": {
             "outlinewidth": 0,
             "ticks": ""
            },
            "colorscale": [
             [
              0,
              "#0d0887"
             ],
             [
              0.1111111111111111,
              "#46039f"
             ],
             [
              0.2222222222222222,
              "#7201a8"
             ],
             [
              0.3333333333333333,
              "#9c179e"
             ],
             [
              0.4444444444444444,
              "#bd3786"
             ],
             [
              0.5555555555555556,
              "#d8576b"
             ],
             [
              0.6666666666666666,
              "#ed7953"
             ],
             [
              0.7777777777777778,
              "#fb9f3a"
             ],
             [
              0.8888888888888888,
              "#fdca26"
             ],
             [
              1,
              "#f0f921"
             ]
            ],
            "type": "heatmapgl"
           }
          ],
          "histogram": [
           {
            "marker": {
             "pattern": {
              "fillmode": "overlay",
              "size": 10,
              "solidity": 0.2
             }
            },
            "type": "histogram"
           }
          ],
          "histogram2d": [
           {
            "colorbar": {
             "outlinewidth": 0,
             "ticks": ""
            },
            "colorscale": [
             [
              0,
              "#0d0887"
             ],
             [
              0.1111111111111111,
              "#46039f"
             ],
             [
              0.2222222222222222,
              "#7201a8"
             ],
             [
              0.3333333333333333,
              "#9c179e"
             ],
             [
              0.4444444444444444,
              "#bd3786"
             ],
             [
              0.5555555555555556,
              "#d8576b"
             ],
             [
              0.6666666666666666,
              "#ed7953"
             ],
             [
              0.7777777777777778,
              "#fb9f3a"
             ],
             [
              0.8888888888888888,
              "#fdca26"
             ],
             [
              1,
              "#f0f921"
             ]
            ],
            "type": "histogram2d"
           }
          ],
          "histogram2dcontour": [
           {
            "colorbar": {
             "outlinewidth": 0,
             "ticks": ""
            },
            "colorscale": [
             [
              0,
              "#0d0887"
             ],
             [
              0.1111111111111111,
              "#46039f"
             ],
             [
              0.2222222222222222,
              "#7201a8"
             ],
             [
              0.3333333333333333,
              "#9c179e"
             ],
             [
              0.4444444444444444,
              "#bd3786"
             ],
             [
              0.5555555555555556,
              "#d8576b"
             ],
             [
              0.6666666666666666,
              "#ed7953"
             ],
             [
              0.7777777777777778,
              "#fb9f3a"
             ],
             [
              0.8888888888888888,
              "#fdca26"
             ],
             [
              1,
              "#f0f921"
             ]
            ],
            "type": "histogram2dcontour"
           }
          ],
          "mesh3d": [
           {
            "colorbar": {
             "outlinewidth": 0,
             "ticks": ""
            },
            "type": "mesh3d"
           }
          ],
          "parcoords": [
           {
            "line": {
             "colorbar": {
              "outlinewidth": 0,
              "ticks": ""
             }
            },
            "type": "parcoords"
           }
          ],
          "pie": [
           {
            "automargin": true,
            "type": "pie"
           }
          ],
          "scatter": [
           {
            "fillpattern": {
             "fillmode": "overlay",
             "size": 10,
             "solidity": 0.2
            },
            "type": "scatter"
           }
          ],
          "scatter3d": [
           {
            "line": {
             "colorbar": {
              "outlinewidth": 0,
              "ticks": ""
             }
            },
            "marker": {
             "colorbar": {
              "outlinewidth": 0,
              "ticks": ""
             }
            },
            "type": "scatter3d"
           }
          ],
          "scattercarpet": [
           {
            "marker": {
             "colorbar": {
              "outlinewidth": 0,
              "ticks": ""
             }
            },
            "type": "scattercarpet"
           }
          ],
          "scattergeo": [
           {
            "marker": {
             "colorbar": {
              "outlinewidth": 0,
              "ticks": ""
             }
            },
            "type": "scattergeo"
           }
          ],
          "scattergl": [
           {
            "marker": {
             "colorbar": {
              "outlinewidth": 0,
              "ticks": ""
             }
            },
            "type": "scattergl"
           }
          ],
          "scattermapbox": [
           {
            "marker": {
             "colorbar": {
              "outlinewidth": 0,
              "ticks": ""
             }
            },
            "type": "scattermapbox"
           }
          ],
          "scatterpolar": [
           {
            "marker": {
             "colorbar": {
              "outlinewidth": 0,
              "ticks": ""
             }
            },
            "type": "scatterpolar"
           }
          ],
          "scatterpolargl": [
           {
            "marker": {
             "colorbar": {
              "outlinewidth": 0,
              "ticks": ""
             }
            },
            "type": "scatterpolargl"
           }
          ],
          "scatterternary": [
           {
            "marker": {
             "colorbar": {
              "outlinewidth": 0,
              "ticks": ""
             }
            },
            "type": "scatterternary"
           }
          ],
          "surface": [
           {
            "colorbar": {
             "outlinewidth": 0,
             "ticks": ""
            },
            "colorscale": [
             [
              0,
              "#0d0887"
             ],
             [
              0.1111111111111111,
              "#46039f"
             ],
             [
              0.2222222222222222,
              "#7201a8"
             ],
             [
              0.3333333333333333,
              "#9c179e"
             ],
             [
              0.4444444444444444,
              "#bd3786"
             ],
             [
              0.5555555555555556,
              "#d8576b"
             ],
             [
              0.6666666666666666,
              "#ed7953"
             ],
             [
              0.7777777777777778,
              "#fb9f3a"
             ],
             [
              0.8888888888888888,
              "#fdca26"
             ],
             [
              1,
              "#f0f921"
             ]
            ],
            "type": "surface"
           }
          ],
          "table": [
           {
            "cells": {
             "fill": {
              "color": "#EBF0F8"
             },
             "line": {
              "color": "white"
             }
            },
            "header": {
             "fill": {
              "color": "#C8D4E3"
             },
             "line": {
              "color": "white"
             }
            },
            "type": "table"
           }
          ]
         },
         "layout": {
          "annotationdefaults": {
           "arrowcolor": "#2a3f5f",
           "arrowhead": 0,
           "arrowwidth": 1
          },
          "autotypenumbers": "strict",
          "coloraxis": {
           "colorbar": {
            "outlinewidth": 0,
            "ticks": ""
           }
          },
          "colorscale": {
           "diverging": [
            [
             0,
             "#8e0152"
            ],
            [
             0.1,
             "#c51b7d"
            ],
            [
             0.2,
             "#de77ae"
            ],
            [
             0.3,
             "#f1b6da"
            ],
            [
             0.4,
             "#fde0ef"
            ],
            [
             0.5,
             "#f7f7f7"
            ],
            [
             0.6,
             "#e6f5d0"
            ],
            [
             0.7,
             "#b8e186"
            ],
            [
             0.8,
             "#7fbc41"
            ],
            [
             0.9,
             "#4d9221"
            ],
            [
             1,
             "#276419"
            ]
           ],
           "sequential": [
            [
             0,
             "#0d0887"
            ],
            [
             0.1111111111111111,
             "#46039f"
            ],
            [
             0.2222222222222222,
             "#7201a8"
            ],
            [
             0.3333333333333333,
             "#9c179e"
            ],
            [
             0.4444444444444444,
             "#bd3786"
            ],
            [
             0.5555555555555556,
             "#d8576b"
            ],
            [
             0.6666666666666666,
             "#ed7953"
            ],
            [
             0.7777777777777778,
             "#fb9f3a"
            ],
            [
             0.8888888888888888,
             "#fdca26"
            ],
            [
             1,
             "#f0f921"
            ]
           ],
           "sequentialminus": [
            [
             0,
             "#0d0887"
            ],
            [
             0.1111111111111111,
             "#46039f"
            ],
            [
             0.2222222222222222,
             "#7201a8"
            ],
            [
             0.3333333333333333,
             "#9c179e"
            ],
            [
             0.4444444444444444,
             "#bd3786"
            ],
            [
             0.5555555555555556,
             "#d8576b"
            ],
            [
             0.6666666666666666,
             "#ed7953"
            ],
            [
             0.7777777777777778,
             "#fb9f3a"
            ],
            [
             0.8888888888888888,
             "#fdca26"
            ],
            [
             1,
             "#f0f921"
            ]
           ]
          },
          "colorway": [
           "#636efa",
           "#EF553B",
           "#00cc96",
           "#ab63fa",
           "#FFA15A",
           "#19d3f3",
           "#FF6692",
           "#B6E880",
           "#FF97FF",
           "#FECB52"
          ],
          "font": {
           "color": "#2a3f5f"
          },
          "geo": {
           "bgcolor": "white",
           "lakecolor": "white",
           "landcolor": "white",
           "showlakes": true,
           "showland": true,
           "subunitcolor": "#C8D4E3"
          },
          "hoverlabel": {
           "align": "left"
          },
          "hovermode": "closest",
          "mapbox": {
           "style": "light"
          },
          "paper_bgcolor": "white",
          "plot_bgcolor": "white",
          "polar": {
           "angularaxis": {
            "gridcolor": "#EBF0F8",
            "linecolor": "#EBF0F8",
            "ticks": ""
           },
           "bgcolor": "white",
           "radialaxis": {
            "gridcolor": "#EBF0F8",
            "linecolor": "#EBF0F8",
            "ticks": ""
           }
          },
          "scene": {
           "xaxis": {
            "backgroundcolor": "white",
            "gridcolor": "#DFE8F3",
            "gridwidth": 2,
            "linecolor": "#EBF0F8",
            "showbackground": true,
            "ticks": "",
            "zerolinecolor": "#EBF0F8"
           },
           "yaxis": {
            "backgroundcolor": "white",
            "gridcolor": "#DFE8F3",
            "gridwidth": 2,
            "linecolor": "#EBF0F8",
            "showbackground": true,
            "ticks": "",
            "zerolinecolor": "#EBF0F8"
           },
           "zaxis": {
            "backgroundcolor": "white",
            "gridcolor": "#DFE8F3",
            "gridwidth": 2,
            "linecolor": "#EBF0F8",
            "showbackground": true,
            "ticks": "",
            "zerolinecolor": "#EBF0F8"
           }
          },
          "shapedefaults": {
           "line": {
            "color": "#2a3f5f"
           }
          },
          "ternary": {
           "aaxis": {
            "gridcolor": "#DFE8F3",
            "linecolor": "#A2B1C6",
            "ticks": ""
           },
           "baxis": {
            "gridcolor": "#DFE8F3",
            "linecolor": "#A2B1C6",
            "ticks": ""
           },
           "bgcolor": "white",
           "caxis": {
            "gridcolor": "#DFE8F3",
            "linecolor": "#A2B1C6",
            "ticks": ""
           }
          },
          "title": {
           "x": 0.05
          },
          "xaxis": {
           "automargin": true,
           "gridcolor": "#EBF0F8",
           "linecolor": "#EBF0F8",
           "ticks": "",
           "title": {
            "standoff": 15
           },
           "zerolinecolor": "#EBF0F8",
           "zerolinewidth": 2
          },
          "yaxis": {
           "automargin": true,
           "gridcolor": "#EBF0F8",
           "linecolor": "#EBF0F8",
           "ticks": "",
           "title": {
            "standoff": 15
           },
           "zerolinecolor": "#EBF0F8",
           "zerolinewidth": 2
          }
         }
        },
        "xaxis": {
         "anchor": "y",
         "domain": [
          0,
          0.3066666666666667
         ],
         "showticklabels": false
        },
        "xaxis2": {
         "anchor": "y2",
         "domain": [
          0.3466666666666667,
          0.6533333333333333
         ],
         "showticklabels": false
        },
        "xaxis3": {
         "anchor": "y3",
         "domain": [
          0.6933333333333334,
          1
         ]
        },
        "xaxis4": {
         "anchor": "y4",
         "domain": [
          0,
          0.3066666666666667
         ],
         "title": {
          "text": "Predicted"
         }
        },
        "xaxis5": {
         "anchor": "y5",
         "domain": [
          0.3466666666666667,
          0.6533333333333333
         ],
         "title": {
          "text": "Predicted"
         }
        },
        "xaxis6": {
         "anchor": "y6",
         "domain": [
          0.6933333333333334,
          1
         ]
        },
        "yaxis": {
         "anchor": "x",
         "domain": [
          0.545,
          1
         ],
         "title": {
          "text": "Groundtruth"
         }
        },
        "yaxis2": {
         "anchor": "x2",
         "domain": [
          0.545,
          1
         ],
         "showticklabels": false
        },
        "yaxis3": {
         "anchor": "x3",
         "domain": [
          0.545,
          1
         ],
         "showticklabels": false
        },
        "yaxis4": {
         "anchor": "x4",
         "domain": [
          0,
          0.455
         ],
         "title": {
          "text": "Groundtruth"
         }
        },
        "yaxis5": {
         "anchor": "x5",
         "domain": [
          0,
          0.455
         ],
         "showticklabels": false
        },
        "yaxis6": {
         "anchor": "x6",
         "domain": [
          0,
          0.455
         ],
         "nticks": 6,
         "title": {
          "text": "F1"
         }
        }
       }
      },
      "text/html": [
       "<div>                            <div id=\"883acb7f-e3f1-4288-8966-c91914afad76\" class=\"plotly-graph-div\" style=\"height:525px; width:100%;\"></div>            <script type=\"text/javascript\">                require([\"plotly\"], function(Plotly) {                    window.PLOTLYENV=window.PLOTLYENV || {};                                    if (document.getElementById(\"883acb7f-e3f1-4288-8966-c91914afad76\")) {                    Plotly.newPlot(                        \"883acb7f-e3f1-4288-8966-c91914afad76\",                        [{\"marker\":{\"color\":\"#E69F00\"},\"name\":\"Twitter\",\"x\":[\"E0\",\"E1\",\"E2\",\"E3\",\"E4\"],\"y\":[0.87,0.79,0.86,0.87,0.91],\"type\":\"scatter\",\"xaxis\":\"x6\",\"yaxis\":\"y6\"},{\"marker\":{\"color\":\"#009E73\"},\"name\":\"Newspaper\",\"x\":[\"E0\",\"E1\",\"E2\",\"E3\",\"E4\"],\"y\":[0.9,0.82,0.9,0.91,0.94],\"type\":\"scatter\",\"xaxis\":\"x6\",\"yaxis\":\"y6\"},{\"marker\":{\"color\":\"#56B4E9\"},\"name\":\"Manifesto\",\"x\":[\"E0\",\"E1\",\"E2\",\"E3\",\"E4\"],\"y\":[0.88,0.8,0.89,0.92,0.95],\"type\":\"scatter\",\"xaxis\":\"x6\",\"yaxis\":\"y6\"},{\"marker\":{\"color\":\"#0072B2\"},\"name\":\"Talkshow\",\"x\":[\"E0\",\"E1\",\"E2\",\"E3\",\"E4\"],\"y\":[0.93,0.88,0.94,0.92,0.96],\"type\":\"scatter\",\"xaxis\":\"x6\",\"yaxis\":\"y6\"},{\"marker\":{\"color\":\"#F0E442\"},\"name\":\"Protocol\",\"x\":[\"E0\",\"E1\",\"E2\",\"E3\",\"E4\"],\"y\":[0.91,0.8,0.89,0.91,0.94],\"type\":\"scatter\",\"xaxis\":\"x6\",\"yaxis\":\"y6\"},{\"colorscale\":[[0.0,\"#440154\"],[0.1111111111111111,\"#482878\"],[0.2222222222222222,\"#3e4989\"],[0.3333333333333333,\"#31688e\"],[0.4444444444444444,\"#26828e\"],[0.5555555555555556,\"#1f9e89\"],[0.6666666666666666,\"#35b779\"],[0.7777777777777778,\"#6ece58\"],[0.8888888888888888,\"#b5de2b\"],[1.0,\"#fde725\"]],\"showlegend\":false,\"showscale\":false,\"text\":[[1626,142,41,32],[150,666,22,26],[29,8,653,3],[50,35,12,1878]],\"texttemplate\":\"%{text}\",\"x\":[\"Aussage\",\"Meinung\",\"Prognose\",\"Sonstiges\"],\"y\":[\"Aussage\",\"Meinung\",\"Prognose\",\"Sonstiges\"],\"z\":[[1626,142,41,32],[150,666,22,26],[29,8,653,3],[50,35,12,1878]],\"type\":\"heatmap\",\"xaxis\":\"x\",\"yaxis\":\"y\"},{\"colorscale\":[[0.0,\"#440154\"],[0.1111111111111111,\"#482878\"],[0.2222222222222222,\"#3e4989\"],[0.3333333333333333,\"#31688e\"],[0.4444444444444444,\"#26828e\"],[0.5555555555555556,\"#1f9e89\"],[0.6666666666666666,\"#35b779\"],[0.7777777777777778,\"#6ece58\"],[0.8888888888888888,\"#b5de2b\"],[1.0,\"#fde725\"]],\"showlegend\":false,\"showscale\":false,\"text\":[[3004,377,92,81],[497,1004,62,96],[81,40,796,8],[133,96,23,2035]],\"texttemplate\":\"%{text}\",\"x\":[\"Aussage\",\"Meinung\",\"Prognose\",\"Sonstiges\"],\"y\":[\"Aussage\",\"Meinung\",\"Prognose\",\"Sonstiges\"],\"z\":[[3004,377,92,81],[497,1004,62,96],[81,40,796,8],[133,96,23,2035]],\"type\":\"heatmap\",\"xaxis\":\"x2\",\"yaxis\":\"y2\"},{\"colorscale\":[[0.0,\"#440154\"],[0.1111111111111111,\"#482878\"],[0.2222222222222222,\"#3e4989\"],[0.3333333333333333,\"#31688e\"],[0.4444444444444444,\"#26828e\"],[0.5555555555555556,\"#1f9e89\"],[0.6666666666666666,\"#35b779\"],[0.7777777777777778,\"#6ece58\"],[0.8888888888888888,\"#b5de2b\"],[1.0,\"#fde725\"]],\"showlegend\":false,\"showscale\":false,\"text\":[[2982,177,59,56],[250,1015,42,60],[48,20,789,7],[75,46,19,2023]],\"texttemplate\":\"%{text}\",\"x\":[\"Aussage\",\"Meinung\",\"Prognose\",\"Sonstiges\"],\"y\":[\"Aussage\",\"Meinung\",\"Prognose\",\"Sonstiges\"],\"z\":[[2982,177,59,56],[250,1015,42,60],[48,20,789,7],[75,46,19,2023]],\"type\":\"heatmap\",\"xaxis\":\"x3\",\"yaxis\":\"y3\"},{\"colorscale\":[[0.0,\"#440154\"],[0.1111111111111111,\"#482878\"],[0.2222222222222222,\"#3e4989\"],[0.3333333333333333,\"#31688e\"],[0.4444444444444444,\"#26828e\"],[0.5555555555555556,\"#1f9e89\"],[0.6666666666666666,\"#35b779\"],[0.7777777777777778,\"#6ece58\"],[0.8888888888888888,\"#b5de2b\"],[1.0,\"#fde725\"]],\"showlegend\":false,\"showscale\":false,\"text\":[[2746,186,44,38],[207,985,29,41],[37,11,826,3],[63,43,14,2041]],\"texttemplate\":\"%{text}\",\"x\":[\"Aussage\",\"Meinung\",\"Prognose\",\"Sonstiges\"],\"y\":[\"Aussage\",\"Meinung\",\"Prognose\",\"Sonstiges\"],\"z\":[[2746,186,44,38],[207,985,29,41],[37,11,826,3],[63,43,14,2041]],\"type\":\"heatmap\",\"xaxis\":\"x4\",\"yaxis\":\"y4\"},{\"colorscale\":[[0.0,\"#440154\"],[0.1111111111111111,\"#482878\"],[0.2222222222222222,\"#3e4989\"],[0.3333333333333333,\"#31688e\"],[0.4444444444444444,\"#26828e\"],[0.5555555555555556,\"#1f9e89\"],[0.6666666666666666,\"#35b779\"],[0.7777777777777778,\"#6ece58\"],[0.8888888888888888,\"#b5de2b\"],[1.0,\"#fde725\"]],\"showlegend\":false,\"showscale\":false,\"text\":[[2743,101,35,34],[122,993,16,33],[28,8,821,1],[49,23,6,2051]],\"texttemplate\":\"%{text}\",\"x\":[\"Aussage\",\"Meinung\",\"Prognose\",\"Sonstiges\"],\"y\":[\"Aussage\",\"Meinung\",\"Prognose\",\"Sonstiges\"],\"z\":[[2743,101,35,34],[122,993,16,33],[28,8,821,1],[49,23,6,2051]],\"type\":\"heatmap\",\"xaxis\":\"x5\",\"yaxis\":\"y5\"}],                        {\"template\":{\"data\":{\"barpolar\":[{\"marker\":{\"line\":{\"color\":\"white\",\"width\":0.5},\"pattern\":{\"fillmode\":\"overlay\",\"size\":10,\"solidity\":0.2}},\"type\":\"barpolar\"}],\"bar\":[{\"error_x\":{\"color\":\"#2a3f5f\"},\"error_y\":{\"color\":\"#2a3f5f\"},\"marker\":{\"line\":{\"color\":\"white\",\"width\":0.5},\"pattern\":{\"fillmode\":\"overlay\",\"size\":10,\"solidity\":0.2}},\"type\":\"bar\"}],\"carpet\":[{\"aaxis\":{\"endlinecolor\":\"#2a3f5f\",\"gridcolor\":\"#C8D4E3\",\"linecolor\":\"#C8D4E3\",\"minorgridcolor\":\"#C8D4E3\",\"startlinecolor\":\"#2a3f5f\"},\"baxis\":{\"endlinecolor\":\"#2a3f5f\",\"gridcolor\":\"#C8D4E3\",\"linecolor\":\"#C8D4E3\",\"minorgridcolor\":\"#C8D4E3\",\"startlinecolor\":\"#2a3f5f\"},\"type\":\"carpet\"}],\"choropleth\":[{\"colorbar\":{\"outlinewidth\":0,\"ticks\":\"\"},\"type\":\"choropleth\"}],\"contourcarpet\":[{\"colorbar\":{\"outlinewidth\":0,\"ticks\":\"\"},\"type\":\"contourcarpet\"}],\"contour\":[{\"colorbar\":{\"outlinewidth\":0,\"ticks\":\"\"},\"colorscale\":[[0.0,\"#0d0887\"],[0.1111111111111111,\"#46039f\"],[0.2222222222222222,\"#7201a8\"],[0.3333333333333333,\"#9c179e\"],[0.4444444444444444,\"#bd3786\"],[0.5555555555555556,\"#d8576b\"],[0.6666666666666666,\"#ed7953\"],[0.7777777777777778,\"#fb9f3a\"],[0.8888888888888888,\"#fdca26\"],[1.0,\"#f0f921\"]],\"type\":\"contour\"}],\"heatmapgl\":[{\"colorbar\":{\"outlinewidth\":0,\"ticks\":\"\"},\"colorscale\":[[0.0,\"#0d0887\"],[0.1111111111111111,\"#46039f\"],[0.2222222222222222,\"#7201a8\"],[0.3333333333333333,\"#9c179e\"],[0.4444444444444444,\"#bd3786\"],[0.5555555555555556,\"#d8576b\"],[0.6666666666666666,\"#ed7953\"],[0.7777777777777778,\"#fb9f3a\"],[0.8888888888888888,\"#fdca26\"],[1.0,\"#f0f921\"]],\"type\":\"heatmapgl\"}],\"heatmap\":[{\"colorbar\":{\"outlinewidth\":0,\"ticks\":\"\"},\"colorscale\":[[0.0,\"#0d0887\"],[0.1111111111111111,\"#46039f\"],[0.2222222222222222,\"#7201a8\"],[0.3333333333333333,\"#9c179e\"],[0.4444444444444444,\"#bd3786\"],[0.5555555555555556,\"#d8576b\"],[0.6666666666666666,\"#ed7953\"],[0.7777777777777778,\"#fb9f3a\"],[0.8888888888888888,\"#fdca26\"],[1.0,\"#f0f921\"]],\"type\":\"heatmap\"}],\"histogram2dcontour\":[{\"colorbar\":{\"outlinewidth\":0,\"ticks\":\"\"},\"colorscale\":[[0.0,\"#0d0887\"],[0.1111111111111111,\"#46039f\"],[0.2222222222222222,\"#7201a8\"],[0.3333333333333333,\"#9c179e\"],[0.4444444444444444,\"#bd3786\"],[0.5555555555555556,\"#d8576b\"],[0.6666666666666666,\"#ed7953\"],[0.7777777777777778,\"#fb9f3a\"],[0.8888888888888888,\"#fdca26\"],[1.0,\"#f0f921\"]],\"type\":\"histogram2dcontour\"}],\"histogram2d\":[{\"colorbar\":{\"outlinewidth\":0,\"ticks\":\"\"},\"colorscale\":[[0.0,\"#0d0887\"],[0.1111111111111111,\"#46039f\"],[0.2222222222222222,\"#7201a8\"],[0.3333333333333333,\"#9c179e\"],[0.4444444444444444,\"#bd3786\"],[0.5555555555555556,\"#d8576b\"],[0.6666666666666666,\"#ed7953\"],[0.7777777777777778,\"#fb9f3a\"],[0.8888888888888888,\"#fdca26\"],[1.0,\"#f0f921\"]],\"type\":\"histogram2d\"}],\"histogram\":[{\"marker\":{\"pattern\":{\"fillmode\":\"overlay\",\"size\":10,\"solidity\":0.2}},\"type\":\"histogram\"}],\"mesh3d\":[{\"colorbar\":{\"outlinewidth\":0,\"ticks\":\"\"},\"type\":\"mesh3d\"}],\"parcoords\":[{\"line\":{\"colorbar\":{\"outlinewidth\":0,\"ticks\":\"\"}},\"type\":\"parcoords\"}],\"pie\":[{\"automargin\":true,\"type\":\"pie\"}],\"scatter3d\":[{\"line\":{\"colorbar\":{\"outlinewidth\":0,\"ticks\":\"\"}},\"marker\":{\"colorbar\":{\"outlinewidth\":0,\"ticks\":\"\"}},\"type\":\"scatter3d\"}],\"scattercarpet\":[{\"marker\":{\"colorbar\":{\"outlinewidth\":0,\"ticks\":\"\"}},\"type\":\"scattercarpet\"}],\"scattergeo\":[{\"marker\":{\"colorbar\":{\"outlinewidth\":0,\"ticks\":\"\"}},\"type\":\"scattergeo\"}],\"scattergl\":[{\"marker\":{\"colorbar\":{\"outlinewidth\":0,\"ticks\":\"\"}},\"type\":\"scattergl\"}],\"scattermapbox\":[{\"marker\":{\"colorbar\":{\"outlinewidth\":0,\"ticks\":\"\"}},\"type\":\"scattermapbox\"}],\"scatterpolargl\":[{\"marker\":{\"colorbar\":{\"outlinewidth\":0,\"ticks\":\"\"}},\"type\":\"scatterpolargl\"}],\"scatterpolar\":[{\"marker\":{\"colorbar\":{\"outlinewidth\":0,\"ticks\":\"\"}},\"type\":\"scatterpolar\"}],\"scatter\":[{\"fillpattern\":{\"fillmode\":\"overlay\",\"size\":10,\"solidity\":0.2},\"type\":\"scatter\"}],\"scatterternary\":[{\"marker\":{\"colorbar\":{\"outlinewidth\":0,\"ticks\":\"\"}},\"type\":\"scatterternary\"}],\"surface\":[{\"colorbar\":{\"outlinewidth\":0,\"ticks\":\"\"},\"colorscale\":[[0.0,\"#0d0887\"],[0.1111111111111111,\"#46039f\"],[0.2222222222222222,\"#7201a8\"],[0.3333333333333333,\"#9c179e\"],[0.4444444444444444,\"#bd3786\"],[0.5555555555555556,\"#d8576b\"],[0.6666666666666666,\"#ed7953\"],[0.7777777777777778,\"#fb9f3a\"],[0.8888888888888888,\"#fdca26\"],[1.0,\"#f0f921\"]],\"type\":\"surface\"}],\"table\":[{\"cells\":{\"fill\":{\"color\":\"#EBF0F8\"},\"line\":{\"color\":\"white\"}},\"header\":{\"fill\":{\"color\":\"#C8D4E3\"},\"line\":{\"color\":\"white\"}},\"type\":\"table\"}]},\"layout\":{\"annotationdefaults\":{\"arrowcolor\":\"#2a3f5f\",\"arrowhead\":0,\"arrowwidth\":1},\"autotypenumbers\":\"strict\",\"coloraxis\":{\"colorbar\":{\"outlinewidth\":0,\"ticks\":\"\"}},\"colorscale\":{\"diverging\":[[0,\"#8e0152\"],[0.1,\"#c51b7d\"],[0.2,\"#de77ae\"],[0.3,\"#f1b6da\"],[0.4,\"#fde0ef\"],[0.5,\"#f7f7f7\"],[0.6,\"#e6f5d0\"],[0.7,\"#b8e186\"],[0.8,\"#7fbc41\"],[0.9,\"#4d9221\"],[1,\"#276419\"]],\"sequential\":[[0.0,\"#0d0887\"],[0.1111111111111111,\"#46039f\"],[0.2222222222222222,\"#7201a8\"],[0.3333333333333333,\"#9c179e\"],[0.4444444444444444,\"#bd3786\"],[0.5555555555555556,\"#d8576b\"],[0.6666666666666666,\"#ed7953\"],[0.7777777777777778,\"#fb9f3a\"],[0.8888888888888888,\"#fdca26\"],[1.0,\"#f0f921\"]],\"sequentialminus\":[[0.0,\"#0d0887\"],[0.1111111111111111,\"#46039f\"],[0.2222222222222222,\"#7201a8\"],[0.3333333333333333,\"#9c179e\"],[0.4444444444444444,\"#bd3786\"],[0.5555555555555556,\"#d8576b\"],[0.6666666666666666,\"#ed7953\"],[0.7777777777777778,\"#fb9f3a\"],[0.8888888888888888,\"#fdca26\"],[1.0,\"#f0f921\"]]},\"colorway\":[\"#636efa\",\"#EF553B\",\"#00cc96\",\"#ab63fa\",\"#FFA15A\",\"#19d3f3\",\"#FF6692\",\"#B6E880\",\"#FF97FF\",\"#FECB52\"],\"font\":{\"color\":\"#2a3f5f\"},\"geo\":{\"bgcolor\":\"white\",\"lakecolor\":\"white\",\"landcolor\":\"white\",\"showlakes\":true,\"showland\":true,\"subunitcolor\":\"#C8D4E3\"},\"hoverlabel\":{\"align\":\"left\"},\"hovermode\":\"closest\",\"mapbox\":{\"style\":\"light\"},\"paper_bgcolor\":\"white\",\"plot_bgcolor\":\"white\",\"polar\":{\"angularaxis\":{\"gridcolor\":\"#EBF0F8\",\"linecolor\":\"#EBF0F8\",\"ticks\":\"\"},\"bgcolor\":\"white\",\"radialaxis\":{\"gridcolor\":\"#EBF0F8\",\"linecolor\":\"#EBF0F8\",\"ticks\":\"\"}},\"scene\":{\"xaxis\":{\"backgroundcolor\":\"white\",\"gridcolor\":\"#DFE8F3\",\"gridwidth\":2,\"linecolor\":\"#EBF0F8\",\"showbackground\":true,\"ticks\":\"\",\"zerolinecolor\":\"#EBF0F8\"},\"yaxis\":{\"backgroundcolor\":\"white\",\"gridcolor\":\"#DFE8F3\",\"gridwidth\":2,\"linecolor\":\"#EBF0F8\",\"showbackground\":true,\"ticks\":\"\",\"zerolinecolor\":\"#EBF0F8\"},\"zaxis\":{\"backgroundcolor\":\"white\",\"gridcolor\":\"#DFE8F3\",\"gridwidth\":2,\"linecolor\":\"#EBF0F8\",\"showbackground\":true,\"ticks\":\"\",\"zerolinecolor\":\"#EBF0F8\"}},\"shapedefaults\":{\"line\":{\"color\":\"#2a3f5f\"}},\"ternary\":{\"aaxis\":{\"gridcolor\":\"#DFE8F3\",\"linecolor\":\"#A2B1C6\",\"ticks\":\"\"},\"baxis\":{\"gridcolor\":\"#DFE8F3\",\"linecolor\":\"#A2B1C6\",\"ticks\":\"\"},\"bgcolor\":\"white\",\"caxis\":{\"gridcolor\":\"#DFE8F3\",\"linecolor\":\"#A2B1C6\",\"ticks\":\"\"}},\"title\":{\"x\":0.05},\"xaxis\":{\"automargin\":true,\"gridcolor\":\"#EBF0F8\",\"linecolor\":\"#EBF0F8\",\"ticks\":\"\",\"title\":{\"standoff\":15},\"zerolinecolor\":\"#EBF0F8\",\"zerolinewidth\":2},\"yaxis\":{\"automargin\":true,\"gridcolor\":\"#EBF0F8\",\"linecolor\":\"#EBF0F8\",\"ticks\":\"\",\"title\":{\"standoff\":15},\"zerolinecolor\":\"#EBF0F8\",\"zerolinewidth\":2}}},\"xaxis\":{\"anchor\":\"y\",\"domain\":[0.0,0.3066666666666667],\"showticklabels\":false},\"yaxis\":{\"anchor\":\"x\",\"domain\":[0.545,1.0],\"title\":{\"text\":\"Groundtruth\"}},\"xaxis2\":{\"anchor\":\"y2\",\"domain\":[0.3466666666666667,0.6533333333333333],\"showticklabels\":false},\"yaxis2\":{\"anchor\":\"x2\",\"domain\":[0.545,1.0],\"showticklabels\":false},\"xaxis3\":{\"anchor\":\"y3\",\"domain\":[0.6933333333333334,1.0]},\"yaxis3\":{\"anchor\":\"x3\",\"domain\":[0.545,1.0],\"showticklabels\":false},\"xaxis4\":{\"anchor\":\"y4\",\"domain\":[0.0,0.3066666666666667],\"title\":{\"text\":\"Predicted\"}},\"yaxis4\":{\"anchor\":\"x4\",\"domain\":[0.0,0.455],\"title\":{\"text\":\"Groundtruth\"}},\"xaxis5\":{\"anchor\":\"y5\",\"domain\":[0.3466666666666667,0.6533333333333333],\"title\":{\"text\":\"Predicted\"}},\"yaxis5\":{\"anchor\":\"x5\",\"domain\":[0.0,0.455],\"showticklabels\":false},\"xaxis6\":{\"anchor\":\"y6\",\"domain\":[0.6933333333333334,1.0]},\"yaxis6\":{\"anchor\":\"x6\",\"domain\":[0.0,0.455],\"nticks\":6,\"title\":{\"text\":\"F1\"}},\"annotations\":[{\"font\":{\"size\":16},\"showarrow\":false,\"text\":\"Experiment 0\",\"x\":0.15333333333333335,\"xanchor\":\"center\",\"xref\":\"paper\",\"y\":1.0,\"yanchor\":\"bottom\",\"yref\":\"paper\"},{\"font\":{\"size\":16},\"showarrow\":false,\"text\":\"Experiment 1\",\"x\":0.5,\"xanchor\":\"center\",\"xref\":\"paper\",\"y\":1.0,\"yanchor\":\"bottom\",\"yref\":\"paper\"},{\"font\":{\"size\":16},\"showarrow\":false,\"text\":\"Experiment 2\",\"x\":0.8466666666666667,\"xanchor\":\"center\",\"xref\":\"paper\",\"y\":1.0,\"yanchor\":\"bottom\",\"yref\":\"paper\"},{\"font\":{\"size\":16},\"showarrow\":false,\"text\":\"Experiment 3\",\"x\":0.15333333333333335,\"xanchor\":\"center\",\"xref\":\"paper\",\"y\":0.455,\"yanchor\":\"bottom\",\"yref\":\"paper\"},{\"font\":{\"size\":16},\"showarrow\":false,\"text\":\"Experiment 4\",\"x\":0.5,\"xanchor\":\"center\",\"xref\":\"paper\",\"y\":0.455,\"yanchor\":\"bottom\",\"yref\":\"paper\"}]},                        {\"responsive\": true}                    ).then(function(){\n",
       "                            \n",
       "var gd = document.getElementById('883acb7f-e3f1-4288-8966-c91914afad76');\n",
       "var x = new MutationObserver(function (mutations, observer) {{\n",
       "        var display = window.getComputedStyle(gd).display;\n",
       "        if (!display || display === 'none') {{\n",
       "            console.log([gd, 'removed!']);\n",
       "            Plotly.purge(gd);\n",
       "            observer.disconnect();\n",
       "        }}\n",
       "}});\n",
       "\n",
       "// Listen for the removal of the full notebook cells\n",
       "var notebookContainer = gd.closest('#notebook-container');\n",
       "if (notebookContainer) {{\n",
       "    x.observe(notebookContainer, {childList: true});\n",
       "}}\n",
       "\n",
       "// Listen for the clearing of the current output cell\n",
       "var outputEl = gd.closest('.output');\n",
       "if (outputEl) {{\n",
       "    x.observe(outputEl, {childList: true});\n",
       "}}\n",
       "\n",
       "                        })                };                });            </script>        </div>"
      ]
     },
     "metadata": {},
     "output_type": "display_data"
    }
   ],
   "source": [
    "def get_scores_by_doc():\n",
    "    dct = {\n",
    "        'Document Type': [],\n",
    "        'Experiment': [],\n",
    "        'F1' : []\n",
    "    }\n",
    "    for idx in range(5):\n",
    "        df = pd.read_csv(f\"/home/sami/FLAIR/Results/TRANSFORMER/E{idx}/DistilBert_results.csv\")\n",
    "        df['DOCUMENT_TYPE'] = df['DOCUMENT_TYPE'].apply(lambda x: parse_doc_type(x))\n",
    "        for document_type, group in df.groupby('DOCUMENT_TYPE'):\n",
    "            dct['Document Type'].append(document_type)\n",
    "            dct['Experiment'].append(f'E{idx}')\n",
    "            y = group['GROUNDTRUTH'].to_numpy()\n",
    "            y_pred = group['PREDICTION'].to_numpy()\n",
    "            dct['F1'].append(np.round(f1_score(y, y_pred, average='weighted'),2))\n",
    "    scores_by_doc = pd.DataFrame(dct)\n",
    "    return scores_by_doc\n",
    "\n",
    "def add_to_scores_by_doc(fig, exp, score, doc, row, col):\n",
    "    colors = [\"#F0E442\", \"#E69F00\", \"#009E73\", \"#56B4E9\", \"#0072B2\"]\n",
    "    doc_types = ['Protocol', 'Twitter', 'Newspaper', 'Manifesto', 'Talkshow']\n",
    "    color_dict = {doc_type: color for doc_type, color in zip(doc_types, colors)}\n",
    "    fig.add_trace(go.Scatter(x=exp, y=score,marker=dict(color=color_dict[doc]), name=doc),row=row, col=col)\n",
    "    return fig\n",
    "\n",
    "def get_confusion_matrix(experiment):\n",
    "    path = f\"/home/sami/FLAIR/Results/TRANSFORMER/{experiment}/DistilBert_results.csv\"\n",
    "    df = pd.read_csv(path)\n",
    "    y = df['GROUNDTRUTH'].values\n",
    "    y_pred = df['PREDICTION'].values\n",
    "    return confusion_matrix(y, y_pred)\n",
    "\n",
    "def plot_detailed_scores():\n",
    "    # True label on y-axis\n",
    "    # Predicted label on x-axis\n",
    "    fig = make_subplots(rows=2, \n",
    "                    cols=3, \n",
    "                    specs=[[{},{},{}], [{},{},{}]],\n",
    "                    horizontal_spacing=.04,\n",
    "                    vertical_spacing=.09,\n",
    "                    subplot_titles=['Experiment 0','Experiment 1','Experiment 2','Experiment 3','Experiment 4',''],\n",
    "                   )\n",
    "    fig.update_layout(template='plotly_white')\n",
    "    scores_by_doc = get_scores_by_doc() # Needs adjustment for new format\n",
    "    for doc_type in ['Twitter', 'Newspaper', 'Manifesto', 'Talkshow', 'Protocol']:\n",
    "        temp = scores_by_doc[scores_by_doc['Document Type'] == doc_type]\n",
    "        doc = doc_type\n",
    "        exp = temp['Experiment'].to_list()\n",
    "        score = temp['F1'].to_list()\n",
    "        fig = add_to_scores_by_doc(fig, exp, score, doc, 2, 3)\n",
    "    label = ['Aussage', 'Meinung', 'Prognose', 'Sonstiges']\n",
    "    cm = get_confusion_matrix('E0')\n",
    "    fig.add_trace(go.Heatmap(\n",
    "                    z=cm,\n",
    "                    x=label,\n",
    "                    y=label,\n",
    "                    text = cm,\n",
    "                    texttemplate=\"%{text}\",\n",
    "                    colorscale='Viridis',\n",
    "                    showlegend=False,\n",
    "                    showscale=False\n",
    "                       ),row = 1, col = 1)\n",
    "    cm = get_confusion_matrix('E1')\n",
    "    fig.add_trace(go.Heatmap(\n",
    "                    z=cm,\n",
    "                    x=label,\n",
    "                    y=label,\n",
    "                    text = cm,\n",
    "                    texttemplate=\"%{text}\",\n",
    "                    colorscale='Viridis',\n",
    "                    showlegend=False,\n",
    "                    showscale=False\n",
    "                       ),row = 1, col =2)\n",
    "    cm = get_confusion_matrix('E2')\n",
    "    fig.add_trace(go.Heatmap(\n",
    "                    z=cm,\n",
    "                    x=label,\n",
    "                    y=label,\n",
    "                    text = cm,\n",
    "                    texttemplate=\"%{text}\",\n",
    "                    colorscale='Viridis',\n",
    "                    showlegend=False,\n",
    "                    showscale=False\n",
    "                       ),row = 1, col =3)\n",
    "    cm = get_confusion_matrix('E3')\n",
    "    fig.add_trace(go.Heatmap(\n",
    "                    z=cm,\n",
    "                    x=label,\n",
    "                    y=label,\n",
    "                    text = cm,\n",
    "                    texttemplate=\"%{text}\",\n",
    "                    colorscale='Viridis',\n",
    "                    showlegend=False,\n",
    "                    showscale=False\n",
    "                       ),row = 2, col =1)\n",
    "    cm = get_confusion_matrix('E4')\n",
    "    fig.add_trace(go.Heatmap(\n",
    "                    z=cm,\n",
    "                    x=label,\n",
    "                    y=label,\n",
    "                    text = cm,\n",
    "                    texttemplate=\"%{text}\",\n",
    "                    colorscale='Viridis',\n",
    "                    showlegend=False,\n",
    "                    showscale=False\n",
    "                       ),row = 2, col =2)\n",
    "\n",
    "    fig.update_yaxes(nticks=6,row=2, col=3)\n",
    "    fig.update_yaxes(title='Groundtruth', row=1, col=1)\n",
    "    fig.update_yaxes(title='Groundtruth', row=2, col=1)\n",
    "    fig.update_xaxes(title='Predicted', row=2, col=1)\n",
    "    fig.update_xaxes(title='Predicted', row=2, col=2)\n",
    "    fig.update_xaxes(showticklabels=False, row=1, col=1)\n",
    "    fig.update_xaxes(showticklabels=False, row=1, col=2)\n",
    "    fig.update_yaxes(showticklabels=False, row=1, col=2)\n",
    "    fig.update_yaxes(showticklabels=False, row=1, col=3)\n",
    "    fig.update_yaxes(showticklabels=False, row=2, col=2)\n",
    "    fig.update_yaxes(title_text='F1', row=2, col=3)\n",
    "    fig.update_yaxes(title_text='F1', secondary_y=False, row=3, col=1)\n",
    "    fig.update_yaxes(title_text='Sentences', secondary_y=True, row=3, col=1)\n",
    "    pio.write_image(fig, '/home/sami/FLAIR/Visuals/PNG/Detailed_Scores.png',scale=10, width=1080, height=600)\n",
    "    pio.write_image(fig, '/home/sami/FLAIR/Visuals/SVG/Detailed_Scores.svg',scale=10, width=1080, height=600)\n",
    "    pio.write_image(fig, '/home/sami/FLAIR/Visuals/JPG/Detailed_Scores.jpg',scale=10, width=1080, height=600)\n",
    "    pio.write_image(fig, '/home/sami/FLAIR/Visuals/PDF/Detailed_Scores.pdf',scale=10, width=1080, height=600)\n",
    "    fig.write_html(\"/home/sami/FLAIR/Visuals/HTML/Detailed_Scores.html\")\n",
    "    fig.show()\n",
    "plot_detailed_scores()"
   ]
  },
  {
   "cell_type": "code",
   "execution_count": null,
   "metadata": {},
   "outputs": [],
   "source": []
  },
  {
   "cell_type": "code",
   "execution_count": null,
   "metadata": {},
   "outputs": [],
   "source": []
  }
 ],
 "metadata": {
  "kernelspec": {
   "display_name": "venv",
   "language": "python",
   "name": "python3"
  },
  "language_info": {
   "codemirror_mode": {
    "name": "ipython",
    "version": 3
   },
   "file_extension": ".py",
   "mimetype": "text/x-python",
   "name": "python",
   "nbconvert_exporter": "python",
   "pygments_lexer": "ipython3",
   "version": "3.10.6"
  },
  "orig_nbformat": 4,
  "vscode": {
   "interpreter": {
    "hash": "2d013279ec9a42929aa5a6aee48384d90259723a5e75b817778f7a355b4aca79"
   }
  }
 },
 "nbformat": 4,
 "nbformat_minor": 2
}
