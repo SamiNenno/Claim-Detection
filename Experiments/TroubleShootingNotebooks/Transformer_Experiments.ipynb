{
 "cells": [
  {
   "cell_type": "code",
   "execution_count": null,
   "metadata": {},
   "outputs": [],
   "source": [
    "import json\n",
    "from tqdm import tqdm\n",
    "import numpy as np\n",
    "import pandas as pd\n",
    "import torch\n",
    "from scipy.special import softmax\n",
    "from sklearn.model_selection import StratifiedKFold\n",
    "from sklearn.metrics import f1_score, accuracy_score, precision_score, recall_score\n",
    "from datasets import Dataset, DatasetDict\n",
    "from transformers import AutoTokenizer\n",
    "from transformers import AutoModelForSequenceClassification\n",
    "from transformers import TrainingArguments, Trainer\n",
    "from codecarbon import EmissionsTracker"
   ]
  },
  {
   "cell_type": "code",
   "execution_count": null,
   "metadata": {},
   "outputs": [],
   "source": [
    "class Transformer():\n",
    "    def __init__(self, df, model_name:str, experiment:str, n_splits:int = 10, epochs:int = 5, batch_size:int=32):\n",
    "        self.transformer_dict = {\n",
    "        'Bert':'deepset/gbert-base',\n",
    "        'DistilBert':'distilbert-base-german-cased',\n",
    "        'GottBert': 'uklfr/gottbert-base',\n",
    "        'Electra': 'deepset/gelectra-base'}\n",
    "        self.df = self.adapt_data(df, experiment)\n",
    "        self.model_name = model_name\n",
    "        self.experiment = experiment\n",
    "        self.n_splits = n_splits\n",
    "        self.tokenizer = AutoTokenizer.from_pretrained(self.transformer_dict[self.model_name])\n",
    "        self.num_labels = 4\n",
    "        self.training_args = TrainingArguments(output_dir=\"test_trainer\", do_eval=False, per_device_train_batch_size=batch_size, num_train_epochs= epochs)\n",
    "        \n",
    "    def adapt_data(self, df, experiment):\n",
    "        df = df.copy().sample(n=600) #! REMOVE\n",
    "        df = df[df[experiment].notna()]\n",
    "        df['label'] = df[experiment].astype(int)\n",
    "        df = df[['SENTENCE', 'DOCUMENT_TYPE', 'DATE','INDEX', 'label']]\n",
    "        return df\n",
    "            \n",
    "    def tokenize_function(self, examples):\n",
    "            return self.tokenizer(examples[\"SENTENCE\"], padding=\"max_length\", truncation=True)\n",
    "    def tokenize_function_gottbert(self, examples):\n",
    "        return self.tokenizer(examples[\"SENTENCE\"], padding=\"max_length\", truncation=True, max_length=37)\n",
    "\n",
    "    def build_dataset(self, train_frame, test_frame):\n",
    "        train, test = Dataset.from_pandas(train_frame), Dataset.from_pandas(test_frame)\n",
    "        if self.model_name == 'GottBert':\n",
    "             return train.map(self.tokenize_function_gottbert, batched=True), test.map(self.tokenize_function_gottbert, batched=True) \n",
    "        else:\n",
    "            return train.map(self.tokenize_function, batched=True), test.map(self.tokenize_function, batched=True)     \n",
    "        \n",
    "    def train(self):\n",
    "        print(f'Train {self.model_name}...')\n",
    "        kf = StratifiedKFold(n_splits=self.n_splits, shuffle=True, random_state=1)\n",
    "        for train, test in tqdm(kf.split(self.df,self.df['label'].to_numpy()), desc=f'{self.n_splits}-fold Cross-Validation', total=self.n_splits):\n",
    "            torch.cuda.empty_cache()\n",
    "            model = AutoModelForSequenceClassification.from_pretrained(self.transformer_dict[self.model_name], num_labels=self.num_labels)\n",
    "            train_frame, test_frame = self.df.iloc[train,:].copy(), self.df.iloc[test,:].copy()\n",
    "            traindata, testdata = self.build_dataset(train_frame, test_frame)\n",
    "            trainer = Trainer(model=model,args=self.training_args,train_dataset=traindata)\n",
    "            trainer.train()\n",
    "            probs = pd.DataFrame(softmax(trainer.predict(testdata).predictions, axis=1))\n",
    "            probs['INDEX'] = test\n",
    "            yield probs\n",
    "            \n",
    "    def fit(self):\n",
    "        self.probs = pd.concat([df for df in self.train()]).sort_values(by=['INDEX'])\n",
    "        y_pred = np.argmax(self.probs.iloc[:,:-1].to_numpy(), axis=1)\n",
    "        y_true = self.df['label'].values\n",
    "        sentence = self.df['SENTENCE'].values\n",
    "        doc = self.df['DOCUMENT_TYPE'].values\n",
    "        date = self.df['DATE'].values\n",
    "        index = self.df['INDEX'].values\n",
    "        results = pd.DataFrame(dict(\n",
    "            SENTENCE = sentence,\n",
    "            DATE = date,\n",
    "            DOCUMENT_TYPE = doc,\n",
    "            INDEX = index,\n",
    "            GROUNDTRUTH = y_true,\n",
    "            PREDICTION = y_pred\n",
    "            ))\n",
    "        scores = {\n",
    "            'Model':self.model_name,\n",
    "            'Experiment' : self.experiment,\n",
    "            'Accuracy' : np.round(accuracy_score(y_true, y_pred),2),\n",
    "            'F1' : np.round(f1_score(y_true, y_pred, average='weighted'),2),\n",
    "            'Recall' : np.round(recall_score(y_true, y_pred, average='weighted'),2),\n",
    "            'Precision' : np.round(precision_score(y_true, y_pred, average='weighted'),2)\n",
    "            }\n",
    "        scores = pd.DataFrame([scores])\n",
    "        print(scores)\n",
    "        return results, scores"
   ]
  },
  {
   "cell_type": "code",
   "execution_count": null,
   "metadata": {},
   "outputs": [],
   "source": [
    "def transformer_experiment(df, model_name, experiment):\n",
    "    path = f\"/home/sami/FLAIR/Results/TRANSFORMER/{experiment}/\"\n",
    "    tracker = EmissionsTracker(project_name=f\"{experiment}_{model_name}\", output_dir='/home/sami/FLAIR/Data/Emissions/TRANSFORMER')\n",
    "    tracker.start()\n",
    "    transformer = Transformer(df=df, model_name=model_name, experiment=experiment)\n",
    "    results, scores = transformer.fit()\n",
    "    tracker.stop()\n",
    "    results.to_csv(f\"{path}{model_name}_results.csv\", index = False)\n",
    "    scores.to_csv(f\"{path}{model_name}_scores.csv\", index = False)"
   ]
  },
  {
   "cell_type": "code",
   "execution_count": null,
   "metadata": {},
   "outputs": [],
   "source": [
    "\n",
    "for experiment in ['E0', 'E1', 'E2', 'E3', 'E4']:\n",
    "    for model_name in ['DistilBert', 'GottBert', 'Bert', 'Electra']:\n",
    "        df = pd.read_csv('/home/sami/FLAIR/Data/Experiment_Frame.csv')\n",
    "        transformer_experiment(df, model_name, experiment)"
   ]
  },
  {
   "cell_type": "code",
   "execution_count": null,
   "metadata": {},
   "outputs": [],
   "source": []
  }
 ],
 "metadata": {
  "kernelspec": {
   "display_name": "venv",
   "language": "python",
   "name": "python3"
  },
  "language_info": {
   "codemirror_mode": {
    "name": "ipython",
    "version": 3
   },
   "file_extension": ".py",
   "mimetype": "text/x-python",
   "name": "python",
   "nbconvert_exporter": "python",
   "pygments_lexer": "ipython3",
   "version": "3.10.6 (main, Nov 14 2022, 16:10:14) [GCC 11.3.0]"
  },
  "orig_nbformat": 4,
  "vscode": {
   "interpreter": {
    "hash": "2d013279ec9a42929aa5a6aee48384d90259723a5e75b817778f7a355b4aca79"
   }
  }
 },
 "nbformat": 4,
 "nbformat_minor": 2
}
