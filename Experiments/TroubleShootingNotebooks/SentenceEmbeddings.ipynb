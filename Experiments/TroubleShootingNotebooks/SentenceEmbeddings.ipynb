{
 "cells": [
  {
   "cell_type": "code",
   "execution_count": 1,
   "metadata": {},
   "outputs": [
    {
     "name": "stderr",
     "output_type": "stream",
     "text": [
      "/home/sami/FLAIR/venv/lib/python3.10/site-packages/tqdm/auto.py:22: TqdmWarning: IProgress not found. Please update jupyter and ipywidgets. See https://ipywidgets.readthedocs.io/en/stable/user_install.html\n",
      "  from .autonotebook import tqdm as notebook_tqdm\n"
     ]
    }
   ],
   "source": [
    "import pandas as pd\n",
    "from sentence_transformers import SentenceTransformer"
   ]
  },
  {
   "cell_type": "code",
   "execution_count": 2,
   "metadata": {},
   "outputs": [
    {
     "name": "stderr",
     "output_type": "stream",
     "text": [
      "No sentence-transformers model found with name /home/sami/.cache/torch/sentence_transformers/deepset_gbert-large. Creating a new one with MEAN pooling.\n",
      "Some weights of the model checkpoint at /home/sami/.cache/torch/sentence_transformers/deepset_gbert-large were not used when initializing BertModel: ['cls.predictions.decoder.bias', 'cls.seq_relationship.weight', 'cls.seq_relationship.bias', 'cls.predictions.transform.dense.weight', 'cls.predictions.bias', 'cls.predictions.decoder.weight', 'cls.predictions.transform.LayerNorm.bias', 'cls.predictions.transform.dense.bias', 'cls.predictions.transform.LayerNorm.weight']\n",
      "- This IS expected if you are initializing BertModel from the checkpoint of a model trained on another task or with another architecture (e.g. initializing a BertForSequenceClassification model from a BertForPreTraining model).\n",
      "- This IS NOT expected if you are initializing BertModel from the checkpoint of a model that you expect to be exactly identical (initializing a BertForSequenceClassification model from a BertForSequenceClassification model).\n",
      "Batches: 100%|██████████| 268/268 [00:19<00:00, 13.98it/s]\n"
     ]
    }
   ],
   "source": [
    "df = pd.read_csv('/home/sami/FLAIR/Data/Experiment_Frame.csv')\n",
    "df = df.sort_values('INDEX')\n",
    "df = df[['SENTENCE', 'INDEX','E0','E1','E2','E3','E4']]\n",
    "model = SentenceTransformer('deepset/gbert-large', device='cuda')\n",
    "sentences = df.SENTENCE.to_list()\n",
    "embeddings = model.encode(sentences, show_progress_bar=True, normalize_embeddings=True)\n",
    "embedding_frame = pd.DataFrame(embeddings)\n",
    "pd.concat([df, embedding_frame], axis=1).to_csv('/home/sami/FLAIR/Data/Sentence_Embeddings.csv', index = False)"
   ]
  },
  {
   "cell_type": "code",
   "execution_count": null,
   "metadata": {},
   "outputs": [],
   "source": []
  }
 ],
 "metadata": {
  "kernelspec": {
   "display_name": "venv",
   "language": "python",
   "name": "python3"
  },
  "language_info": {
   "codemirror_mode": {
    "name": "ipython",
    "version": 3
   },
   "file_extension": ".py",
   "mimetype": "text/x-python",
   "name": "python",
   "nbconvert_exporter": "python",
   "pygments_lexer": "ipython3",
   "version": "3.10.6"
  },
  "orig_nbformat": 4,
  "vscode": {
   "interpreter": {
    "hash": "2d013279ec9a42929aa5a6aee48384d90259723a5e75b817778f7a355b4aca79"
   }
  }
 },
 "nbformat": 4,
 "nbformat_minor": 2
}
