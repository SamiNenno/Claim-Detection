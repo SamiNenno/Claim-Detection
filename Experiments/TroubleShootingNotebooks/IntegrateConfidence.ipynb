{
 "cells": [
  {
   "cell_type": "code",
   "execution_count": 1,
   "metadata": {},
   "outputs": [],
   "source": [
    "import pandas as pd\n",
    "import numpy as np\n",
    "from sklearn.metrics import accuracy_score"
   ]
  },
  {
   "cell_type": "code",
   "execution_count": 5,
   "metadata": {},
   "outputs": [],
   "source": [
    "df = pd.read_csv('/home/sami/FLAIR/Data/Experiment_Frame.csv')\n",
    "confidence1 = pd.read_csv('/home/sami/FLAIR/Results/CONFIDENT/Confident_Result_E1.csv')\n",
    "confidence1.loc[confidence1[confidence1.Confidence == True].index,'E2'] = np.nan\n",
    "confidence1.loc[confidence1[confidence1.Confidence == True].index,'E2_Class'] = np.nan\n",
    "confidence1 = pd.concat([confidence1, df[df.E1.isna()]]).sort_values('INDEX')\n",
    "df['E2'] = confidence1.E2.values\n",
    "df['E2_Class'] = confidence1.E2_Class.values\n",
    "\n",
    "confidence3 = pd.read_csv('/home/sami/FLAIR/Results/CONFIDENT/Confident_Result_E3.csv')\n",
    "confidence3.loc[confidence3[confidence3.Confidence == True].index,'E4'] = np.nan\n",
    "confidence3.loc[confidence3[confidence3.Confidence == True].index,'E4_Class'] = np.nan\n",
    "confidence3 = pd.concat([confidence3, df[df.E3.isna()]]).sort_values('INDEX')\n",
    "df['E4'] = confidence3.E4.values\n",
    "df['E4_Class'] = confidence3.E4_Class.values\n",
    "\n",
    "print('E0 and E1:', accuracy_score(df[df.E0.notna()].E1, df[df.E0.notna()].E0))\n",
    "print('E1 and E2:',accuracy_score(df[df.E2.notna()].E1, df[df.E2.notna()].E2))\n",
    "print('E3 and E4:',accuracy_score(df[df.E4.notna()].E3, df[df.E4.notna()].E4))\n",
    "\n",
    "df.to_csv('/home/sami/FLAIR/Data/Experiment_Frame.csv', index = False)"
   ]
  },
  {
   "cell_type": "code",
   "execution_count": null,
   "metadata": {},
   "outputs": [],
   "source": []
  }
 ],
 "metadata": {
  "kernelspec": {
   "display_name": "venv",
   "language": "python",
   "name": "python3"
  },
  "language_info": {
   "codemirror_mode": {
    "name": "ipython",
    "version": 3
   },
   "file_extension": ".py",
   "mimetype": "text/x-python",
   "name": "python",
   "nbconvert_exporter": "python",
   "pygments_lexer": "ipython3",
   "version": "3.10.6"
  },
  "orig_nbformat": 4,
  "vscode": {
   "interpreter": {
    "hash": "2d013279ec9a42929aa5a6aee48384d90259723a5e75b817778f7a355b4aca79"
   }
  }
 },
 "nbformat": 4,
 "nbformat_minor": 2
}
